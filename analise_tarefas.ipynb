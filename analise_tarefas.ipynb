{
 "cells": [
  {
   "cell_type": "markdown",
   "metadata": {},
   "source": [
    "# Análise das tarefas de depósito Y999"
   ]
  },
  {
   "cell_type": "markdown",
   "metadata": {},
   "source": [
    "#### Importando as bibliotecas necessárias"
   ]
  },
  {
   "cell_type": "code",
   "execution_count": 1,
   "metadata": {},
   "outputs": [],
   "source": [
    "import pandas as pd\n",
    "import seaborn as sns\n",
    "import matplotlib.pyplot as plt\n",
    "import os\n",
    "from config import *"
   ]
  },
  {
   "cell_type": "markdown",
   "metadata": {},
   "source": [
    "#### Pré-definições de formatações"
   ]
  },
  {
   "cell_type": "code",
   "execution_count": 2,
   "metadata": {},
   "outputs": [],
   "source": [
    "#paleta = 'rocket'\n",
    "#tamanho_grafico = [16,10]"
   ]
  },
  {
   "cell_type": "markdown",
   "metadata": {},
   "source": [
    "#### Listando os arquivos das tarefas e armazenando em uma variável"
   ]
  },
  {
   "cell_type": "markdown",
   "metadata": {},
   "source": [
    "<p>Período dos dados das tarefas: <strong>10 de fevereiro</strong> a <strong>09 de abril</strong>"
   ]
  },
  {
   "cell_type": "code",
   "execution_count": 3,
   "metadata": {},
   "outputs": [
    {
     "data": {
      "text/plain": [
       "['tarefas_01-01_a_31-01.xlsx',\n",
       " 'tarefas_01-02_a_28-02.xlsx',\n",
       " 'tarefas_01-03_a_31-03.xlsx',\n",
       " 'tarefas_01-04_a_30-04.xlsx',\n",
       " 'tarefas_01-05_a_28-05.xlsx']"
      ]
     },
     "execution_count": 3,
     "metadata": {},
     "output_type": "execute_result"
    }
   ],
   "source": [
    "path = 'dados/Tarefas/tarefas/'\n",
    "arquivos = os.listdir(path)\n",
    "arquivos"
   ]
  },
  {
   "cell_type": "markdown",
   "metadata": {},
   "source": [
    "#### Laço 'for' para criar variável com todos os arquivos da pasta de tarefas"
   ]
  },
  {
   "cell_type": "code",
   "execution_count": 4,
   "metadata": {},
   "outputs": [
    {
     "name": "stdout",
     "output_type": "stream",
     "text": [
      "dados/Tarefas/tarefas/tarefas_01-01_a_31-01.xlsx\n",
      "dados/Tarefas/tarefas/tarefas_01-02_a_28-02.xlsx\n",
      "dados/Tarefas/tarefas/tarefas_01-03_a_31-03.xlsx\n",
      "dados/Tarefas/tarefas/tarefas_01-04_a_30-04.xlsx\n",
      "dados/Tarefas/tarefas/tarefas_01-05_a_28-05.xlsx\n"
     ]
    }
   ],
   "source": [
    "lista = []\n",
    "\n",
    "for n in range(0,len(arquivos)):\n",
    "    file = path+arquivos[n]\n",
    "    print(file)\n",
    "    #c_time = time.strftime(\"%d/%m/%Y\", time.strptime(time.ctime(os.path.getmtime(path))))\n",
    "    locals()['dados%s' %n] = pd.read_excel(\n",
    "        file,\n",
    "        usecols=('C:I,M:N,P'),\n",
    "        names=[\n",
    "            'tipo_processo',\n",
    "            'autor',\n",
    "            'data_criacao',\n",
    "            'hora_criacao',\n",
    "            'pd_origem',\n",
    "            'pd_destino',\n",
    "            'produto',\n",
    "            'tipo_estoque',\n",
    "            'desc_tipo_estoque',\n",
    "            'uc'\n",
    "            ],\n",
    "            dtype={\n",
    "                'uc':'string'\n",
    "                }\n",
    "            )\n",
    "    #locals()['dados%s' %n]['data'] = c_time\n",
    "    lista.append(locals()['dados%s' %n])"
   ]
  },
  {
   "cell_type": "markdown",
   "metadata": {},
   "source": [
    "#### Concatenando todos os dataframes de tarefas criados para uma variável"
   ]
  },
  {
   "cell_type": "code",
   "execution_count": 68,
   "metadata": {},
   "outputs": [],
   "source": [
    "dados = pd.concat(lista)"
   ]
  },
  {
   "cell_type": "code",
   "execution_count": 69,
   "metadata": {},
   "outputs": [],
   "source": [
    "dia_semana = {\n",
    "    0:'seg',\n",
    "    1:'ter',\n",
    "    2:'qua',\n",
    "    3:'qui',\n",
    "    4:'sex',\n",
    "    5:'sab',\n",
    "    6:'dom',\n",
    "}"
   ]
  },
  {
   "cell_type": "code",
   "execution_count": 70,
   "metadata": {},
   "outputs": [],
   "source": [
    "dados['dia_semana'] = dados['data_criacao'].dt.weekday\n",
    "dados['nome_dia_semana'] = dados['dia_semana'].map(dia_semana)"
   ]
  },
  {
   "cell_type": "code",
   "execution_count": null,
   "metadata": {},
   "outputs": [],
   "source": [
    "dados_dropna_uc = dados.dropna(subset=['uc'])\n",
    "dados_dropna_uc.shape"
   ]
  },
  {
   "cell_type": "code",
   "execution_count": 117,
   "metadata": {},
   "outputs": [],
   "source": [
    "dados_dropna_uc.to_csv('dados/Tarefas/tarefas_concat.csv', sep=',', index=None)"
   ]
  },
  {
   "cell_type": "code",
   "execution_count": 72,
   "metadata": {},
   "outputs": [
    {
     "data": {
      "text/html": [
       "<div>\n",
       "<style scoped>\n",
       "    .dataframe tbody tr th:only-of-type {\n",
       "        vertical-align: middle;\n",
       "    }\n",
       "\n",
       "    .dataframe tbody tr th {\n",
       "        vertical-align: top;\n",
       "    }\n",
       "\n",
       "    .dataframe thead th {\n",
       "        text-align: right;\n",
       "    }\n",
       "</style>\n",
       "<table border=\"1\" class=\"dataframe\">\n",
       "  <thead>\n",
       "    <tr style=\"text-align: right;\">\n",
       "      <th></th>\n",
       "      <th>tipo_processo</th>\n",
       "      <th>autor</th>\n",
       "      <th>data_criacao</th>\n",
       "      <th>hora_criacao</th>\n",
       "      <th>pd_origem</th>\n",
       "      <th>pd_destino</th>\n",
       "      <th>produto</th>\n",
       "      <th>tipo_estoque</th>\n",
       "      <th>desc_tipo_estoque</th>\n",
       "      <th>uc</th>\n",
       "      <th>dia_semana</th>\n",
       "      <th>nome_dia_semana</th>\n",
       "    </tr>\n",
       "  </thead>\n",
       "  <tbody>\n",
       "    <tr>\n",
       "      <th>0</th>\n",
       "      <td>Registro da saída de mercadoria</td>\n",
       "      <td>SP3PROD01</td>\n",
       "      <td>2022-01-31</td>\n",
       "      <td>23:59:53</td>\n",
       "      <td>AAP-LOP3-SA1</td>\n",
       "      <td>NaN</td>\n",
       "      <td>SA0155</td>\n",
       "      <td>Estoque utilização livre SA1</td>\n",
       "      <td>J1</td>\n",
       "      <td>&lt;NA&gt;</td>\n",
       "      <td>0</td>\n",
       "      <td>seg</td>\n",
       "    </tr>\n",
       "    <tr>\n",
       "      <th>1</th>\n",
       "      <td>Registro da entrada de mercadorias</td>\n",
       "      <td>SP3EMBA01</td>\n",
       "      <td>2022-01-31</td>\n",
       "      <td>23:59:34</td>\n",
       "      <td>NaN</td>\n",
       "      <td>GR-PROD</td>\n",
       "      <td>509002</td>\n",
       "      <td>Estoque utilização livre 005</td>\n",
       "      <td>01</td>\n",
       "      <td>&lt;NA&gt;</td>\n",
       "      <td>0</td>\n",
       "      <td>seg</td>\n",
       "    </tr>\n",
       "    <tr>\n",
       "      <th>2</th>\n",
       "      <td>Registro da saída de mercadoria</td>\n",
       "      <td>SP3EMBA01</td>\n",
       "      <td>2022-01-31</td>\n",
       "      <td>23:59:25</td>\n",
       "      <td>AAP-LOP3-SA1</td>\n",
       "      <td>NaN</td>\n",
       "      <td>SZ0357</td>\n",
       "      <td>Estoque utilização livre SA1</td>\n",
       "      <td>J1</td>\n",
       "      <td>&lt;NA&gt;</td>\n",
       "      <td>0</td>\n",
       "      <td>seg</td>\n",
       "    </tr>\n",
       "    <tr>\n",
       "      <th>3</th>\n",
       "      <td>Registro da entrada de mercadorias</td>\n",
       "      <td>SP3PROD01</td>\n",
       "      <td>2022-01-31</td>\n",
       "      <td>23:59:20</td>\n",
       "      <td>NaN</td>\n",
       "      <td>GR-PROD</td>\n",
       "      <td>SA0593</td>\n",
       "      <td>Estoque QA 005</td>\n",
       "      <td>03</td>\n",
       "      <td>&lt;NA&gt;</td>\n",
       "      <td>0</td>\n",
       "      <td>seg</td>\n",
       "    </tr>\n",
       "    <tr>\n",
       "      <th>4</th>\n",
       "      <td>Registro da saída de mercadoria</td>\n",
       "      <td>SP3PROD01</td>\n",
       "      <td>2022-01-31</td>\n",
       "      <td>23:59:09</td>\n",
       "      <td>AAP-LOP3-SA1</td>\n",
       "      <td>NaN</td>\n",
       "      <td>SA0155</td>\n",
       "      <td>Estoque utilização livre SA1</td>\n",
       "      <td>J1</td>\n",
       "      <td>&lt;NA&gt;</td>\n",
       "      <td>0</td>\n",
       "      <td>seg</td>\n",
       "    </tr>\n",
       "  </tbody>\n",
       "</table>\n",
       "</div>"
      ],
      "text/plain": [
       "                        tipo_processo      autor data_criacao hora_criacao  \\\n",
       "0     Registro da saída de mercadoria  SP3PROD01   2022-01-31     23:59:53   \n",
       "1  Registro da entrada de mercadorias  SP3EMBA01   2022-01-31     23:59:34   \n",
       "2     Registro da saída de mercadoria  SP3EMBA01   2022-01-31     23:59:25   \n",
       "3  Registro da entrada de mercadorias  SP3PROD01   2022-01-31     23:59:20   \n",
       "4     Registro da saída de mercadoria  SP3PROD01   2022-01-31     23:59:09   \n",
       "\n",
       "      pd_origem pd_destino produto                  tipo_estoque  \\\n",
       "0  AAP-LOP3-SA1        NaN  SA0155  Estoque utilização livre SA1   \n",
       "1           NaN    GR-PROD  509002  Estoque utilização livre 005   \n",
       "2  AAP-LOP3-SA1        NaN  SZ0357  Estoque utilização livre SA1   \n",
       "3           NaN    GR-PROD  SA0593                Estoque QA 005   \n",
       "4  AAP-LOP3-SA1        NaN  SA0155  Estoque utilização livre SA1   \n",
       "\n",
       "  desc_tipo_estoque    uc  dia_semana nome_dia_semana  \n",
       "0                J1  <NA>           0             seg  \n",
       "1                01  <NA>           0             seg  \n",
       "2                J1  <NA>           0             seg  \n",
       "3                03  <NA>           0             seg  \n",
       "4                J1  <NA>           0             seg  "
      ]
     },
     "execution_count": 72,
     "metadata": {},
     "output_type": "execute_result"
    }
   ],
   "source": [
    "dados.head()"
   ]
  },
  {
   "cell_type": "code",
   "execution_count": 73,
   "metadata": {},
   "outputs": [
    {
     "data": {
      "text/plain": [
       "(994369, 12)"
      ]
     },
     "execution_count": 73,
     "metadata": {},
     "output_type": "execute_result"
    }
   ],
   "source": [
    "dados.shape"
   ]
  },
  {
   "cell_type": "code",
   "execution_count": 74,
   "metadata": {},
   "outputs": [
    {
     "data": {
      "text/html": [
       "<div>\n",
       "<style scoped>\n",
       "    .dataframe tbody tr th:only-of-type {\n",
       "        vertical-align: middle;\n",
       "    }\n",
       "\n",
       "    .dataframe tbody tr th {\n",
       "        vertical-align: top;\n",
       "    }\n",
       "\n",
       "    .dataframe thead th {\n",
       "        text-align: right;\n",
       "    }\n",
       "</style>\n",
       "<table border=\"1\" class=\"dataframe\">\n",
       "  <thead>\n",
       "    <tr style=\"text-align: right;\">\n",
       "      <th></th>\n",
       "      <th>tipo_processo</th>\n",
       "      <th>autor</th>\n",
       "      <th>data_criacao</th>\n",
       "      <th>hora_criacao</th>\n",
       "      <th>pd_origem</th>\n",
       "      <th>pd_destino</th>\n",
       "      <th>produto</th>\n",
       "      <th>tipo_estoque</th>\n",
       "      <th>desc_tipo_estoque</th>\n",
       "      <th>uc</th>\n",
       "      <th>dia_semana</th>\n",
       "      <th>nome_dia_semana</th>\n",
       "    </tr>\n",
       "  </thead>\n",
       "  <tbody>\n",
       "    <tr>\n",
       "      <th>104513</th>\n",
       "      <td>Registro de transferência</td>\n",
       "      <td>SP3MISILVA</td>\n",
       "      <td>2022-01-11</td>\n",
       "      <td>15:09:51</td>\n",
       "      <td>NaN</td>\n",
       "      <td>LOG</td>\n",
       "      <td>SA0165</td>\n",
       "      <td>Estoque bloqueado 005</td>\n",
       "      <td>02</td>\n",
       "      <td>3346951</td>\n",
       "      <td>1</td>\n",
       "      <td>ter</td>\n",
       "    </tr>\n",
       "    <tr>\n",
       "      <th>106461</th>\n",
       "      <td>Registro da entrada de mercadorias</td>\n",
       "      <td>LPOLICARPO</td>\n",
       "      <td>2022-01-03</td>\n",
       "      <td>02:50:02</td>\n",
       "      <td>NaN</td>\n",
       "      <td>LOG</td>\n",
       "      <td>SA0165</td>\n",
       "      <td>Estoque QA 005</td>\n",
       "      <td>03</td>\n",
       "      <td>3346951</td>\n",
       "      <td>0</td>\n",
       "      <td>seg</td>\n",
       "    </tr>\n",
       "    <tr>\n",
       "      <th>124157</th>\n",
       "      <td>Registro da entrada de mercadorias</td>\n",
       "      <td>SP3MHLEITE</td>\n",
       "      <td>2022-03-15</td>\n",
       "      <td>11:16:51</td>\n",
       "      <td>NaN</td>\n",
       "      <td>LOG</td>\n",
       "      <td>SA0165</td>\n",
       "      <td>Estoque bloqueado 005</td>\n",
       "      <td>02</td>\n",
       "      <td>3346951</td>\n",
       "      <td>1</td>\n",
       "      <td>ter</td>\n",
       "    </tr>\n",
       "    <tr>\n",
       "      <th>133620</th>\n",
       "      <td>Registro da entrada de mercadorias</td>\n",
       "      <td>SP3MHLEITE</td>\n",
       "      <td>2022-03-14</td>\n",
       "      <td>09:18:00</td>\n",
       "      <td>NaN</td>\n",
       "      <td>LOG</td>\n",
       "      <td>SA0165</td>\n",
       "      <td>Estoque bloqueado 005</td>\n",
       "      <td>02</td>\n",
       "      <td>3346951</td>\n",
       "      <td>0</td>\n",
       "      <td>seg</td>\n",
       "    </tr>\n",
       "    <tr>\n",
       "      <th>17069</th>\n",
       "      <td>Inventário</td>\n",
       "      <td>SP3MHLEITE</td>\n",
       "      <td>2022-05-26</td>\n",
       "      <td>14:41:56</td>\n",
       "      <td>1</td>\n",
       "      <td>NaN</td>\n",
       "      <td>SA0165</td>\n",
       "      <td>Estoque bloqueado 005</td>\n",
       "      <td>02</td>\n",
       "      <td>3346951</td>\n",
       "      <td>3</td>\n",
       "      <td>qui</td>\n",
       "    </tr>\n",
       "    <tr>\n",
       "      <th>34149</th>\n",
       "      <td>Transferência interna de estoque</td>\n",
       "      <td>SP3MHLEITE</td>\n",
       "      <td>2022-05-25</td>\n",
       "      <td>10:15:44</td>\n",
       "      <td>INV</td>\n",
       "      <td>1</td>\n",
       "      <td>SA0165</td>\n",
       "      <td>Estoque bloqueado 005</td>\n",
       "      <td>02</td>\n",
       "      <td>3346951</td>\n",
       "      <td>2</td>\n",
       "      <td>qua</td>\n",
       "    </tr>\n",
       "    <tr>\n",
       "      <th>129890</th>\n",
       "      <td>Transferência interna de estoque</td>\n",
       "      <td>SP3VLALMEIDA</td>\n",
       "      <td>2022-05-15</td>\n",
       "      <td>20:20:58</td>\n",
       "      <td>LOG</td>\n",
       "      <td>INV</td>\n",
       "      <td>SA0165</td>\n",
       "      <td>Estoque bloqueado 005</td>\n",
       "      <td>02</td>\n",
       "      <td>3346951</td>\n",
       "      <td>6</td>\n",
       "      <td>dom</td>\n",
       "    </tr>\n",
       "  </tbody>\n",
       "</table>\n",
       "</div>"
      ],
      "text/plain": [
       "                             tipo_processo         autor data_criacao  \\\n",
       "104513           Registro de transferência    SP3MISILVA   2022-01-11   \n",
       "106461  Registro da entrada de mercadorias    LPOLICARPO   2022-01-03   \n",
       "124157  Registro da entrada de mercadorias    SP3MHLEITE   2022-03-15   \n",
       "133620  Registro da entrada de mercadorias    SP3MHLEITE   2022-03-14   \n",
       "17069                           Inventário    SP3MHLEITE   2022-05-26   \n",
       "34149     Transferência interna de estoque    SP3MHLEITE   2022-05-25   \n",
       "129890    Transferência interna de estoque  SP3VLALMEIDA   2022-05-15   \n",
       "\n",
       "       hora_criacao pd_origem pd_destino produto           tipo_estoque  \\\n",
       "104513     15:09:51       NaN        LOG  SA0165  Estoque bloqueado 005   \n",
       "106461     02:50:02       NaN        LOG  SA0165         Estoque QA 005   \n",
       "124157     11:16:51       NaN        LOG  SA0165  Estoque bloqueado 005   \n",
       "133620     09:18:00       NaN        LOG  SA0165  Estoque bloqueado 005   \n",
       "17069      14:41:56         1        NaN  SA0165  Estoque bloqueado 005   \n",
       "34149      10:15:44       INV          1  SA0165  Estoque bloqueado 005   \n",
       "129890     20:20:58       LOG        INV  SA0165  Estoque bloqueado 005   \n",
       "\n",
       "       desc_tipo_estoque       uc  dia_semana nome_dia_semana  \n",
       "104513                02  3346951           1             ter  \n",
       "106461                03  3346951           0             seg  \n",
       "124157                02  3346951           1             ter  \n",
       "133620                02  3346951           0             seg  \n",
       "17069                 02  3346951           3             qui  \n",
       "34149                 02  3346951           2             qua  \n",
       "129890                02  3346951           6             dom  "
      ]
     },
     "execution_count": 74,
     "metadata": {},
     "output_type": "execute_result"
    }
   ],
   "source": [
    "dados.query('uc == \"3346951\"')"
   ]
  },
  {
   "cell_type": "code",
   "execution_count": 76,
   "metadata": {},
   "outputs": [
    {
     "data": {
      "text/plain": [
       "Transferência interna de estoque      211782\n",
       "Registro de transferência             208890\n",
       "Saída de depósito                     147442\n",
       "Registro da entrada de mercadorias     90040\n",
       "Inventário                              1943\n",
       "Entrada em depósito                        5\n",
       "Name: tipo_processo, dtype: int64"
      ]
     },
     "execution_count": 76,
     "metadata": {},
     "output_type": "execute_result"
    }
   ],
   "source": [
    "dados_dropna_uc['tipo_processo'].value_counts()"
   ]
  },
  {
   "cell_type": "code",
   "execution_count": 78,
   "metadata": {},
   "outputs": [
    {
     "data": {
      "text/plain": [
       "Registro de transferência             421716\n",
       "Transferência interna de estoque      211905\n",
       "Saída de depósito                     147442\n",
       "Registro da entrada de mercadorias    109235\n",
       "Registro da saída de mercadoria       102123\n",
       "Inventário                              1943\n",
       "Entrada em depósito                        5\n",
       "Name: tipo_processo, dtype: int64"
      ]
     },
     "execution_count": 78,
     "metadata": {},
     "output_type": "execute_result"
    }
   ],
   "source": [
    "dados['tipo_processo'].value_counts()"
   ]
  },
  {
   "cell_type": "code",
   "execution_count": 79,
   "metadata": {},
   "outputs": [
    {
     "data": {
      "text/plain": [
       "(994369, 12)"
      ]
     },
     "execution_count": 79,
     "metadata": {},
     "output_type": "execute_result"
    }
   ],
   "source": [
    "dados.shape"
   ]
  },
  {
   "cell_type": "code",
   "execution_count": 80,
   "metadata": {},
   "outputs": [
    {
     "name": "stdout",
     "output_type": "stream",
     "text": [
      "<class 'pandas.core.frame.DataFrame'>\n",
      "Int64Index: 994369 entries, 0 to 236094\n",
      "Data columns (total 12 columns):\n",
      " #   Column             Non-Null Count   Dtype         \n",
      "---  ------             --------------   -----         \n",
      " 0   tipo_processo      994369 non-null  object        \n",
      " 1   autor              994369 non-null  object        \n",
      " 2   data_criacao       994369 non-null  datetime64[ns]\n",
      " 3   hora_criacao       994369 non-null  object        \n",
      " 4   pd_origem          664847 non-null  object        \n",
      " 5   pd_destino         679173 non-null  object        \n",
      " 6   produto            941276 non-null  object        \n",
      " 7   tipo_estoque       941276 non-null  object        \n",
      " 8   desc_tipo_estoque  941276 non-null  object        \n",
      " 9   uc                 660102 non-null  string        \n",
      " 10  dia_semana         994369 non-null  int64         \n",
      " 11  nome_dia_semana    994369 non-null  object        \n",
      "dtypes: datetime64[ns](1), int64(1), object(9), string(1)\n",
      "memory usage: 98.6+ MB\n"
     ]
    }
   ],
   "source": [
    "dados.info()"
   ]
  },
  {
   "cell_type": "markdown",
   "metadata": {},
   "source": [
    "#### Lendo os arquivos xlsx complementares e armazenando nas variáveis"
   ]
  },
  {
   "cell_type": "code",
   "execution_count": 81,
   "metadata": {},
   "outputs": [],
   "source": [
    "file_estoque = 'dados/mon_28_05.xlsx'\n",
    "file_posicoes = 'dados/arquivos_base/Posicoes.xlsx'\n",
    "estoque = pd.read_excel(file_estoque, dtype={'Unidade comercial':'string'})\n",
    "posicoes = pd.read_excel(file_posicoes)"
   ]
  },
  {
   "cell_type": "code",
   "execution_count": 82,
   "metadata": {},
   "outputs": [
    {
     "data": {
      "text/html": [
       "<div>\n",
       "<style scoped>\n",
       "    .dataframe tbody tr th:only-of-type {\n",
       "        vertical-align: middle;\n",
       "    }\n",
       "\n",
       "    .dataframe tbody tr th {\n",
       "        vertical-align: top;\n",
       "    }\n",
       "\n",
       "    .dataframe thead th {\n",
       "        text-align: right;\n",
       "    }\n",
       "</style>\n",
       "<table border=\"1\" class=\"dataframe\">\n",
       "  <thead>\n",
       "    <tr style=\"text-align: right;\">\n",
       "      <th></th>\n",
       "      <th>Pos</th>\n",
       "      <th>Tipo</th>\n",
       "    </tr>\n",
       "  </thead>\n",
       "  <tbody>\n",
       "    <tr>\n",
       "      <th>0</th>\n",
       "      <td>4</td>\n",
       "      <td>Virtual</td>\n",
       "    </tr>\n",
       "  </tbody>\n",
       "</table>\n",
       "</div>"
      ],
      "text/plain": [
       "  Pos     Tipo\n",
       "0   4  Virtual"
      ]
     },
     "execution_count": 82,
     "metadata": {},
     "output_type": "execute_result"
    }
   ],
   "source": [
    "posicoes.head(1)"
   ]
  },
  {
   "cell_type": "code",
   "execution_count": 83,
   "metadata": {},
   "outputs": [
    {
     "data": {
      "text/html": [
       "<div>\n",
       "<style scoped>\n",
       "    .dataframe tbody tr th:only-of-type {\n",
       "        vertical-align: middle;\n",
       "    }\n",
       "\n",
       "    .dataframe tbody tr th {\n",
       "        vertical-align: top;\n",
       "    }\n",
       "\n",
       "    .dataframe thead th {\n",
       "        text-align: right;\n",
       "    }\n",
       "</style>\n",
       "<table border=\"1\" class=\"dataframe\">\n",
       "  <thead>\n",
       "    <tr style=\"text-align: right;\">\n",
       "      <th></th>\n",
       "      <th>Posição no depósito</th>\n",
       "      <th>Produto</th>\n",
       "      <th>Unidade comercial</th>\n",
       "      <th>Lote</th>\n",
       "      <th>Descrição breve do produto</th>\n",
       "      <th>Quantidade</th>\n",
       "      <th>UM básica</th>\n",
       "      <th>Tipo de estoque</th>\n",
       "      <th>Denominação do tipo de estoque</th>\n",
       "      <th>Data EM</th>\n",
       "      <th>...</th>\n",
       "      <th>Nº do item</th>\n",
       "      <th>Peso de carga</th>\n",
       "      <th>Unidade de peso</th>\n",
       "      <th>Volume de carga</th>\n",
       "      <th>Unidade do volume</th>\n",
       "      <th>Consumo capacidade</th>\n",
       "      <th>Grp.consol.</th>\n",
       "      <th>Obrigat.nº série</th>\n",
       "      <th>Área de abastecimento da produção</th>\n",
       "      <th>Item da ordem reduzido</th>\n",
       "    </tr>\n",
       "  </thead>\n",
       "  <tbody>\n",
       "    <tr>\n",
       "      <th>0</th>\n",
       "      <td>GR-PROD</td>\n",
       "      <td>SA0309</td>\n",
       "      <td>&lt;NA&gt;</td>\n",
       "      <td>0000722779</td>\n",
       "      <td>PELICULA DE PLASTICO ST 420X0,008MM</td>\n",
       "      <td>147.0</td>\n",
       "      <td>KG</td>\n",
       "      <td>01</td>\n",
       "      <td>Estoque utilização livre 005</td>\n",
       "      <td>2022-05-11</td>\n",
       "      <td>...</td>\n",
       "      <td>0</td>\n",
       "      <td>147.0</td>\n",
       "      <td>KG</td>\n",
       "      <td>0.0</td>\n",
       "      <td>VOL</td>\n",
       "      <td>0.0</td>\n",
       "      <td>NaN</td>\n",
       "      <td>NaN</td>\n",
       "      <td>NaN</td>\n",
       "      <td>NaN</td>\n",
       "    </tr>\n",
       "  </tbody>\n",
       "</table>\n",
       "<p>1 rows × 46 columns</p>\n",
       "</div>"
      ],
      "text/plain": [
       "  Posição no depósito Produto Unidade comercial        Lote  \\\n",
       "0             GR-PROD  SA0309              <NA>  0000722779   \n",
       "\n",
       "            Descrição breve do produto  Quantidade UM básica Tipo de estoque  \\\n",
       "0  PELICULA DE PLASTICO ST 420X0,008MM       147.0        KG              01   \n",
       "\n",
       "  Denominação do tipo de estoque    Data EM  ... Nº do item Peso de carga  \\\n",
       "0   Estoque utilização livre 005 2022-05-11  ...          0         147.0   \n",
       "\n",
       "   Unidade de peso Volume de carga Unidade do volume Consumo capacidade  \\\n",
       "0               KG             0.0               VOL                0.0   \n",
       "\n",
       "  Grp.consol.  Obrigat.nº série  Área de abastecimento da produção  \\\n",
       "0         NaN               NaN                                NaN   \n",
       "\n",
       "   Item da ordem reduzido  \n",
       "0                     NaN  \n",
       "\n",
       "[1 rows x 46 columns]"
      ]
     },
     "execution_count": 83,
     "metadata": {},
     "output_type": "execute_result"
    }
   ],
   "source": [
    "estoque.head(1)"
   ]
  },
  {
   "cell_type": "code",
   "execution_count": 84,
   "metadata": {},
   "outputs": [
    {
     "data": {
      "text/html": [
       "<div>\n",
       "<style scoped>\n",
       "    .dataframe tbody tr th:only-of-type {\n",
       "        vertical-align: middle;\n",
       "    }\n",
       "\n",
       "    .dataframe tbody tr th {\n",
       "        vertical-align: top;\n",
       "    }\n",
       "\n",
       "    .dataframe thead th {\n",
       "        text-align: right;\n",
       "    }\n",
       "</style>\n",
       "<table border=\"1\" class=\"dataframe\">\n",
       "  <thead>\n",
       "    <tr style=\"text-align: right;\">\n",
       "      <th></th>\n",
       "      <th>tipo_processo</th>\n",
       "      <th>autor</th>\n",
       "      <th>data_criacao</th>\n",
       "      <th>hora_criacao</th>\n",
       "      <th>pd_origem</th>\n",
       "      <th>pd_destino</th>\n",
       "      <th>produto</th>\n",
       "      <th>tipo_estoque</th>\n",
       "      <th>desc_tipo_estoque</th>\n",
       "      <th>uc</th>\n",
       "      <th>dia_semana</th>\n",
       "      <th>nome_dia_semana</th>\n",
       "    </tr>\n",
       "  </thead>\n",
       "  <tbody>\n",
       "    <tr>\n",
       "      <th>0</th>\n",
       "      <td>Registro da saída de mercadoria</td>\n",
       "      <td>SP3PROD01</td>\n",
       "      <td>2022-01-31</td>\n",
       "      <td>23:59:53</td>\n",
       "      <td>AAP-LOP3-SA1</td>\n",
       "      <td>NaN</td>\n",
       "      <td>SA0155</td>\n",
       "      <td>Estoque utilização livre SA1</td>\n",
       "      <td>J1</td>\n",
       "      <td>&lt;NA&gt;</td>\n",
       "      <td>0</td>\n",
       "      <td>seg</td>\n",
       "    </tr>\n",
       "  </tbody>\n",
       "</table>\n",
       "</div>"
      ],
      "text/plain": [
       "                     tipo_processo      autor data_criacao hora_criacao  \\\n",
       "0  Registro da saída de mercadoria  SP3PROD01   2022-01-31     23:59:53   \n",
       "\n",
       "      pd_origem pd_destino produto                  tipo_estoque  \\\n",
       "0  AAP-LOP3-SA1        NaN  SA0155  Estoque utilização livre SA1   \n",
       "\n",
       "  desc_tipo_estoque    uc  dia_semana nome_dia_semana  \n",
       "0                J1  <NA>           0             seg  "
      ]
     },
     "execution_count": 84,
     "metadata": {},
     "output_type": "execute_result"
    }
   ],
   "source": [
    "dados.head(1)"
   ]
  },
  {
   "cell_type": "markdown",
   "metadata": {},
   "source": [
    "#### Cria dois dataframes para a contagem das posições origem e destino"
   ]
  },
  {
   "cell_type": "code",
   "execution_count": 85,
   "metadata": {},
   "outputs": [],
   "source": [
    "pd_destino = dados['pd_destino'].value_counts().to_frame().reset_index()\n",
    "pd_origem = dados['pd_origem'].value_counts().to_frame().reset_index()"
   ]
  },
  {
   "cell_type": "markdown",
   "metadata": {},
   "source": [
    "#### Cria uma coluna com a combinação das posições origem e destino e faz um 'merge' com o dataframe de posições para classificar em física e virtual"
   ]
  },
  {
   "cell_type": "code",
   "execution_count": 86,
   "metadata": {},
   "outputs": [],
   "source": [
    "dados['de_para'] = dados['pd_origem'] + ' > ' + dados['pd_destino']\n",
    "dados = dados.merge(posicoes, left_on='pd_destino', right_on='Pos')"
   ]
  },
  {
   "cell_type": "markdown",
   "metadata": {},
   "source": [
    "#### Quantidade de tarefas por autor"
   ]
  },
  {
   "cell_type": "code",
   "execution_count": 87,
   "metadata": {},
   "outputs": [],
   "source": [
    "autor = dados['autor'].value_counts().to_frame().reset_index()\n",
    "#utor.rename({'index':'autor', 'autor':'quantidade'}, inplace=True)\n",
    "autor = autor.sort_values(by='autor', ascending=False)\n",
    "autor['percentual'] = ((autor['autor'] / autor['autor'].sum()) * 100).round(2)\n",
    "autor['acumulado'] = autor['percentual'].cumsum()"
   ]
  },
  {
   "cell_type": "code",
   "execution_count": 88,
   "metadata": {},
   "outputs": [
    {
     "data": {
      "text/html": [
       "<div>\n",
       "<style scoped>\n",
       "    .dataframe tbody tr th:only-of-type {\n",
       "        vertical-align: middle;\n",
       "    }\n",
       "\n",
       "    .dataframe tbody tr th {\n",
       "        vertical-align: top;\n",
       "    }\n",
       "\n",
       "    .dataframe thead th {\n",
       "        text-align: right;\n",
       "    }\n",
       "</style>\n",
       "<table border=\"1\" class=\"dataframe\">\n",
       "  <thead>\n",
       "    <tr style=\"text-align: right;\">\n",
       "      <th></th>\n",
       "      <th>index</th>\n",
       "      <th>autor</th>\n",
       "      <th>percentual</th>\n",
       "      <th>acumulado</th>\n",
       "    </tr>\n",
       "  </thead>\n",
       "  <tbody>\n",
       "    <tr>\n",
       "      <th>0</th>\n",
       "      <td>JOBSCHEDULER</td>\n",
       "      <td>103762</td>\n",
       "      <td>16.58</td>\n",
       "      <td>16.58</td>\n",
       "    </tr>\n",
       "    <tr>\n",
       "      <th>1</th>\n",
       "      <td>MG1LRSANTOS</td>\n",
       "      <td>40635</td>\n",
       "      <td>6.49</td>\n",
       "      <td>23.07</td>\n",
       "    </tr>\n",
       "    <tr>\n",
       "      <th>2</th>\n",
       "      <td>MG1FNUNES</td>\n",
       "      <td>35245</td>\n",
       "      <td>5.63</td>\n",
       "      <td>28.70</td>\n",
       "    </tr>\n",
       "    <tr>\n",
       "      <th>3</th>\n",
       "      <td>SP3PRAZEVEDO</td>\n",
       "      <td>31849</td>\n",
       "      <td>5.09</td>\n",
       "      <td>33.79</td>\n",
       "    </tr>\n",
       "    <tr>\n",
       "      <th>4</th>\n",
       "      <td>SP3EMBA01</td>\n",
       "      <td>26172</td>\n",
       "      <td>4.18</td>\n",
       "      <td>37.97</td>\n",
       "    </tr>\n",
       "  </tbody>\n",
       "</table>\n",
       "</div>"
      ],
      "text/plain": [
       "          index   autor  percentual  acumulado\n",
       "0  JOBSCHEDULER  103762       16.58      16.58\n",
       "1   MG1LRSANTOS   40635        6.49      23.07\n",
       "2     MG1FNUNES   35245        5.63      28.70\n",
       "3  SP3PRAZEVEDO   31849        5.09      33.79\n",
       "4     SP3EMBA01   26172        4.18      37.97"
      ]
     },
     "execution_count": 88,
     "metadata": {},
     "output_type": "execute_result"
    }
   ],
   "source": [
    "autor.head(5)"
   ]
  },
  {
   "cell_type": "code",
   "execution_count": 89,
   "metadata": {},
   "outputs": [
    {
     "data": {
      "image/png": "[encoded data removed]",
      "text/plain": [
       "<Figure size 1152x576 with 1 Axes>"
      ]
     },
     "metadata": {
      "needs_background": "light"
     },
     "output_type": "display_data"
    }
   ],
   "source": [
    "ax = sns.barplot(x='percentual', y='index', data=autor.head(20), palette=paleta)\n",
    "ax.set_title('Percentual de movimentação por autor - de 10/02/2022 a 09/04/2022', fontsize=18)\n",
    "ax.figure.set_size_inches(grafico_medio)\n",
    "ax.bar_label(ax.containers[0], size=10)\n",
    "ax = ax"
   ]
  },
  {
   "cell_type": "markdown",
   "metadata": {},
   "source": [
    "#### Query que filtra pelo tipo da posição destino (Virtual ou Física)"
   ]
  },
  {
   "cell_type": "code",
   "execution_count": 90,
   "metadata": {},
   "outputs": [
    {
     "data": {
      "text/html": [
       "<div>\n",
       "<style scoped>\n",
       "    .dataframe tbody tr th:only-of-type {\n",
       "        vertical-align: middle;\n",
       "    }\n",
       "\n",
       "    .dataframe tbody tr th {\n",
       "        vertical-align: top;\n",
       "    }\n",
       "\n",
       "    .dataframe thead th {\n",
       "        text-align: right;\n",
       "    }\n",
       "</style>\n",
       "<table border=\"1\" class=\"dataframe\">\n",
       "  <thead>\n",
       "    <tr style=\"text-align: right;\">\n",
       "      <th></th>\n",
       "      <th>local</th>\n",
       "      <th>quantidade</th>\n",
       "    </tr>\n",
       "  </thead>\n",
       "  <tbody>\n",
       "    <tr>\n",
       "      <th>0</th>\n",
       "      <td>GR-PROD &gt; DOCA</td>\n",
       "      <td>5130</td>\n",
       "    </tr>\n",
       "    <tr>\n",
       "      <th>1</th>\n",
       "      <td>GR-YDI1 &gt; PATIO</td>\n",
       "      <td>1726</td>\n",
       "    </tr>\n",
       "    <tr>\n",
       "      <th>2</th>\n",
       "      <td>GR-YDI1 &gt; DOCA</td>\n",
       "      <td>1539</td>\n",
       "    </tr>\n",
       "    <tr>\n",
       "      <th>3</th>\n",
       "      <td>GI-YDO1 &gt; DOCA</td>\n",
       "      <td>1218</td>\n",
       "    </tr>\n",
       "    <tr>\n",
       "      <th>4</th>\n",
       "      <td>RUA J &gt; AAP-LOP3-SA1</td>\n",
       "      <td>1204</td>\n",
       "    </tr>\n",
       "  </tbody>\n",
       "</table>\n",
       "</div>"
      ],
      "text/plain": [
       "                  local  quantidade\n",
       "0        GR-PROD > DOCA        5130\n",
       "1       GR-YDI1 > PATIO        1726\n",
       "2        GR-YDI1 > DOCA        1539\n",
       "3        GI-YDO1 > DOCA        1218\n",
       "4  RUA J > AAP-LOP3-SA1        1204"
      ]
     },
     "execution_count": 90,
     "metadata": {},
     "output_type": "execute_result"
    }
   ],
   "source": [
    "dados_de_para = dados.query('Tipo != \"Virtual\"')['de_para'].value_counts().to_frame().reset_index().head(20)\n",
    "dados_de_para.rename(columns={'index':'local','de_para':'quantidade'}, inplace=True)\n",
    "dados_de_para.head()\n"
   ]
  },
  {
   "cell_type": "markdown",
   "metadata": {},
   "source": [
    "#### O gráfico abaixo exibe a quantidade de movimentações cujas posição destino existem fisicamente no estoque"
   ]
  },
  {
   "cell_type": "code",
   "execution_count": 91,
   "metadata": {},
   "outputs": [
    {
     "data": {
      "image/png": "[encoded data removed]",
      "text/plain": [
       "<Figure size 1152x576 with 1 Axes>"
      ]
     },
     "metadata": {
      "needs_background": "light"
     },
     "output_type": "display_data"
    }
   ],
   "source": [
    "ax = sns.barplot(x='local', y='quantidade', data=dados_de_para, palette=paleta)\n",
    "ax.figure.set_size_inches(grafico_medio)\n",
    "ax.set_title('Quantidade de movimentações com destino físico', fontsize=18)\n",
    "ax.bar_label(ax.containers[0], size=12)\n",
    "plt.xticks(rotation=60)\n",
    "ax = ax"
   ]
  },
  {
   "cell_type": "code",
   "execution_count": 92,
   "metadata": {},
   "outputs": [
    {
     "data": {
      "text/html": [
       "<div>\n",
       "<style scoped>\n",
       "    .dataframe tbody tr th:only-of-type {\n",
       "        vertical-align: middle;\n",
       "    }\n",
       "\n",
       "    .dataframe tbody tr th {\n",
       "        vertical-align: top;\n",
       "    }\n",
       "\n",
       "    .dataframe thead th {\n",
       "        text-align: right;\n",
       "    }\n",
       "</style>\n",
       "<table border=\"1\" class=\"dataframe\">\n",
       "  <thead>\n",
       "    <tr style=\"text-align: right;\">\n",
       "      <th></th>\n",
       "      <th>Pos</th>\n",
       "      <th>Tipo</th>\n",
       "    </tr>\n",
       "  </thead>\n",
       "  <tbody>\n",
       "    <tr>\n",
       "      <th>0</th>\n",
       "      <td>4</td>\n",
       "      <td>Virtual</td>\n",
       "    </tr>\n",
       "    <tr>\n",
       "      <th>1</th>\n",
       "      <td>A-01-6</td>\n",
       "      <td>Rack</td>\n",
       "    </tr>\n",
       "    <tr>\n",
       "      <th>2</th>\n",
       "      <td>A-03-3</td>\n",
       "      <td>Rack</td>\n",
       "    </tr>\n",
       "    <tr>\n",
       "      <th>3</th>\n",
       "      <td>A-06-2</td>\n",
       "      <td>Rack</td>\n",
       "    </tr>\n",
       "    <tr>\n",
       "      <th>4</th>\n",
       "      <td>A-07-2</td>\n",
       "      <td>Rack</td>\n",
       "    </tr>\n",
       "  </tbody>\n",
       "</table>\n",
       "</div>"
      ],
      "text/plain": [
       "      Pos     Tipo\n",
       "0       4  Virtual\n",
       "1  A-01-6     Rack\n",
       "2  A-03-3     Rack\n",
       "3  A-06-2     Rack\n",
       "4  A-07-2     Rack"
      ]
     },
     "execution_count": 92,
     "metadata": {},
     "output_type": "execute_result"
    }
   ],
   "source": [
    "posicoes.head()"
   ]
  },
  {
   "cell_type": "code",
   "execution_count": 93,
   "metadata": {},
   "outputs": [],
   "source": [
    "# Incluir o tipo da posição no dataframe das posições\n",
    "pd_destino = pd_destino.merge(posicoes, left_on='index', right_on='Pos')\n",
    "pd_origem = pd_origem.merge(posicoes, left_on='index', right_on='Pos')"
   ]
  },
  {
   "cell_type": "code",
   "execution_count": 94,
   "metadata": {},
   "outputs": [
    {
     "data": {
      "text/html": [
       "<div>\n",
       "<style scoped>\n",
       "    .dataframe tbody tr th:only-of-type {\n",
       "        vertical-align: middle;\n",
       "    }\n",
       "\n",
       "    .dataframe tbody tr th {\n",
       "        vertical-align: top;\n",
       "    }\n",
       "\n",
       "    .dataframe thead th {\n",
       "        text-align: right;\n",
       "    }\n",
       "</style>\n",
       "<table border=\"1\" class=\"dataframe\">\n",
       "  <thead>\n",
       "    <tr style=\"text-align: right;\">\n",
       "      <th></th>\n",
       "      <th>index</th>\n",
       "      <th>pd_destino</th>\n",
       "      <th>Pos</th>\n",
       "      <th>Tipo</th>\n",
       "    </tr>\n",
       "  </thead>\n",
       "  <tbody>\n",
       "    <tr>\n",
       "      <th>0</th>\n",
       "      <td>ITANF</td>\n",
       "      <td>176183</td>\n",
       "      <td>ITANF</td>\n",
       "      <td>Virtual</td>\n",
       "    </tr>\n",
       "    <tr>\n",
       "      <th>1</th>\n",
       "      <td>GI-YDO1</td>\n",
       "      <td>162547</td>\n",
       "      <td>GI-YDO1</td>\n",
       "      <td>Virtual</td>\n",
       "    </tr>\n",
       "    <tr>\n",
       "      <th>2</th>\n",
       "      <td>GR-PROD</td>\n",
       "      <td>69478</td>\n",
       "      <td>GR-PROD</td>\n",
       "      <td>Virtual</td>\n",
       "    </tr>\n",
       "    <tr>\n",
       "      <th>3</th>\n",
       "      <td>GR-YDI1</td>\n",
       "      <td>49698</td>\n",
       "      <td>GR-YDI1</td>\n",
       "      <td>Virtual</td>\n",
       "    </tr>\n",
       "    <tr>\n",
       "      <th>4</th>\n",
       "      <td>DOCA</td>\n",
       "      <td>12550</td>\n",
       "      <td>DOCA</td>\n",
       "      <td>Blocado</td>\n",
       "    </tr>\n",
       "  </tbody>\n",
       "</table>\n",
       "</div>"
      ],
      "text/plain": [
       "     index  pd_destino      Pos     Tipo\n",
       "0    ITANF      176183    ITANF  Virtual\n",
       "1  GI-YDO1      162547  GI-YDO1  Virtual\n",
       "2  GR-PROD       69478  GR-PROD  Virtual\n",
       "3  GR-YDI1       49698  GR-YDI1  Virtual\n",
       "4     DOCA       12550     DOCA  Blocado"
      ]
     },
     "execution_count": 94,
     "metadata": {},
     "output_type": "execute_result"
    }
   ],
   "source": [
    "pd_destino.head(5)"
   ]
  },
  {
   "cell_type": "code",
   "execution_count": 95,
   "metadata": {},
   "outputs": [
    {
     "data": {
      "text/html": [
       "<div>\n",
       "<style scoped>\n",
       "    .dataframe tbody tr th:only-of-type {\n",
       "        vertical-align: middle;\n",
       "    }\n",
       "\n",
       "    .dataframe tbody tr th {\n",
       "        vertical-align: top;\n",
       "    }\n",
       "\n",
       "    .dataframe thead th {\n",
       "        text-align: right;\n",
       "    }\n",
       "</style>\n",
       "<table border=\"1\" class=\"dataframe\">\n",
       "  <thead>\n",
       "    <tr style=\"text-align: right;\">\n",
       "      <th></th>\n",
       "      <th>index</th>\n",
       "      <th>pd_origem</th>\n",
       "      <th>Pos</th>\n",
       "      <th>Tipo</th>\n",
       "    </tr>\n",
       "  </thead>\n",
       "  <tbody>\n",
       "    <tr>\n",
       "      <th>0</th>\n",
       "      <td>ITANF</td>\n",
       "      <td>176175</td>\n",
       "      <td>ITANF</td>\n",
       "      <td>Virtual</td>\n",
       "    </tr>\n",
       "    <tr>\n",
       "      <th>1</th>\n",
       "      <td>GI-YDO1</td>\n",
       "      <td>145658</td>\n",
       "      <td>GI-YDO1</td>\n",
       "      <td>Virtual</td>\n",
       "    </tr>\n",
       "    <tr>\n",
       "      <th>2</th>\n",
       "      <td>GR-PROD</td>\n",
       "      <td>64667</td>\n",
       "      <td>GR-PROD</td>\n",
       "      <td>Virtual</td>\n",
       "    </tr>\n",
       "    <tr>\n",
       "      <th>3</th>\n",
       "      <td>GR-YDI1</td>\n",
       "      <td>50499</td>\n",
       "      <td>GR-YDI1</td>\n",
       "      <td>Virtual</td>\n",
       "    </tr>\n",
       "    <tr>\n",
       "      <th>4</th>\n",
       "      <td>AAP-LOP3-SA1</td>\n",
       "      <td>28277</td>\n",
       "      <td>AAP-LOP3-SA1</td>\n",
       "      <td>Blocado</td>\n",
       "    </tr>\n",
       "  </tbody>\n",
       "</table>\n",
       "</div>"
      ],
      "text/plain": [
       "          index  pd_origem           Pos     Tipo\n",
       "0         ITANF     176175         ITANF  Virtual\n",
       "1       GI-YDO1     145658       GI-YDO1  Virtual\n",
       "2       GR-PROD      64667       GR-PROD  Virtual\n",
       "3       GR-YDI1      50499       GR-YDI1  Virtual\n",
       "4  AAP-LOP3-SA1      28277  AAP-LOP3-SA1  Blocado"
      ]
     },
     "execution_count": 95,
     "metadata": {},
     "output_type": "execute_result"
    }
   ],
   "source": [
    "pd_origem.head(5)"
   ]
  },
  {
   "cell_type": "markdown",
   "metadata": {},
   "source": [
    "#### O gráfico abaixo mostra a quantidade de movimenteção por tipo de posição"
   ]
  },
  {
   "cell_type": "code",
   "execution_count": 96,
   "metadata": {},
   "outputs": [
    {
     "data": {
      "image/png": "[encoded data removed]",
      "text/plain": [
       "<Figure size 1152x576 with 1 Axes>"
      ]
     },
     "metadata": {
      "needs_background": "light"
     },
     "output_type": "display_data"
    }
   ],
   "source": [
    "tipo = '\"Blocado\"'\n",
    "query = 'Tipo ==' + tipo\n",
    "\n",
    "pd_destino_resumo = pd_destino.query(query).head(20)\n",
    "ax = sns.barplot(x='index', y='pd_destino', data=pd_destino_resumo, palette=paleta)\n",
    "ax.figure.set_size_inches(grafico_medio)\n",
    "ax.set_title('Quantidade de movimentações com destino ' + tipo, fontsize=18)\n",
    "ax.bar_label(ax.containers[0], size=12)\n",
    "plt.xticks(rotation=60)\n",
    "ax = ax"
   ]
  },
  {
   "cell_type": "markdown",
   "metadata": {},
   "source": [
    "#### O gráfico abaixo mostra os locais de origem mais movimentados"
   ]
  },
  {
   "cell_type": "code",
   "execution_count": 97,
   "metadata": {},
   "outputs": [
    {
     "data": {
      "image/png": "[encoded data removed]",
      "text/plain": [
       "<Figure size 1152x576 with 1 Axes>"
      ]
     },
     "metadata": {
      "needs_background": "light"
     },
     "output_type": "display_data"
    }
   ],
   "source": [
    "pd_origem_resumo = pd_origem.head(20)\n",
    "ax = sns.barplot(x='index', y='pd_origem', data=pd_origem.query('Tipo != \"Virtual\"').head(20), palette=paleta)\n",
    "ax.bar_label(ax.containers[0], size=10)\n",
    "ax.figure.set_size_inches(grafico_medio)\n",
    "ax.set_title('Quantidade de movimentações por origem', fontsize=18)\n",
    "plt.xticks(rotation=70)\n",
    "ax = ax"
   ]
  },
  {
   "cell_type": "code",
   "execution_count": 98,
   "metadata": {},
   "outputs": [
    {
     "data": {
      "text/html": [
       "<div>\n",
       "<style scoped>\n",
       "    .dataframe tbody tr th:only-of-type {\n",
       "        vertical-align: middle;\n",
       "    }\n",
       "\n",
       "    .dataframe tbody tr th {\n",
       "        vertical-align: top;\n",
       "    }\n",
       "\n",
       "    .dataframe thead th {\n",
       "        text-align: right;\n",
       "    }\n",
       "</style>\n",
       "<table border=\"1\" class=\"dataframe\">\n",
       "  <thead>\n",
       "    <tr style=\"text-align: right;\">\n",
       "      <th></th>\n",
       "      <th>index</th>\n",
       "      <th>de_para</th>\n",
       "    </tr>\n",
       "  </thead>\n",
       "  <tbody>\n",
       "    <tr>\n",
       "      <th>0</th>\n",
       "      <td>ITANF &gt; ITANF</td>\n",
       "      <td>79219</td>\n",
       "    </tr>\n",
       "    <tr>\n",
       "      <th>1</th>\n",
       "      <td>GR-PROD &gt; GR-PROD</td>\n",
       "      <td>19912</td>\n",
       "    </tr>\n",
       "    <tr>\n",
       "      <th>2</th>\n",
       "      <td>ITANF &gt; GI-YDO1</td>\n",
       "      <td>16598</td>\n",
       "    </tr>\n",
       "    <tr>\n",
       "      <th>3</th>\n",
       "      <td>GR-YDI1 &gt; ITANF</td>\n",
       "      <td>15847</td>\n",
       "    </tr>\n",
       "    <tr>\n",
       "      <th>4</th>\n",
       "      <td>GR-PROD &gt; DOCA</td>\n",
       "      <td>5130</td>\n",
       "    </tr>\n",
       "  </tbody>\n",
       "</table>\n",
       "</div>"
      ],
      "text/plain": [
       "               index  de_para\n",
       "0      ITANF > ITANF    79219\n",
       "1  GR-PROD > GR-PROD    19912\n",
       "2    ITANF > GI-YDO1    16598\n",
       "3    GR-YDI1 > ITANF    15847\n",
       "4     GR-PROD > DOCA     5130"
      ]
     },
     "execution_count": 98,
     "metadata": {},
     "output_type": "execute_result"
    }
   ],
   "source": [
    "de_para = dados['de_para'].value_counts().to_frame().reset_index()\n",
    "de_para.head(5)"
   ]
  },
  {
   "cell_type": "code",
   "execution_count": 99,
   "metadata": {},
   "outputs": [
    {
     "data": {
      "text/plain": [
       "(32805, 2)"
      ]
     },
     "execution_count": 99,
     "metadata": {},
     "output_type": "execute_result"
    }
   ],
   "source": [
    "de_para.shape"
   ]
  },
  {
   "cell_type": "markdown",
   "metadata": {},
   "source": [
    "#### O gráfico abaixo mostra as 20 combinações de posições mais frequêntes, independente de ser física ou virtual"
   ]
  },
  {
   "cell_type": "code",
   "execution_count": 100,
   "metadata": {},
   "outputs": [
    {
     "data": {
      "image/png": "[encoded data removed]",
      "text/plain": [
       "<Figure size 1152x576 with 1 Axes>"
      ]
     },
     "metadata": {
      "needs_background": "light"
     },
     "output_type": "display_data"
    }
   ],
   "source": [
    "ax = sns.barplot(x='de_para', y='index', data=de_para.head(20), palette=paleta)\n",
    "ax.figure.set_size_inches(grafico_medio)\n",
    "ax.bar_label(ax.containers[0], size=10)\n",
    "ax = ax"
   ]
  },
  {
   "cell_type": "code",
   "execution_count": 101,
   "metadata": {},
   "outputs": [
    {
     "data": {
      "text/html": [
       "<div>\n",
       "<style scoped>\n",
       "    .dataframe tbody tr th:only-of-type {\n",
       "        vertical-align: middle;\n",
       "    }\n",
       "\n",
       "    .dataframe tbody tr th {\n",
       "        vertical-align: top;\n",
       "    }\n",
       "\n",
       "    .dataframe thead th {\n",
       "        text-align: right;\n",
       "    }\n",
       "</style>\n",
       "<table border=\"1\" class=\"dataframe\">\n",
       "  <thead>\n",
       "    <tr style=\"text-align: right;\">\n",
       "      <th></th>\n",
       "      <th>tipo_processo</th>\n",
       "      <th>autor</th>\n",
       "      <th>data_criacao</th>\n",
       "      <th>hora_criacao</th>\n",
       "      <th>pd_origem</th>\n",
       "      <th>pd_destino</th>\n",
       "      <th>produto</th>\n",
       "      <th>tipo_estoque</th>\n",
       "      <th>desc_tipo_estoque</th>\n",
       "      <th>uc</th>\n",
       "      <th>dia_semana</th>\n",
       "      <th>nome_dia_semana</th>\n",
       "      <th>de_para</th>\n",
       "      <th>Pos</th>\n",
       "      <th>Tipo</th>\n",
       "    </tr>\n",
       "  </thead>\n",
       "  <tbody>\n",
       "    <tr>\n",
       "      <th>0</th>\n",
       "      <td>Registro da entrada de mercadorias</td>\n",
       "      <td>SP3EMBA01</td>\n",
       "      <td>2022-01-31</td>\n",
       "      <td>23:59:34</td>\n",
       "      <td>NaN</td>\n",
       "      <td>GR-PROD</td>\n",
       "      <td>509002</td>\n",
       "      <td>Estoque utilização livre 005</td>\n",
       "      <td>01</td>\n",
       "      <td>&lt;NA&gt;</td>\n",
       "      <td>0</td>\n",
       "      <td>seg</td>\n",
       "      <td>NaN</td>\n",
       "      <td>GR-PROD</td>\n",
       "      <td>Virtual</td>\n",
       "    </tr>\n",
       "    <tr>\n",
       "      <th>1</th>\n",
       "      <td>Registro da entrada de mercadorias</td>\n",
       "      <td>SP3PROD01</td>\n",
       "      <td>2022-01-31</td>\n",
       "      <td>23:59:20</td>\n",
       "      <td>NaN</td>\n",
       "      <td>GR-PROD</td>\n",
       "      <td>SA0593</td>\n",
       "      <td>Estoque QA 005</td>\n",
       "      <td>03</td>\n",
       "      <td>&lt;NA&gt;</td>\n",
       "      <td>0</td>\n",
       "      <td>seg</td>\n",
       "      <td>NaN</td>\n",
       "      <td>GR-PROD</td>\n",
       "      <td>Virtual</td>\n",
       "    </tr>\n",
       "    <tr>\n",
       "      <th>2</th>\n",
       "      <td>Registro da entrada de mercadorias</td>\n",
       "      <td>SP3PROD01</td>\n",
       "      <td>2022-01-31</td>\n",
       "      <td>23:58:36</td>\n",
       "      <td>NaN</td>\n",
       "      <td>GR-PROD</td>\n",
       "      <td>SA0593</td>\n",
       "      <td>Estoque QA 005</td>\n",
       "      <td>03</td>\n",
       "      <td>&lt;NA&gt;</td>\n",
       "      <td>0</td>\n",
       "      <td>seg</td>\n",
       "      <td>NaN</td>\n",
       "      <td>GR-PROD</td>\n",
       "      <td>Virtual</td>\n",
       "    </tr>\n",
       "    <tr>\n",
       "      <th>3</th>\n",
       "      <td>Registro da entrada de mercadorias</td>\n",
       "      <td>SP3PROD01</td>\n",
       "      <td>2022-01-31</td>\n",
       "      <td>23:57:53</td>\n",
       "      <td>NaN</td>\n",
       "      <td>GR-PROD</td>\n",
       "      <td>SA0593</td>\n",
       "      <td>Estoque QA 005</td>\n",
       "      <td>03</td>\n",
       "      <td>&lt;NA&gt;</td>\n",
       "      <td>0</td>\n",
       "      <td>seg</td>\n",
       "      <td>NaN</td>\n",
       "      <td>GR-PROD</td>\n",
       "      <td>Virtual</td>\n",
       "    </tr>\n",
       "    <tr>\n",
       "      <th>4</th>\n",
       "      <td>Transferência interna de estoque</td>\n",
       "      <td>SP3EMBA01</td>\n",
       "      <td>2022-01-31</td>\n",
       "      <td>23:57:38</td>\n",
       "      <td>GR-PROD</td>\n",
       "      <td>GR-PROD</td>\n",
       "      <td>SA0579</td>\n",
       "      <td>Estoque QA 005</td>\n",
       "      <td>03</td>\n",
       "      <td>112345673000001352</td>\n",
       "      <td>0</td>\n",
       "      <td>seg</td>\n",
       "      <td>GR-PROD &gt; GR-PROD</td>\n",
       "      <td>GR-PROD</td>\n",
       "      <td>Virtual</td>\n",
       "    </tr>\n",
       "  </tbody>\n",
       "</table>\n",
       "</div>"
      ],
      "text/plain": [
       "                        tipo_processo      autor data_criacao hora_criacao  \\\n",
       "0  Registro da entrada de mercadorias  SP3EMBA01   2022-01-31     23:59:34   \n",
       "1  Registro da entrada de mercadorias  SP3PROD01   2022-01-31     23:59:20   \n",
       "2  Registro da entrada de mercadorias  SP3PROD01   2022-01-31     23:58:36   \n",
       "3  Registro da entrada de mercadorias  SP3PROD01   2022-01-31     23:57:53   \n",
       "4    Transferência interna de estoque  SP3EMBA01   2022-01-31     23:57:38   \n",
       "\n",
       "  pd_origem pd_destino produto                  tipo_estoque  \\\n",
       "0       NaN    GR-PROD  509002  Estoque utilização livre 005   \n",
       "1       NaN    GR-PROD  SA0593                Estoque QA 005   \n",
       "2       NaN    GR-PROD  SA0593                Estoque QA 005   \n",
       "3       NaN    GR-PROD  SA0593                Estoque QA 005   \n",
       "4   GR-PROD    GR-PROD  SA0579                Estoque QA 005   \n",
       "\n",
       "  desc_tipo_estoque                  uc  dia_semana nome_dia_semana  \\\n",
       "0                01                <NA>           0             seg   \n",
       "1                03                <NA>           0             seg   \n",
       "2                03                <NA>           0             seg   \n",
       "3                03                <NA>           0             seg   \n",
       "4                03  112345673000001352           0             seg   \n",
       "\n",
       "             de_para      Pos     Tipo  \n",
       "0                NaN  GR-PROD  Virtual  \n",
       "1                NaN  GR-PROD  Virtual  \n",
       "2                NaN  GR-PROD  Virtual  \n",
       "3                NaN  GR-PROD  Virtual  \n",
       "4  GR-PROD > GR-PROD  GR-PROD  Virtual  "
      ]
     },
     "execution_count": 101,
     "metadata": {},
     "output_type": "execute_result"
    }
   ],
   "source": [
    "dados.head()"
   ]
  },
  {
   "cell_type": "code",
   "execution_count": null,
   "metadata": {},
   "outputs": [],
   "source": []
  },
  {
   "cell_type": "markdown",
   "metadata": {},
   "source": [
    "#### O gráfico abaixo mostra a quantidade de movimentações por dia"
   ]
  },
  {
   "cell_type": "code",
   "execution_count": 102,
   "metadata": {},
   "outputs": [],
   "source": [
    "datas = dados['data_criacao'].value_counts().to_frame().reset_index()\n",
    "datas['dia'] = datas['index'].dt.day\n",
    "datas['mes'] = datas['index'].dt.month\n",
    "datas['dia_mes'] = datas['index'].dt.strftime('%d/%m')"
   ]
  },
  {
   "cell_type": "code",
   "execution_count": 103,
   "metadata": {},
   "outputs": [
    {
     "data": {
      "image/png": "[encoded data removed]",
      "text/plain": [
       "<Figure size 1152x576 with 1 Axes>"
      ]
     },
     "metadata": {
      "needs_background": "light"
     },
     "output_type": "display_data"
    }
   ],
   "source": [
    "ax = sns.lineplot(x='dia_mes', y='data_criacao', data=datas.sort_values(by='index'), palette=paleta)\n",
    "ax.figure.set_size_inches(grafico_medio)\n",
    "#ax.bar_label(ax.containers[0], size=9)\n",
    "ax.set_title('Movimentações por dia - De 10/02 a 09/04', fontsize=18)\n",
    "#ax.set_xticklabels([])\n",
    "plt.xticks(rotation=90)\n",
    "ax = ax\n"
   ]
  },
  {
   "cell_type": "code",
   "execution_count": 104,
   "metadata": {},
   "outputs": [
    {
     "data": {
      "text/html": [
       "<div>\n",
       "<style scoped>\n",
       "    .dataframe tbody tr th:only-of-type {\n",
       "        vertical-align: middle;\n",
       "    }\n",
       "\n",
       "    .dataframe tbody tr th {\n",
       "        vertical-align: top;\n",
       "    }\n",
       "\n",
       "    .dataframe thead th {\n",
       "        text-align: right;\n",
       "    }\n",
       "</style>\n",
       "<table border=\"1\" class=\"dataframe\">\n",
       "  <thead>\n",
       "    <tr style=\"text-align: right;\">\n",
       "      <th></th>\n",
       "      <th>index</th>\n",
       "      <th>produto</th>\n",
       "    </tr>\n",
       "  </thead>\n",
       "  <tbody>\n",
       "    <tr>\n",
       "      <th>0</th>\n",
       "      <td>SA0309</td>\n",
       "      <td>49637</td>\n",
       "    </tr>\n",
       "    <tr>\n",
       "      <th>1</th>\n",
       "      <td>SA0441</td>\n",
       "      <td>11818</td>\n",
       "    </tr>\n",
       "  </tbody>\n",
       "</table>\n",
       "</div>"
      ],
      "text/plain": [
       "    index  produto\n",
       "0  SA0309    49637\n",
       "1  SA0441    11818"
      ]
     },
     "execution_count": 104,
     "metadata": {},
     "output_type": "execute_result"
    }
   ],
   "source": [
    "produtos = dados['produto'].value_counts().to_frame(). reset_index()\n",
    "produtos.head(2)"
   ]
  },
  {
   "cell_type": "code",
   "execution_count": 105,
   "metadata": {},
   "outputs": [
    {
     "data": {
      "text/html": [
       "<div>\n",
       "<style scoped>\n",
       "    .dataframe tbody tr th:only-of-type {\n",
       "        vertical-align: middle;\n",
       "    }\n",
       "\n",
       "    .dataframe tbody tr th {\n",
       "        vertical-align: top;\n",
       "    }\n",
       "\n",
       "    .dataframe thead th {\n",
       "        text-align: right;\n",
       "    }\n",
       "</style>\n",
       "<table border=\"1\" class=\"dataframe\">\n",
       "  <thead>\n",
       "    <tr style=\"text-align: right;\">\n",
       "      <th></th>\n",
       "      <th>index</th>\n",
       "      <th>produto</th>\n",
       "      <th>acumulado</th>\n",
       "      <th>percentual</th>\n",
       "    </tr>\n",
       "  </thead>\n",
       "  <tbody>\n",
       "    <tr>\n",
       "      <th>0</th>\n",
       "      <td>SA0309</td>\n",
       "      <td>49637</td>\n",
       "      <td>49637</td>\n",
       "      <td>8.37</td>\n",
       "    </tr>\n",
       "    <tr>\n",
       "      <th>1</th>\n",
       "      <td>SA0441</td>\n",
       "      <td>11818</td>\n",
       "      <td>61455</td>\n",
       "      <td>10.36</td>\n",
       "    </tr>\n",
       "    <tr>\n",
       "      <th>2</th>\n",
       "      <td>SZ0357</td>\n",
       "      <td>10809</td>\n",
       "      <td>72264</td>\n",
       "      <td>12.19</td>\n",
       "    </tr>\n",
       "    <tr>\n",
       "      <th>3</th>\n",
       "      <td>SA0215</td>\n",
       "      <td>10486</td>\n",
       "      <td>82750</td>\n",
       "      <td>13.95</td>\n",
       "    </tr>\n",
       "    <tr>\n",
       "      <th>4</th>\n",
       "      <td>SA0593</td>\n",
       "      <td>9431</td>\n",
       "      <td>92181</td>\n",
       "      <td>15.54</td>\n",
       "    </tr>\n",
       "  </tbody>\n",
       "</table>\n",
       "</div>"
      ],
      "text/plain": [
       "    index  produto  acumulado  percentual\n",
       "0  SA0309    49637      49637        8.37\n",
       "1  SA0441    11818      61455       10.36\n",
       "2  SZ0357    10809      72264       12.19\n",
       "3  SA0215    10486      82750       13.95\n",
       "4  SA0593     9431      92181       15.54"
      ]
     },
     "execution_count": 105,
     "metadata": {},
     "output_type": "execute_result"
    }
   ],
   "source": [
    "produtos['acumulado'] = produtos['produto'].cumsum()\n",
    "produtos['percentual'] = ((produtos['acumulado'] / produtos['produto'].sum()) * 100).round(2)\n",
    "produtos.head()"
   ]
  },
  {
   "cell_type": "markdown",
   "metadata": {},
   "source": [
    "#### Classificação ABCD"
   ]
  },
  {
   "cell_type": "markdown",
   "metadata": {},
   "source": [
    "<p><strong>A:</strong> até 25%\n",
    "<p><strong>B:</strong> de 25% a 50%\n",
    "<p><strong>C:</strong> de 50% a 75%\n",
    "<p><strong>D:</strong> maior que 75%"
   ]
  },
  {
   "cell_type": "code",
   "execution_count": 106,
   "metadata": {},
   "outputs": [
    {
     "data": {
      "text/html": [
       "<div>\n",
       "<style scoped>\n",
       "    .dataframe tbody tr th:only-of-type {\n",
       "        vertical-align: middle;\n",
       "    }\n",
       "\n",
       "    .dataframe tbody tr th {\n",
       "        vertical-align: top;\n",
       "    }\n",
       "\n",
       "    .dataframe thead th {\n",
       "        text-align: right;\n",
       "    }\n",
       "</style>\n",
       "<table border=\"1\" class=\"dataframe\">\n",
       "  <thead>\n",
       "    <tr style=\"text-align: right;\">\n",
       "      <th></th>\n",
       "      <th>index</th>\n",
       "      <th>produto</th>\n",
       "      <th>acumulado</th>\n",
       "      <th>percentual</th>\n",
       "      <th>Curva</th>\n",
       "    </tr>\n",
       "  </thead>\n",
       "  <tbody>\n",
       "    <tr>\n",
       "      <th>0</th>\n",
       "      <td>SA0309</td>\n",
       "      <td>49637</td>\n",
       "      <td>49637</td>\n",
       "      <td>8.37</td>\n",
       "      <td>A</td>\n",
       "    </tr>\n",
       "    <tr>\n",
       "      <th>1</th>\n",
       "      <td>SA0441</td>\n",
       "      <td>11818</td>\n",
       "      <td>61455</td>\n",
       "      <td>10.36</td>\n",
       "      <td>A</td>\n",
       "    </tr>\n",
       "    <tr>\n",
       "      <th>2</th>\n",
       "      <td>SZ0357</td>\n",
       "      <td>10809</td>\n",
       "      <td>72264</td>\n",
       "      <td>12.19</td>\n",
       "      <td>A</td>\n",
       "    </tr>\n",
       "    <tr>\n",
       "      <th>3</th>\n",
       "      <td>SA0215</td>\n",
       "      <td>10486</td>\n",
       "      <td>82750</td>\n",
       "      <td>13.95</td>\n",
       "      <td>A</td>\n",
       "    </tr>\n",
       "    <tr>\n",
       "      <th>4</th>\n",
       "      <td>SA0593</td>\n",
       "      <td>9431</td>\n",
       "      <td>92181</td>\n",
       "      <td>15.54</td>\n",
       "      <td>A</td>\n",
       "    </tr>\n",
       "  </tbody>\n",
       "</table>\n",
       "</div>"
      ],
      "text/plain": [
       "    index  produto  acumulado  percentual Curva\n",
       "0  SA0309    49637      49637        8.37     A\n",
       "1  SA0441    11818      61455       10.36     A\n",
       "2  SZ0357    10809      72264       12.19     A\n",
       "3  SA0215    10486      82750       13.95     A\n",
       "4  SA0593     9431      92181       15.54     A"
      ]
     },
     "execution_count": 106,
     "metadata": {},
     "output_type": "execute_result"
    }
   ],
   "source": [
    "produtos['Curva'] = produtos.percentual.apply(lambda x: 'A' if x <= 25 else 'B' if x <= 50 else 'C' if x <= 75 else 'D')\n",
    "produtos.head()"
   ]
  },
  {
   "cell_type": "code",
   "execution_count": 107,
   "metadata": {},
   "outputs": [
    {
     "data": {
      "text/html": [
       "<div>\n",
       "<style scoped>\n",
       "    .dataframe tbody tr th:only-of-type {\n",
       "        vertical-align: middle;\n",
       "    }\n",
       "\n",
       "    .dataframe tbody tr th {\n",
       "        vertical-align: top;\n",
       "    }\n",
       "\n",
       "    .dataframe thead th {\n",
       "        text-align: right;\n",
       "    }\n",
       "</style>\n",
       "<table border=\"1\" class=\"dataframe\">\n",
       "  <thead>\n",
       "    <tr style=\"text-align: right;\">\n",
       "      <th></th>\n",
       "      <th>index</th>\n",
       "      <th>produto</th>\n",
       "      <th>acumulado</th>\n",
       "      <th>percentual</th>\n",
       "      <th>Curva</th>\n",
       "    </tr>\n",
       "  </thead>\n",
       "  <tbody>\n",
       "    <tr>\n",
       "      <th>0</th>\n",
       "      <td>SA0309</td>\n",
       "      <td>49637</td>\n",
       "      <td>49637</td>\n",
       "      <td>8.37</td>\n",
       "      <td>A</td>\n",
       "    </tr>\n",
       "    <tr>\n",
       "      <th>1</th>\n",
       "      <td>SA0441</td>\n",
       "      <td>11818</td>\n",
       "      <td>61455</td>\n",
       "      <td>10.36</td>\n",
       "      <td>A</td>\n",
       "    </tr>\n",
       "    <tr>\n",
       "      <th>2</th>\n",
       "      <td>SZ0357</td>\n",
       "      <td>10809</td>\n",
       "      <td>72264</td>\n",
       "      <td>12.19</td>\n",
       "      <td>A</td>\n",
       "    </tr>\n",
       "    <tr>\n",
       "      <th>3</th>\n",
       "      <td>SA0215</td>\n",
       "      <td>10486</td>\n",
       "      <td>82750</td>\n",
       "      <td>13.95</td>\n",
       "      <td>A</td>\n",
       "    </tr>\n",
       "    <tr>\n",
       "      <th>4</th>\n",
       "      <td>SA0593</td>\n",
       "      <td>9431</td>\n",
       "      <td>92181</td>\n",
       "      <td>15.54</td>\n",
       "      <td>A</td>\n",
       "    </tr>\n",
       "    <tr>\n",
       "      <th>5</th>\n",
       "      <td>509002</td>\n",
       "      <td>8390</td>\n",
       "      <td>100571</td>\n",
       "      <td>16.96</td>\n",
       "      <td>A</td>\n",
       "    </tr>\n",
       "    <tr>\n",
       "      <th>6</th>\n",
       "      <td>SA0166</td>\n",
       "      <td>7911</td>\n",
       "      <td>108482</td>\n",
       "      <td>18.29</td>\n",
       "      <td>A</td>\n",
       "    </tr>\n",
       "    <tr>\n",
       "      <th>7</th>\n",
       "      <td>SA0579</td>\n",
       "      <td>7618</td>\n",
       "      <td>116100</td>\n",
       "      <td>19.58</td>\n",
       "      <td>A</td>\n",
       "    </tr>\n",
       "    <tr>\n",
       "      <th>8</th>\n",
       "      <td>SA0192</td>\n",
       "      <td>6209</td>\n",
       "      <td>122309</td>\n",
       "      <td>20.62</td>\n",
       "      <td>A</td>\n",
       "    </tr>\n",
       "    <tr>\n",
       "      <th>9</th>\n",
       "      <td>SA0155</td>\n",
       "      <td>5428</td>\n",
       "      <td>127737</td>\n",
       "      <td>21.54</td>\n",
       "      <td>A</td>\n",
       "    </tr>\n",
       "  </tbody>\n",
       "</table>\n",
       "</div>"
      ],
      "text/plain": [
       "    index  produto  acumulado  percentual Curva\n",
       "0  SA0309    49637      49637        8.37     A\n",
       "1  SA0441    11818      61455       10.36     A\n",
       "2  SZ0357    10809      72264       12.19     A\n",
       "3  SA0215    10486      82750       13.95     A\n",
       "4  SA0593     9431      92181       15.54     A\n",
       "5  509002     8390     100571       16.96     A\n",
       "6  SA0166     7911     108482       18.29     A\n",
       "7  SA0579     7618     116100       19.58     A\n",
       "8  SA0192     6209     122309       20.62     A\n",
       "9  SA0155     5428     127737       21.54     A"
      ]
     },
     "execution_count": 107,
     "metadata": {},
     "output_type": "execute_result"
    }
   ],
   "source": [
    "produtos.head(10)"
   ]
  },
  {
   "cell_type": "code",
   "execution_count": 108,
   "metadata": {},
   "outputs": [
    {
     "data": {
      "image/png": "[encoded data removed]",
      "text/plain": [
       "<Figure size 1152x576 with 1 Axes>"
      ]
     },
     "metadata": {
      "needs_background": "light"
     },
     "output_type": "display_data"
    }
   ],
   "source": [
    "ax = sns.barplot(x='produto', y='index', data=produtos.head(20), palette=paleta)\n",
    "ax.set_title('20 produtos com maior movimentação na primeira quinzena de abril - Por UC', fontsize=18)\n",
    "ax.figure.set_size_inches(grafico_medio)\n",
    "ax.bar_label(ax.containers[0], size=10)\n",
    "ax = ax"
   ]
  },
  {
   "cell_type": "code",
   "execution_count": 109,
   "metadata": {},
   "outputs": [
    {
     "data": {
      "text/html": [
       "<div>\n",
       "<style scoped>\n",
       "    .dataframe tbody tr th:only-of-type {\n",
       "        vertical-align: middle;\n",
       "    }\n",
       "\n",
       "    .dataframe tbody tr th {\n",
       "        vertical-align: top;\n",
       "    }\n",
       "\n",
       "    .dataframe thead th {\n",
       "        text-align: right;\n",
       "    }\n",
       "</style>\n",
       "<table border=\"1\" class=\"dataframe\">\n",
       "  <thead>\n",
       "    <tr style=\"text-align: right;\">\n",
       "      <th></th>\n",
       "      <th>index</th>\n",
       "      <th>produto</th>\n",
       "      <th>acumulado</th>\n",
       "      <th>percentual</th>\n",
       "      <th>Curva</th>\n",
       "    </tr>\n",
       "  </thead>\n",
       "  <tbody>\n",
       "    <tr>\n",
       "      <th>0</th>\n",
       "      <td>SA0309</td>\n",
       "      <td>49637</td>\n",
       "      <td>49637</td>\n",
       "      <td>8.37</td>\n",
       "      <td>A</td>\n",
       "    </tr>\n",
       "    <tr>\n",
       "      <th>1</th>\n",
       "      <td>SA0441</td>\n",
       "      <td>11818</td>\n",
       "      <td>61455</td>\n",
       "      <td>10.36</td>\n",
       "      <td>A</td>\n",
       "    </tr>\n",
       "    <tr>\n",
       "      <th>2</th>\n",
       "      <td>SZ0357</td>\n",
       "      <td>10809</td>\n",
       "      <td>72264</td>\n",
       "      <td>12.19</td>\n",
       "      <td>A</td>\n",
       "    </tr>\n",
       "    <tr>\n",
       "      <th>3</th>\n",
       "      <td>SA0215</td>\n",
       "      <td>10486</td>\n",
       "      <td>82750</td>\n",
       "      <td>13.95</td>\n",
       "      <td>A</td>\n",
       "    </tr>\n",
       "    <tr>\n",
       "      <th>4</th>\n",
       "      <td>SA0593</td>\n",
       "      <td>9431</td>\n",
       "      <td>92181</td>\n",
       "      <td>15.54</td>\n",
       "      <td>A</td>\n",
       "    </tr>\n",
       "  </tbody>\n",
       "</table>\n",
       "</div>"
      ],
      "text/plain": [
       "    index  produto  acumulado  percentual Curva\n",
       "0  SA0309    49637      49637        8.37     A\n",
       "1  SA0441    11818      61455       10.36     A\n",
       "2  SZ0357    10809      72264       12.19     A\n",
       "3  SA0215    10486      82750       13.95     A\n",
       "4  SA0593     9431      92181       15.54     A"
      ]
     },
     "execution_count": 109,
     "metadata": {},
     "output_type": "execute_result"
    }
   ],
   "source": [
    "produtos.head()"
   ]
  },
  {
   "cell_type": "code",
   "execution_count": 110,
   "metadata": {},
   "outputs": [
    {
     "data": {
      "text/html": [
       "<div>\n",
       "<style scoped>\n",
       "    .dataframe tbody tr th:only-of-type {\n",
       "        vertical-align: middle;\n",
       "    }\n",
       "\n",
       "    .dataframe tbody tr th {\n",
       "        vertical-align: top;\n",
       "    }\n",
       "\n",
       "    .dataframe thead th {\n",
       "        text-align: right;\n",
       "    }\n",
       "</style>\n",
       "<table border=\"1\" class=\"dataframe\">\n",
       "  <thead>\n",
       "    <tr style=\"text-align: right;\">\n",
       "      <th></th>\n",
       "      <th>produto</th>\n",
       "    </tr>\n",
       "    <tr>\n",
       "      <th>Curva</th>\n",
       "      <th></th>\n",
       "    </tr>\n",
       "  </thead>\n",
       "  <tbody>\n",
       "    <tr>\n",
       "      <th>A</th>\n",
       "      <td>147337</td>\n",
       "    </tr>\n",
       "    <tr>\n",
       "      <th>B</th>\n",
       "      <td>148497</td>\n",
       "    </tr>\n",
       "    <tr>\n",
       "      <th>C</th>\n",
       "      <td>148748</td>\n",
       "    </tr>\n",
       "    <tr>\n",
       "      <th>D</th>\n",
       "      <td>148444</td>\n",
       "    </tr>\n",
       "  </tbody>\n",
       "</table>\n",
       "</div>"
      ],
      "text/plain": [
       "       produto\n",
       "Curva         \n",
       "A       147337\n",
       "B       148497\n",
       "C       148748\n",
       "D       148444"
      ]
     },
     "execution_count": 110,
     "metadata": {},
     "output_type": "execute_result"
    }
   ],
   "source": [
    "teste = produtos.groupby('Curva')['produto'].sum().to_frame()\n",
    "teste"
   ]
  },
  {
   "cell_type": "markdown",
   "metadata": {},
   "source": [
    "#### Merge da quantidade de movimentação com a quantidade em estoque"
   ]
  },
  {
   "cell_type": "code",
   "execution_count": 111,
   "metadata": {},
   "outputs": [
    {
     "data": {
      "text/html": [
       "<div>\n",
       "<style scoped>\n",
       "    .dataframe tbody tr th:only-of-type {\n",
       "        vertical-align: middle;\n",
       "    }\n",
       "\n",
       "    .dataframe tbody tr th {\n",
       "        vertical-align: top;\n",
       "    }\n",
       "\n",
       "    .dataframe thead th {\n",
       "        text-align: right;\n",
       "    }\n",
       "</style>\n",
       "<table border=\"1\" class=\"dataframe\">\n",
       "  <thead>\n",
       "    <tr style=\"text-align: right;\">\n",
       "      <th></th>\n",
       "      <th>index</th>\n",
       "      <th>Produto</th>\n",
       "    </tr>\n",
       "  </thead>\n",
       "  <tbody>\n",
       "    <tr>\n",
       "      <th>0</th>\n",
       "      <td>SA0192</td>\n",
       "      <td>349</td>\n",
       "    </tr>\n",
       "    <tr>\n",
       "      <th>1</th>\n",
       "      <td>SA0593</td>\n",
       "      <td>240</td>\n",
       "    </tr>\n",
       "    <tr>\n",
       "      <th>2</th>\n",
       "      <td>SA0191</td>\n",
       "      <td>212</td>\n",
       "    </tr>\n",
       "    <tr>\n",
       "      <th>3</th>\n",
       "      <td>SA0166</td>\n",
       "      <td>174</td>\n",
       "    </tr>\n",
       "    <tr>\n",
       "      <th>4</th>\n",
       "      <td>SA0163</td>\n",
       "      <td>172</td>\n",
       "    </tr>\n",
       "  </tbody>\n",
       "</table>\n",
       "</div>"
      ],
      "text/plain": [
       "    index  Produto\n",
       "0  SA0192      349\n",
       "1  SA0593      240\n",
       "2  SA0191      212\n",
       "3  SA0166      174\n",
       "4  SA0163      172"
      ]
     },
     "execution_count": 111,
     "metadata": {},
     "output_type": "execute_result"
    }
   ],
   "source": [
    "estoque_por_item = estoque['Produto'].value_counts().to_frame().reset_index()\n",
    "estoque_por_item.head()"
   ]
  },
  {
   "cell_type": "code",
   "execution_count": 112,
   "metadata": {},
   "outputs": [
    {
     "data": {
      "text/html": [
       "<div>\n",
       "<style scoped>\n",
       "    .dataframe tbody tr th:only-of-type {\n",
       "        vertical-align: middle;\n",
       "    }\n",
       "\n",
       "    .dataframe tbody tr th {\n",
       "        vertical-align: top;\n",
       "    }\n",
       "\n",
       "    .dataframe thead th {\n",
       "        text-align: right;\n",
       "    }\n",
       "</style>\n",
       "<table border=\"1\" class=\"dataframe\">\n",
       "  <thead>\n",
       "    <tr style=\"text-align: right;\">\n",
       "      <th></th>\n",
       "      <th>index</th>\n",
       "      <th>produto</th>\n",
       "      <th>acumulado</th>\n",
       "      <th>percentual</th>\n",
       "      <th>Curva</th>\n",
       "    </tr>\n",
       "  </thead>\n",
       "  <tbody>\n",
       "    <tr>\n",
       "      <th>0</th>\n",
       "      <td>SA0309</td>\n",
       "      <td>49637</td>\n",
       "      <td>49637</td>\n",
       "      <td>8.37</td>\n",
       "      <td>A</td>\n",
       "    </tr>\n",
       "    <tr>\n",
       "      <th>1</th>\n",
       "      <td>SA0441</td>\n",
       "      <td>11818</td>\n",
       "      <td>61455</td>\n",
       "      <td>10.36</td>\n",
       "      <td>A</td>\n",
       "    </tr>\n",
       "    <tr>\n",
       "      <th>2</th>\n",
       "      <td>SZ0357</td>\n",
       "      <td>10809</td>\n",
       "      <td>72264</td>\n",
       "      <td>12.19</td>\n",
       "      <td>A</td>\n",
       "    </tr>\n",
       "    <tr>\n",
       "      <th>3</th>\n",
       "      <td>SA0215</td>\n",
       "      <td>10486</td>\n",
       "      <td>82750</td>\n",
       "      <td>13.95</td>\n",
       "      <td>A</td>\n",
       "    </tr>\n",
       "    <tr>\n",
       "      <th>4</th>\n",
       "      <td>SA0593</td>\n",
       "      <td>9431</td>\n",
       "      <td>92181</td>\n",
       "      <td>15.54</td>\n",
       "      <td>A</td>\n",
       "    </tr>\n",
       "  </tbody>\n",
       "</table>\n",
       "</div>"
      ],
      "text/plain": [
       "    index  produto  acumulado  percentual Curva\n",
       "0  SA0309    49637      49637        8.37     A\n",
       "1  SA0441    11818      61455       10.36     A\n",
       "2  SZ0357    10809      72264       12.19     A\n",
       "3  SA0215    10486      82750       13.95     A\n",
       "4  SA0593     9431      92181       15.54     A"
      ]
     },
     "execution_count": 112,
     "metadata": {},
     "output_type": "execute_result"
    }
   ],
   "source": [
    "produtos.head()"
   ]
  },
  {
   "cell_type": "code",
   "execution_count": 113,
   "metadata": {},
   "outputs": [
    {
     "data": {
      "text/html": [
       "<div>\n",
       "<style scoped>\n",
       "    .dataframe tbody tr th:only-of-type {\n",
       "        vertical-align: middle;\n",
       "    }\n",
       "\n",
       "    .dataframe tbody tr th {\n",
       "        vertical-align: top;\n",
       "    }\n",
       "\n",
       "    .dataframe thead th {\n",
       "        text-align: right;\n",
       "    }\n",
       "</style>\n",
       "<table border=\"1\" class=\"dataframe\">\n",
       "  <thead>\n",
       "    <tr style=\"text-align: right;\">\n",
       "      <th></th>\n",
       "      <th>index</th>\n",
       "      <th>produto</th>\n",
       "      <th>acumulado</th>\n",
       "      <th>percentual</th>\n",
       "      <th>Curva</th>\n",
       "      <th>Produto</th>\n",
       "    </tr>\n",
       "  </thead>\n",
       "  <tbody>\n",
       "    <tr>\n",
       "      <th>0</th>\n",
       "      <td>SA0309</td>\n",
       "      <td>49637.0</td>\n",
       "      <td>49637.0</td>\n",
       "      <td>8.37</td>\n",
       "      <td>A</td>\n",
       "      <td>159.0</td>\n",
       "    </tr>\n",
       "    <tr>\n",
       "      <th>1</th>\n",
       "      <td>SA0441</td>\n",
       "      <td>11818.0</td>\n",
       "      <td>61455.0</td>\n",
       "      <td>10.36</td>\n",
       "      <td>A</td>\n",
       "      <td>66.0</td>\n",
       "    </tr>\n",
       "    <tr>\n",
       "      <th>2</th>\n",
       "      <td>SZ0357</td>\n",
       "      <td>10809.0</td>\n",
       "      <td>72264.0</td>\n",
       "      <td>12.19</td>\n",
       "      <td>A</td>\n",
       "      <td>23.0</td>\n",
       "    </tr>\n",
       "    <tr>\n",
       "      <th>3</th>\n",
       "      <td>SA0215</td>\n",
       "      <td>10486.0</td>\n",
       "      <td>82750.0</td>\n",
       "      <td>13.95</td>\n",
       "      <td>A</td>\n",
       "      <td>119.0</td>\n",
       "    </tr>\n",
       "    <tr>\n",
       "      <th>4</th>\n",
       "      <td>SA0593</td>\n",
       "      <td>9431.0</td>\n",
       "      <td>92181.0</td>\n",
       "      <td>15.54</td>\n",
       "      <td>A</td>\n",
       "      <td>240.0</td>\n",
       "    </tr>\n",
       "  </tbody>\n",
       "</table>\n",
       "</div>"
      ],
      "text/plain": [
       "    index  produto  acumulado  percentual Curva  Produto\n",
       "0  SA0309  49637.0    49637.0        8.37     A    159.0\n",
       "1  SA0441  11818.0    61455.0       10.36     A     66.0\n",
       "2  SZ0357  10809.0    72264.0       12.19     A     23.0\n",
       "3  SA0215  10486.0    82750.0       13.95     A    119.0\n",
       "4  SA0593   9431.0    92181.0       15.54     A    240.0"
      ]
     },
     "execution_count": 113,
     "metadata": {},
     "output_type": "execute_result"
    }
   ],
   "source": [
    "nova_curva = produtos.merge(estoque_por_item, left_on='index', right_on='index', how='outer')\n",
    "nova_curva.head()"
   ]
  },
  {
   "cell_type": "code",
   "execution_count": 114,
   "metadata": {},
   "outputs": [],
   "source": [
    "nova_curva['percentual_estoque'] = ((nova_curva['Produto'] / nova_curva['Produto'].sum())*100).round(2)"
   ]
  },
  {
   "cell_type": "code",
   "execution_count": 115,
   "metadata": {},
   "outputs": [
    {
     "data": {
      "text/html": [
       "<div>\n",
       "<style scoped>\n",
       "    .dataframe tbody tr th:only-of-type {\n",
       "        vertical-align: middle;\n",
       "    }\n",
       "\n",
       "    .dataframe tbody tr th {\n",
       "        vertical-align: top;\n",
       "    }\n",
       "\n",
       "    .dataframe thead th {\n",
       "        text-align: right;\n",
       "    }\n",
       "</style>\n",
       "<table border=\"1\" class=\"dataframe\">\n",
       "  <thead>\n",
       "    <tr style=\"text-align: right;\">\n",
       "      <th></th>\n",
       "      <th>index</th>\n",
       "      <th>produto</th>\n",
       "      <th>acumulado</th>\n",
       "      <th>percentual</th>\n",
       "      <th>Curva</th>\n",
       "      <th>Produto</th>\n",
       "      <th>percentual_estoque</th>\n",
       "    </tr>\n",
       "  </thead>\n",
       "  <tbody>\n",
       "    <tr>\n",
       "      <th>0</th>\n",
       "      <td>SA0309</td>\n",
       "      <td>49637.0</td>\n",
       "      <td>49637.0</td>\n",
       "      <td>8.37</td>\n",
       "      <td>A</td>\n",
       "      <td>159.0</td>\n",
       "      <td>1.64</td>\n",
       "    </tr>\n",
       "    <tr>\n",
       "      <th>1</th>\n",
       "      <td>SA0441</td>\n",
       "      <td>11818.0</td>\n",
       "      <td>61455.0</td>\n",
       "      <td>10.36</td>\n",
       "      <td>A</td>\n",
       "      <td>66.0</td>\n",
       "      <td>0.68</td>\n",
       "    </tr>\n",
       "    <tr>\n",
       "      <th>2</th>\n",
       "      <td>SZ0357</td>\n",
       "      <td>10809.0</td>\n",
       "      <td>72264.0</td>\n",
       "      <td>12.19</td>\n",
       "      <td>A</td>\n",
       "      <td>23.0</td>\n",
       "      <td>0.24</td>\n",
       "    </tr>\n",
       "    <tr>\n",
       "      <th>3</th>\n",
       "      <td>SA0215</td>\n",
       "      <td>10486.0</td>\n",
       "      <td>82750.0</td>\n",
       "      <td>13.95</td>\n",
       "      <td>A</td>\n",
       "      <td>119.0</td>\n",
       "      <td>1.23</td>\n",
       "    </tr>\n",
       "    <tr>\n",
       "      <th>4</th>\n",
       "      <td>SA0593</td>\n",
       "      <td>9431.0</td>\n",
       "      <td>92181.0</td>\n",
       "      <td>15.54</td>\n",
       "      <td>A</td>\n",
       "      <td>240.0</td>\n",
       "      <td>2.48</td>\n",
       "    </tr>\n",
       "    <tr>\n",
       "      <th>5</th>\n",
       "      <td>509002</td>\n",
       "      <td>8390.0</td>\n",
       "      <td>100571.0</td>\n",
       "      <td>16.96</td>\n",
       "      <td>A</td>\n",
       "      <td>16.0</td>\n",
       "      <td>0.17</td>\n",
       "    </tr>\n",
       "    <tr>\n",
       "      <th>6</th>\n",
       "      <td>SA0166</td>\n",
       "      <td>7911.0</td>\n",
       "      <td>108482.0</td>\n",
       "      <td>18.29</td>\n",
       "      <td>A</td>\n",
       "      <td>174.0</td>\n",
       "      <td>1.80</td>\n",
       "    </tr>\n",
       "    <tr>\n",
       "      <th>7</th>\n",
       "      <td>SA0579</td>\n",
       "      <td>7618.0</td>\n",
       "      <td>116100.0</td>\n",
       "      <td>19.58</td>\n",
       "      <td>A</td>\n",
       "      <td>90.0</td>\n",
       "      <td>0.93</td>\n",
       "    </tr>\n",
       "    <tr>\n",
       "      <th>8</th>\n",
       "      <td>SA0192</td>\n",
       "      <td>6209.0</td>\n",
       "      <td>122309.0</td>\n",
       "      <td>20.62</td>\n",
       "      <td>A</td>\n",
       "      <td>349.0</td>\n",
       "      <td>3.61</td>\n",
       "    </tr>\n",
       "    <tr>\n",
       "      <th>9</th>\n",
       "      <td>SA0155</td>\n",
       "      <td>5428.0</td>\n",
       "      <td>127737.0</td>\n",
       "      <td>21.54</td>\n",
       "      <td>A</td>\n",
       "      <td>24.0</td>\n",
       "      <td>0.25</td>\n",
       "    </tr>\n",
       "    <tr>\n",
       "      <th>10</th>\n",
       "      <td>TR1350</td>\n",
       "      <td>5138.0</td>\n",
       "      <td>132875.0</td>\n",
       "      <td>22.41</td>\n",
       "      <td>A</td>\n",
       "      <td>NaN</td>\n",
       "      <td>NaN</td>\n",
       "    </tr>\n",
       "    <tr>\n",
       "      <th>11</th>\n",
       "      <td>SA0312</td>\n",
       "      <td>5013.0</td>\n",
       "      <td>137888.0</td>\n",
       "      <td>23.25</td>\n",
       "      <td>A</td>\n",
       "      <td>64.0</td>\n",
       "      <td>0.66</td>\n",
       "    </tr>\n",
       "    <tr>\n",
       "      <th>12</th>\n",
       "      <td>SA0294</td>\n",
       "      <td>4743.0</td>\n",
       "      <td>142631.0</td>\n",
       "      <td>24.05</td>\n",
       "      <td>A</td>\n",
       "      <td>39.0</td>\n",
       "      <td>0.40</td>\n",
       "    </tr>\n",
       "    <tr>\n",
       "      <th>13</th>\n",
       "      <td>SZ0418</td>\n",
       "      <td>4706.0</td>\n",
       "      <td>147337.0</td>\n",
       "      <td>24.84</td>\n",
       "      <td>A</td>\n",
       "      <td>NaN</td>\n",
       "      <td>NaN</td>\n",
       "    </tr>\n",
       "    <tr>\n",
       "      <th>14</th>\n",
       "      <td>SA0164</td>\n",
       "      <td>4565.0</td>\n",
       "      <td>151902.0</td>\n",
       "      <td>25.61</td>\n",
       "      <td>B</td>\n",
       "      <td>86.0</td>\n",
       "      <td>0.89</td>\n",
       "    </tr>\n",
       "    <tr>\n",
       "      <th>15</th>\n",
       "      <td>SA0325</td>\n",
       "      <td>4502.0</td>\n",
       "      <td>156404.0</td>\n",
       "      <td>26.37</td>\n",
       "      <td>B</td>\n",
       "      <td>53.0</td>\n",
       "      <td>0.55</td>\n",
       "    </tr>\n",
       "    <tr>\n",
       "      <th>16</th>\n",
       "      <td>TR0431</td>\n",
       "      <td>4486.0</td>\n",
       "      <td>160890.0</td>\n",
       "      <td>27.13</td>\n",
       "      <td>B</td>\n",
       "      <td>NaN</td>\n",
       "      <td>NaN</td>\n",
       "    </tr>\n",
       "    <tr>\n",
       "      <th>17</th>\n",
       "      <td>SA0211</td>\n",
       "      <td>4315.0</td>\n",
       "      <td>165205.0</td>\n",
       "      <td>27.86</td>\n",
       "      <td>B</td>\n",
       "      <td>86.0</td>\n",
       "      <td>0.89</td>\n",
       "    </tr>\n",
       "    <tr>\n",
       "      <th>18</th>\n",
       "      <td>TR1111</td>\n",
       "      <td>3925.0</td>\n",
       "      <td>169130.0</td>\n",
       "      <td>28.52</td>\n",
       "      <td>B</td>\n",
       "      <td>NaN</td>\n",
       "      <td>NaN</td>\n",
       "    </tr>\n",
       "    <tr>\n",
       "      <th>19</th>\n",
       "      <td>SA0191</td>\n",
       "      <td>3826.0</td>\n",
       "      <td>172956.0</td>\n",
       "      <td>29.16</td>\n",
       "      <td>B</td>\n",
       "      <td>212.0</td>\n",
       "      <td>2.19</td>\n",
       "    </tr>\n",
       "  </tbody>\n",
       "</table>\n",
       "</div>"
      ],
      "text/plain": [
       "     index  produto  acumulado  percentual Curva  Produto  percentual_estoque\n",
       "0   SA0309  49637.0    49637.0        8.37     A    159.0                1.64\n",
       "1   SA0441  11818.0    61455.0       10.36     A     66.0                0.68\n",
       "2   SZ0357  10809.0    72264.0       12.19     A     23.0                0.24\n",
       "3   SA0215  10486.0    82750.0       13.95     A    119.0                1.23\n",
       "4   SA0593   9431.0    92181.0       15.54     A    240.0                2.48\n",
       "5   509002   8390.0   100571.0       16.96     A     16.0                0.17\n",
       "6   SA0166   7911.0   108482.0       18.29     A    174.0                1.80\n",
       "7   SA0579   7618.0   116100.0       19.58     A     90.0                0.93\n",
       "8   SA0192   6209.0   122309.0       20.62     A    349.0                3.61\n",
       "9   SA0155   5428.0   127737.0       21.54     A     24.0                0.25\n",
       "10  TR1350   5138.0   132875.0       22.41     A      NaN                 NaN\n",
       "11  SA0312   5013.0   137888.0       23.25     A     64.0                0.66\n",
       "12  SA0294   4743.0   142631.0       24.05     A     39.0                0.40\n",
       "13  SZ0418   4706.0   147337.0       24.84     A      NaN                 NaN\n",
       "14  SA0164   4565.0   151902.0       25.61     B     86.0                0.89\n",
       "15  SA0325   4502.0   156404.0       26.37     B     53.0                0.55\n",
       "16  TR0431   4486.0   160890.0       27.13     B      NaN                 NaN\n",
       "17  SA0211   4315.0   165205.0       27.86     B     86.0                0.89\n",
       "18  TR1111   3925.0   169130.0       28.52     B      NaN                 NaN\n",
       "19  SA0191   3826.0   172956.0       29.16     B    212.0                2.19"
      ]
     },
     "execution_count": 115,
     "metadata": {},
     "output_type": "execute_result"
    }
   ],
   "source": [
    "nova_curva.head(20)"
   ]
  },
  {
   "cell_type": "code",
   "execution_count": 116,
   "metadata": {},
   "outputs": [
    {
     "data": {
      "text/plain": [
       "Text(0.5, 1.0, 'Quantidade de movimentação por item')"
      ]
     },
     "execution_count": 116,
     "metadata": {},
     "output_type": "execute_result"
    },
    {
     "data": {
      "image/png": "[encoded data removed]",
      "text/plain": [
       "<Figure size 1152x576 with 1 Axes>"
      ]
     },
     "metadata": {
      "needs_background": "light"
     },
     "output_type": "display_data"
    }
   ],
   "source": [
    "ax = sns.barplot(x='Produto', y='index', data=nova_curva.head(20), palette=paleta)\n",
    "ax.figure.set_size_inches(grafico_medio)\n",
    "ax.set_title('Quantidade de movimentação por item', fontsize=18)"
   ]
  }
 ],
 "metadata": {
  "interpreter": {
   "hash": "000cace1860b72f1320ef199b385623fa2285ee040878930bd17a8beed01ff65"
  },
  "kernelspec": {
   "display_name": "Python 3.10.4 64-bit",
   "language": "python",
   "name": "python3"
  },
  "language_info": {
   "codemirror_mode": {
    "name": "ipython",
    "version": 3
   },
   "file_extension": ".py",
   "mimetype": "text/x-python",
   "name": "python",
   "nbconvert_exporter": "python",
   "pygments_lexer": "ipython3",
   "version": "3.10.4"
  },
  "orig_nbformat": 4
 },
 "nbformat": 4,
 "nbformat_minor": 2
}
