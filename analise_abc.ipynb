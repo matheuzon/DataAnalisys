{
 "cells": [
  {
   "cell_type": "markdown",
   "metadata": {},
   "source": [
    "# Análise ABC do estoque"
   ]
  },
  {
   "cell_type": "markdown",
   "metadata": {},
   "source": [
    "Cria análises ABC por quantidade e valor em estoque e por quantidade expedida (movimento 601) em um determinado período"
   ]
  },
  {
   "cell_type": "markdown",
   "metadata": {},
   "source": [
    "Criar uma função para gravar todo histórico (dataframes gerados, lista e gráficos) em uma pasta espeícica para análise posterior."
   ]
  },
  {
   "cell_type": "code",
   "execution_count": 156,
   "metadata": {},
   "outputs": [],
   "source": [
    "import pandas as pd\n",
    "import seaborn as sns\n",
    "import matplotlib.pyplot as plt"
   ]
  },
  {
   "cell_type": "markdown",
   "metadata": {},
   "source": [
    "#### Definindo os arquivos que serão utilizados"
   ]
  },
  {
   "cell_type": "code",
   "execution_count": 157,
   "metadata": {},
   "outputs": [],
   "source": [
    "arquivo_mon = 'mon_04_06.xlsx'\n",
    "arquivo_mb52 = 'mb52_04_06.xlsx'\n",
    "#arquivo_mb51 = '' # movimento 601 de 1 mês\n"
   ]
  },
  {
   "cell_type": "code",
   "execution_count": 158,
   "metadata": {},
   "outputs": [],
   "source": [
    "# Para gerar uma pastas com os dados gravados, trocar o valor da variável gravacao para True\n",
    "\n",
    "# Cria uma função gravar que pega os dados e faz o processo quanto solicitado\n",
    "\n",
    "gravacao = False\n",
    "\n",
    "if gravacao == True:\n",
    "    import os\n",
    "    from datetime import datetime\n",
    "\n",
    "    nova_pasta = 'dados/análises/análise_abc_'+datetime.now().strftime(\"%d-%m-%Y_%Hh%m\")\n",
    "    arquivo_estoque = 'dados/'+arquivo_mon\n",
    "    arquivo_mb = 'dados/'+arquivo_mb52\n",
    "    \n",
    "\n",
    "    if not os.path.exists(nova_pasta): # se a pasta não existir\n",
    "        os.makedirs(nova_pasta) # cria a pasta\n",
    "        destino = nova_pasta+'/'+arquivo_mon\n",
    "        os.replace(arquivo_estoque,destino) # move o arquivo mon para a pasta criada\n",
    "        destino = nova_pasta+'/'+arquivo_mb52\n",
    "        os.replace(arquivo_mb, destino) # move o arquivo mb52 para a pasta criada\n",
    "        del destino\n",
    "    del arquivo_mb, arquivo_estoque\n",
    "\n"
   ]
  },
  {
   "cell_type": "code",
   "execution_count": 159,
   "metadata": {},
   "outputs": [],
   "source": [
    "if gravacao == True:\n",
    "    estoque = pd.read_excel(nova_pasta+'/'+arquivo_mon)\n",
    "    mb52 = pd.read_excel(nova_pasta+'/'+arquivo_mb52)\n",
    "else:\n",
    "    estoque = pd.read_excel('dados/'+arquivo_mon)\n",
    "    mb52 = pd.read_excel('dados/'+arquivo_mb52)\n",
    "\n",
    "acabados = pd.read_csv('dados/arquivos_base/relacao_acabados.csv', sep=',')"
   ]
  },
  {
   "cell_type": "code",
   "execution_count": 160,
   "metadata": {},
   "outputs": [
    {
     "data": {
      "text/plain": [
       "array(['005', 'SA1', nan], dtype=object)"
      ]
     },
     "execution_count": 160,
     "metadata": {},
     "output_type": "execute_result"
    }
   ],
   "source": [
    "mb52['Depósito'].unique()"
   ]
  },
  {
   "cell_type": "code",
   "execution_count": 161,
   "metadata": {},
   "outputs": [],
   "source": [
    "acabados = acabados['0'].unique()"
   ]
  },
  {
   "cell_type": "code",
   "execution_count": 162,
   "metadata": {},
   "outputs": [],
   "source": [
    "lista_acabados = []\n",
    "for x in range(0, len(acabados)):\n",
    "    lista_acabados.append(acabados[x])"
   ]
  },
  {
   "cell_type": "markdown",
   "metadata": {},
   "source": [
    "### Análise 1 - Por valor do estoque"
   ]
  },
  {
   "cell_type": "markdown",
   "metadata": {},
   "source": [
    "<p> Criação da coluna de valor total, quantidade total e valor unitário"
   ]
  },
  {
   "cell_type": "code",
   "execution_count": 163,
   "metadata": {},
   "outputs": [],
   "source": [
    "mb52['valor_total'] = mb52['Val.utiliz.livre'] + mb52['Valor verif.qual.'] + mb52['Val.estoque bloq.']\n",
    "mb52['qtd_total'] = mb52['Utilização livre'] + mb52['Controle qualidade'] + mb52['Bloqueado']\n",
    "mb52['valor_unitario'] = mb52['valor_total'] / mb52['qtd_total']\n"
   ]
  },
  {
   "cell_type": "markdown",
   "metadata": {},
   "source": [
    "#### Lista dos itens que serão desconsideraros, pois não se trata de itens da P3"
   ]
  },
  {
   "cell_type": "markdown",
   "metadata": {},
   "source": [
    "<p>Definindo os itens para utilização na função map()"
   ]
  },
  {
   "cell_type": "code",
   "execution_count": 164,
   "metadata": {},
   "outputs": [],
   "source": [
    "tipo_item = {\n",
    "    'HE':'shrink',\n",
    "    'HC':'shrink',\n",
    "    'HA':'shrink',\n",
    "    'HZ':'shrink',\n",
    "    'HI':'shrink',\n",
    "    'SE':'stretch',\n",
    "    'SA':'stretch',\n",
    "    'SZ':'stretch',\n",
    "    'IH':'shrink',\n",
    "    'IS':'shrink',\n",
    "    'IZ':'shrink',\n",
    "}\n",
    "\n",
    "tipo_produto = {\n",
    "    'HE':'semiacabado',\n",
    "    'HC':'acabado',\n",
    "    'HA':'acabado',\n",
    "    'HZ':'semiacabado',\n",
    "    'HI':'acabado',\n",
    "    'SE':'semiacabado',\n",
    "    'SA':'acabado',\n",
    "    'SZ':'semiacabado',\n",
    "    'IH':'acabado',\n",
    "    'IS':'acabado',\n",
    "    'IZ':'semiacabado',\n",
    "}"
   ]
  },
  {
   "cell_type": "markdown",
   "metadata": {},
   "source": [
    "#### Criando as colunas para classificar os itens"
   ]
  },
  {
   "cell_type": "code",
   "execution_count": 165,
   "metadata": {},
   "outputs": [],
   "source": [
    "mb52['inicial_item'] = mb52['Material'].str[:2]\n",
    "mb52['tipo_item'] = mb52['inicial_item'].map(tipo_item)\n",
    "mb52['tipo_produto'] = mb52['inicial_item'].map(tipo_produto)"
   ]
  },
  {
   "cell_type": "markdown",
   "metadata": {},
   "source": [
    "#### Verificando os itens que existem no dataset"
   ]
  },
  {
   "cell_type": "code",
   "execution_count": 166,
   "metadata": {},
   "outputs": [
    {
     "data": {
      "text/plain": [
       "array(['101012', '201001', '201005', '202002', '202005', '202007',\n",
       "       '203001', '206007', '209001', '209004', '209008', '401005',\n",
       "       '402003', '404003', '404015', '404018', '404030', '404032',\n",
       "       '404035', '404040', '404067', '404071', '412001', '413001',\n",
       "       '415001', '417001', '418005', '423002', '424003', '425001',\n",
       "       '440004', '440005', '440006', '440007', '440008', '502002',\n",
       "       '502004', '502005', '506006', '509002', '509003', '509005',\n",
       "       '514002', '519001', 'A0880001', 'AB1032', 'AB1033', 'AB1037',\n",
       "       'AB1061', 'PB0078', 'PP2194', 'PP2215', 'TB0040', 'TB0056',\n",
       "       'TB0067', 'TB0113', 'TB0114', 'TC0276', 'TE0505', 'TE0832',\n",
       "       'TE1441', 'TE1865', 'TE1979', 'TR0477', 'TR0730', 'TR1029',\n",
       "       'TR1565', 'TR1982', 'TR2030', 'TR2031', 'TR2041', 'TR2042',\n",
       "       'TR2047', 'TR2048', nan], dtype=object)"
      ]
     },
     "execution_count": 166,
     "metadata": {},
     "output_type": "execute_result"
    }
   ],
   "source": [
    "mb52.query('tipo_item.isna()')['Material'].unique()"
   ]
  },
  {
   "cell_type": "markdown",
   "metadata": {},
   "source": [
    "#### Deletando os itens que não são estocados na P3"
   ]
  },
  {
   "cell_type": "code",
   "execution_count": 167,
   "metadata": {},
   "outputs": [
    {
     "data": {
      "text/plain": [
       "array([], dtype=object)"
      ]
     },
     "execution_count": 167,
     "metadata": {},
     "output_type": "execute_result"
    }
   ],
   "source": [
    "mb52.dropna(subset=['tipo_item'], inplace=True)\n",
    "mb52.query('tipo_item.isna()')['Material'].unique()"
   ]
  },
  {
   "cell_type": "code",
   "execution_count": 168,
   "metadata": {},
   "outputs": [
    {
     "data": {
      "text/html": [
       "<div>\n",
       "<style scoped>\n",
       "    .dataframe tbody tr th:only-of-type {\n",
       "        vertical-align: middle;\n",
       "    }\n",
       "\n",
       "    .dataframe tbody tr th {\n",
       "        vertical-align: top;\n",
       "    }\n",
       "\n",
       "    .dataframe thead th {\n",
       "        text-align: right;\n",
       "    }\n",
       "</style>\n",
       "<table border=\"1\" class=\"dataframe\">\n",
       "  <thead>\n",
       "    <tr style=\"text-align: right;\">\n",
       "      <th></th>\n",
       "      <th>Material</th>\n",
       "      <th>Centro</th>\n",
       "      <th>Depósito</th>\n",
       "      <th>Estoque especial</th>\n",
       "      <th>Avaliação estq.esp.</th>\n",
       "      <th>Nº estoque especial</th>\n",
       "      <th>Marc.p/elim.nív.dep.</th>\n",
       "      <th>Lote</th>\n",
       "      <th>Unid.medida básica</th>\n",
       "      <th>Utilização livre</th>\n",
       "      <th>...</th>\n",
       "      <th>Bloqueado</th>\n",
       "      <th>Val.estoque bloq.</th>\n",
       "      <th>Devoluções</th>\n",
       "      <th>Val.bloq.retorno</th>\n",
       "      <th>valor_total</th>\n",
       "      <th>qtd_total</th>\n",
       "      <th>valor_unitario</th>\n",
       "      <th>inicial_item</th>\n",
       "      <th>tipo_item</th>\n",
       "      <th>tipo_produto</th>\n",
       "    </tr>\n",
       "  </thead>\n",
       "  <tbody>\n",
       "    <tr>\n",
       "      <th>6807</th>\n",
       "      <td>SA0305</td>\n",
       "      <td>P703</td>\n",
       "      <td>005</td>\n",
       "      <td>NaN</td>\n",
       "      <td>NaN</td>\n",
       "      <td>NaN</td>\n",
       "      <td>NaN</td>\n",
       "      <td>0000643176</td>\n",
       "      <td>KG</td>\n",
       "      <td>153.20</td>\n",
       "      <td>...</td>\n",
       "      <td>0.0</td>\n",
       "      <td>0.0</td>\n",
       "      <td>0.0</td>\n",
       "      <td>0.0</td>\n",
       "      <td>1941.04</td>\n",
       "      <td>153.20</td>\n",
       "      <td>12.669974</td>\n",
       "      <td>SA</td>\n",
       "      <td>stretch</td>\n",
       "      <td>acabado</td>\n",
       "    </tr>\n",
       "    <tr>\n",
       "      <th>3720</th>\n",
       "      <td>SA0110</td>\n",
       "      <td>P703</td>\n",
       "      <td>005</td>\n",
       "      <td>NaN</td>\n",
       "      <td>NaN</td>\n",
       "      <td>NaN</td>\n",
       "      <td>NaN</td>\n",
       "      <td>0000597326</td>\n",
       "      <td>KG</td>\n",
       "      <td>599.70</td>\n",
       "      <td>...</td>\n",
       "      <td>0.0</td>\n",
       "      <td>0.0</td>\n",
       "      <td>0.0</td>\n",
       "      <td>0.0</td>\n",
       "      <td>6062.97</td>\n",
       "      <td>599.70</td>\n",
       "      <td>10.110005</td>\n",
       "      <td>SA</td>\n",
       "      <td>stretch</td>\n",
       "      <td>acabado</td>\n",
       "    </tr>\n",
       "    <tr>\n",
       "      <th>4907</th>\n",
       "      <td>SA0175</td>\n",
       "      <td>P703</td>\n",
       "      <td>005</td>\n",
       "      <td>NaN</td>\n",
       "      <td>NaN</td>\n",
       "      <td>NaN</td>\n",
       "      <td>NaN</td>\n",
       "      <td>0000685106</td>\n",
       "      <td>KG</td>\n",
       "      <td>388.00</td>\n",
       "      <td>...</td>\n",
       "      <td>0.0</td>\n",
       "      <td>0.0</td>\n",
       "      <td>0.0</td>\n",
       "      <td>0.0</td>\n",
       "      <td>4089.52</td>\n",
       "      <td>388.00</td>\n",
       "      <td>10.540000</td>\n",
       "      <td>SA</td>\n",
       "      <td>stretch</td>\n",
       "      <td>acabado</td>\n",
       "    </tr>\n",
       "    <tr>\n",
       "      <th>3255</th>\n",
       "      <td>SA0063</td>\n",
       "      <td>P703</td>\n",
       "      <td>005</td>\n",
       "      <td>NaN</td>\n",
       "      <td>NaN</td>\n",
       "      <td>NaN</td>\n",
       "      <td>NaN</td>\n",
       "      <td>0000871854</td>\n",
       "      <td>KG</td>\n",
       "      <td>404.04</td>\n",
       "      <td>...</td>\n",
       "      <td>0.0</td>\n",
       "      <td>0.0</td>\n",
       "      <td>0.0</td>\n",
       "      <td>0.0</td>\n",
       "      <td>4258.58</td>\n",
       "      <td>404.04</td>\n",
       "      <td>10.539996</td>\n",
       "      <td>SA</td>\n",
       "      <td>stretch</td>\n",
       "      <td>acabado</td>\n",
       "    </tr>\n",
       "    <tr>\n",
       "      <th>9020</th>\n",
       "      <td>SE0023</td>\n",
       "      <td>P703</td>\n",
       "      <td>SA1</td>\n",
       "      <td>NaN</td>\n",
       "      <td>NaN</td>\n",
       "      <td>NaN</td>\n",
       "      <td>NaN</td>\n",
       "      <td>0000186061</td>\n",
       "      <td>KG</td>\n",
       "      <td>69.25</td>\n",
       "      <td>...</td>\n",
       "      <td>0.0</td>\n",
       "      <td>0.0</td>\n",
       "      <td>0.0</td>\n",
       "      <td>0.0</td>\n",
       "      <td>416.19</td>\n",
       "      <td>69.25</td>\n",
       "      <td>6.009964</td>\n",
       "      <td>SE</td>\n",
       "      <td>stretch</td>\n",
       "      <td>semiacabado</td>\n",
       "    </tr>\n",
       "  </tbody>\n",
       "</table>\n",
       "<p>5 rows × 29 columns</p>\n",
       "</div>"
      ],
      "text/plain": [
       "     Material Centro Depósito  Estoque especial  Avaliação estq.esp.  \\\n",
       "6807   SA0305   P703      005               NaN                  NaN   \n",
       "3720   SA0110   P703      005               NaN                  NaN   \n",
       "4907   SA0175   P703      005               NaN                  NaN   \n",
       "3255   SA0063   P703      005               NaN                  NaN   \n",
       "9020   SE0023   P703      SA1               NaN                  NaN   \n",
       "\n",
       "      Nº estoque especial  Marc.p/elim.nív.dep.        Lote  \\\n",
       "6807                  NaN                   NaN  0000643176   \n",
       "3720                  NaN                   NaN  0000597326   \n",
       "4907                  NaN                   NaN  0000685106   \n",
       "3255                  NaN                   NaN  0000871854   \n",
       "9020                  NaN                   NaN  0000186061   \n",
       "\n",
       "     Unid.medida básica  Utilização livre  ...  Bloqueado Val.estoque bloq.  \\\n",
       "6807                 KG            153.20  ...        0.0               0.0   \n",
       "3720                 KG            599.70  ...        0.0               0.0   \n",
       "4907                 KG            388.00  ...        0.0               0.0   \n",
       "3255                 KG            404.04  ...        0.0               0.0   \n",
       "9020                 KG             69.25  ...        0.0               0.0   \n",
       "\n",
       "      Devoluções  Val.bloq.retorno  valor_total  qtd_total  valor_unitario  \\\n",
       "6807         0.0               0.0      1941.04     153.20       12.669974   \n",
       "3720         0.0               0.0      6062.97     599.70       10.110005   \n",
       "4907         0.0               0.0      4089.52     388.00       10.540000   \n",
       "3255         0.0               0.0      4258.58     404.04       10.539996   \n",
       "9020         0.0               0.0       416.19      69.25        6.009964   \n",
       "\n",
       "      inicial_item  tipo_item  tipo_produto  \n",
       "6807            SA    stretch       acabado  \n",
       "3720            SA    stretch       acabado  \n",
       "4907            SA    stretch       acabado  \n",
       "3255            SA    stretch       acabado  \n",
       "9020            SE    stretch   semiacabado  \n",
       "\n",
       "[5 rows x 29 columns]"
      ]
     },
     "execution_count": 168,
     "metadata": {},
     "output_type": "execute_result"
    }
   ],
   "source": [
    "mb52.sample(5)"
   ]
  },
  {
   "cell_type": "markdown",
   "metadata": {},
   "source": [
    "Cria um dataframe com o preço unitário de cada item do estoque"
   ]
  },
  {
   "cell_type": "code",
   "execution_count": 169,
   "metadata": {},
   "outputs": [
    {
     "data": {
      "text/html": [
       "<div>\n",
       "<style scoped>\n",
       "    .dataframe tbody tr th:only-of-type {\n",
       "        vertical-align: middle;\n",
       "    }\n",
       "\n",
       "    .dataframe tbody tr th {\n",
       "        vertical-align: top;\n",
       "    }\n",
       "\n",
       "    .dataframe thead th {\n",
       "        text-align: right;\n",
       "    }\n",
       "</style>\n",
       "<table border=\"1\" class=\"dataframe\">\n",
       "  <thead>\n",
       "    <tr style=\"text-align: right;\">\n",
       "      <th></th>\n",
       "      <th>valor_unitario</th>\n",
       "    </tr>\n",
       "    <tr>\n",
       "      <th>Material</th>\n",
       "      <th></th>\n",
       "    </tr>\n",
       "  </thead>\n",
       "  <tbody>\n",
       "    <tr>\n",
       "      <th>SA0469</th>\n",
       "      <td>10.00</td>\n",
       "    </tr>\n",
       "    <tr>\n",
       "      <th>SA0294</th>\n",
       "      <td>16.66</td>\n",
       "    </tr>\n",
       "    <tr>\n",
       "      <th>SA0313</th>\n",
       "      <td>10.58</td>\n",
       "    </tr>\n",
       "    <tr>\n",
       "      <th>HA0027</th>\n",
       "      <td>9.60</td>\n",
       "    </tr>\n",
       "    <tr>\n",
       "      <th>SA0168</th>\n",
       "      <td>10.11</td>\n",
       "    </tr>\n",
       "  </tbody>\n",
       "</table>\n",
       "</div>"
      ],
      "text/plain": [
       "          valor_unitario\n",
       "Material                \n",
       "SA0469             10.00\n",
       "SA0294             16.66\n",
       "SA0313             10.58\n",
       "HA0027              9.60\n",
       "SA0168             10.11"
      ]
     },
     "execution_count": 169,
     "metadata": {},
     "output_type": "execute_result"
    }
   ],
   "source": [
    "valor_produto = mb52.groupby('Material')['valor_unitario'].mean().to_frame().round(2)\n",
    "valor_produto.sample(5)"
   ]
  },
  {
   "cell_type": "code",
   "execution_count": 170,
   "metadata": {},
   "outputs": [
    {
     "data": {
      "text/html": [
       "<div>\n",
       "<style scoped>\n",
       "    .dataframe tbody tr th:only-of-type {\n",
       "        vertical-align: middle;\n",
       "    }\n",
       "\n",
       "    .dataframe tbody tr th {\n",
       "        vertical-align: top;\n",
       "    }\n",
       "\n",
       "    .dataframe thead th {\n",
       "        text-align: right;\n",
       "    }\n",
       "</style>\n",
       "<table border=\"1\" class=\"dataframe\">\n",
       "  <thead>\n",
       "    <tr style=\"text-align: right;\">\n",
       "      <th></th>\n",
       "      <th>valor_unitario</th>\n",
       "    </tr>\n",
       "    <tr>\n",
       "      <th>Material</th>\n",
       "      <th></th>\n",
       "    </tr>\n",
       "  </thead>\n",
       "  <tbody>\n",
       "    <tr>\n",
       "      <th>SA0441</th>\n",
       "      <td>13.12</td>\n",
       "    </tr>\n",
       "  </tbody>\n",
       "</table>\n",
       "</div>"
      ],
      "text/plain": [
       "          valor_unitario\n",
       "Material                \n",
       "SA0441             13.12"
      ]
     },
     "execution_count": 170,
     "metadata": {},
     "output_type": "execute_result"
    }
   ],
   "source": [
    "valor_produto.query('Material == \"SA0441\"')"
   ]
  },
  {
   "cell_type": "markdown",
   "metadata": {},
   "source": [
    "<p> Criação do novo dataframe apenas com o material, valor total e grupo"
   ]
  },
  {
   "cell_type": "code",
   "execution_count": 171,
   "metadata": {},
   "outputs": [
    {
     "name": "stderr",
     "output_type": "stream",
     "text": [
      "C:\\Users\\mathe\\AppData\\Local\\Temp\\ipykernel_21512\\2113741212.py:2: SettingWithCopyWarning: \n",
      "A value is trying to be set on a copy of a slice from a DataFrame.\n",
      "Try using .loc[row_indexer,col_indexer] = value instead\n",
      "\n",
      "See the caveats in the documentation: https://pandas.pydata.org/pandas-docs/stable/user_guide/indexing.html#returning-a-view-versus-a-copy\n",
      "  dados['grupo'] = mb52['Material'].apply(lambda x: 'Acabado' if x in lista_acabados else 'na')\n"
     ]
    },
    {
     "data": {
      "text/html": [
       "<div>\n",
       "<style scoped>\n",
       "    .dataframe tbody tr th:only-of-type {\n",
       "        vertical-align: middle;\n",
       "    }\n",
       "\n",
       "    .dataframe tbody tr th {\n",
       "        vertical-align: top;\n",
       "    }\n",
       "\n",
       "    .dataframe thead th {\n",
       "        text-align: right;\n",
       "    }\n",
       "</style>\n",
       "<table border=\"1\" class=\"dataframe\">\n",
       "  <thead>\n",
       "    <tr style=\"text-align: right;\">\n",
       "      <th></th>\n",
       "      <th>Material</th>\n",
       "      <th>valor_total</th>\n",
       "      <th>grupo</th>\n",
       "    </tr>\n",
       "  </thead>\n",
       "  <tbody>\n",
       "    <tr>\n",
       "      <th>52</th>\n",
       "      <td>HA0004</td>\n",
       "      <td>7621.87</td>\n",
       "      <td>Acabado</td>\n",
       "    </tr>\n",
       "    <tr>\n",
       "      <th>53</th>\n",
       "      <td>HA0004</td>\n",
       "      <td>7591.61</td>\n",
       "      <td>Acabado</td>\n",
       "    </tr>\n",
       "  </tbody>\n",
       "</table>\n",
       "</div>"
      ],
      "text/plain": [
       "   Material  valor_total    grupo\n",
       "52   HA0004      7621.87  Acabado\n",
       "53   HA0004      7591.61  Acabado"
      ]
     },
     "execution_count": 171,
     "metadata": {},
     "output_type": "execute_result"
    }
   ],
   "source": [
    "dados = mb52[['Material', 'valor_total']]\n",
    "dados['grupo'] = mb52['Material'].apply(lambda x: 'Acabado' if x in lista_acabados else 'na')\n",
    "dados = dados.query('grupo ==\"Acabado\"')\n",
    "dados.head(2)"
   ]
  },
  {
   "cell_type": "code",
   "execution_count": 172,
   "metadata": {},
   "outputs": [
    {
     "data": {
      "text/plain": [
       "2458207.3100000005"
      ]
     },
     "execution_count": 172,
     "metadata": {},
     "output_type": "execute_result"
    }
   ],
   "source": [
    "dados.query('Material ==\"SA0192\"')['valor_total'].sum()"
   ]
  },
  {
   "cell_type": "markdown",
   "metadata": {},
   "source": [
    "#### Cria um novo dataframe com a soma total de cada item e classifica do maior para o menor"
   ]
  },
  {
   "cell_type": "code",
   "execution_count": 173,
   "metadata": {},
   "outputs": [
    {
     "data": {
      "text/html": [
       "<div>\n",
       "<style scoped>\n",
       "    .dataframe tbody tr th:only-of-type {\n",
       "        vertical-align: middle;\n",
       "    }\n",
       "\n",
       "    .dataframe tbody tr th {\n",
       "        vertical-align: top;\n",
       "    }\n",
       "\n",
       "    .dataframe thead th {\n",
       "        text-align: right;\n",
       "    }\n",
       "</style>\n",
       "<table border=\"1\" class=\"dataframe\">\n",
       "  <thead>\n",
       "    <tr style=\"text-align: right;\">\n",
       "      <th></th>\n",
       "      <th>Material</th>\n",
       "      <th>valor_total</th>\n",
       "    </tr>\n",
       "  </thead>\n",
       "  <tbody>\n",
       "    <tr>\n",
       "      <th>0</th>\n",
       "      <td>SA0192</td>\n",
       "      <td>2458207.31</td>\n",
       "    </tr>\n",
       "    <tr>\n",
       "      <th>1</th>\n",
       "      <td>SA0274</td>\n",
       "      <td>1841451.81</td>\n",
       "    </tr>\n",
       "    <tr>\n",
       "      <th>2</th>\n",
       "      <td>SA0191</td>\n",
       "      <td>1413051.60</td>\n",
       "    </tr>\n",
       "    <tr>\n",
       "      <th>3</th>\n",
       "      <td>SA0166</td>\n",
       "      <td>1353859.51</td>\n",
       "    </tr>\n",
       "    <tr>\n",
       "      <th>4</th>\n",
       "      <td>HA0338</td>\n",
       "      <td>761221.56</td>\n",
       "    </tr>\n",
       "  </tbody>\n",
       "</table>\n",
       "</div>"
      ],
      "text/plain": [
       "  Material  valor_total\n",
       "0   SA0192   2458207.31\n",
       "1   SA0274   1841451.81\n",
       "2   SA0191   1413051.60\n",
       "3   SA0166   1353859.51\n",
       "4   HA0338    761221.56"
      ]
     },
     "execution_count": 173,
     "metadata": {},
     "output_type": "execute_result"
    }
   ],
   "source": [
    "grupo_produtos = dados.groupby(by='Material')['valor_total'].sum().to_frame().sort_values(by='valor_total', ascending=False).reset_index()\n",
    "grupo_produtos.head()"
   ]
  },
  {
   "cell_type": "markdown",
   "metadata": {},
   "source": [
    "#### Cria a coluna percentual com a informação para cada item"
   ]
  },
  {
   "cell_type": "code",
   "execution_count": 174,
   "metadata": {},
   "outputs": [
    {
     "data": {
      "text/html": [
       "<div>\n",
       "<style scoped>\n",
       "    .dataframe tbody tr th:only-of-type {\n",
       "        vertical-align: middle;\n",
       "    }\n",
       "\n",
       "    .dataframe tbody tr th {\n",
       "        vertical-align: top;\n",
       "    }\n",
       "\n",
       "    .dataframe thead th {\n",
       "        text-align: right;\n",
       "    }\n",
       "</style>\n",
       "<table border=\"1\" class=\"dataframe\">\n",
       "  <thead>\n",
       "    <tr style=\"text-align: right;\">\n",
       "      <th></th>\n",
       "      <th>Material</th>\n",
       "      <th>valor_total</th>\n",
       "      <th>percentual</th>\n",
       "    </tr>\n",
       "  </thead>\n",
       "  <tbody>\n",
       "    <tr>\n",
       "      <th>0</th>\n",
       "      <td>SA0192</td>\n",
       "      <td>2458207.31</td>\n",
       "      <td>5.15</td>\n",
       "    </tr>\n",
       "    <tr>\n",
       "      <th>1</th>\n",
       "      <td>SA0274</td>\n",
       "      <td>1841451.81</td>\n",
       "      <td>3.85</td>\n",
       "    </tr>\n",
       "    <tr>\n",
       "      <th>2</th>\n",
       "      <td>SA0191</td>\n",
       "      <td>1413051.60</td>\n",
       "      <td>2.96</td>\n",
       "    </tr>\n",
       "    <tr>\n",
       "      <th>3</th>\n",
       "      <td>SA0166</td>\n",
       "      <td>1353859.51</td>\n",
       "      <td>2.83</td>\n",
       "    </tr>\n",
       "    <tr>\n",
       "      <th>4</th>\n",
       "      <td>HA0338</td>\n",
       "      <td>761221.56</td>\n",
       "      <td>1.59</td>\n",
       "    </tr>\n",
       "  </tbody>\n",
       "</table>\n",
       "</div>"
      ],
      "text/plain": [
       "  Material  valor_total  percentual\n",
       "0   SA0192   2458207.31        5.15\n",
       "1   SA0274   1841451.81        3.85\n",
       "2   SA0191   1413051.60        2.96\n",
       "3   SA0166   1353859.51        2.83\n",
       "4   HA0338    761221.56        1.59"
      ]
     },
     "execution_count": 174,
     "metadata": {},
     "output_type": "execute_result"
    }
   ],
   "source": [
    "grupo_produtos['percentual'] = ((grupo_produtos['valor_total'] / grupo_produtos['valor_total'].sum())*100).round(2)\n",
    "grupo_produtos.head()"
   ]
  },
  {
   "cell_type": "code",
   "execution_count": 175,
   "metadata": {},
   "outputs": [
    {
     "data": {
      "text/plain": [
       "47776315.20999999"
      ]
     },
     "execution_count": 175,
     "metadata": {},
     "output_type": "execute_result"
    }
   ],
   "source": [
    "grupo_produtos['valor_total'].sum()"
   ]
  },
  {
   "cell_type": "markdown",
   "metadata": {},
   "source": [
    "#### Cria o acumulado para classificar com ABC"
   ]
  },
  {
   "cell_type": "code",
   "execution_count": 176,
   "metadata": {},
   "outputs": [],
   "source": [
    "grupo_produtos['percentual_acumulado'] = grupo_produtos['percentual'].cumsum()"
   ]
  },
  {
   "cell_type": "code",
   "execution_count": 177,
   "metadata": {},
   "outputs": [],
   "source": [
    "grupo_produtos['curva'] = grupo_produtos['percentual_acumulado'].apply(lambda x: 'A' if x <= 20 else 'B' if x <= 50 else 'C')"
   ]
  },
  {
   "cell_type": "code",
   "execution_count": 178,
   "metadata": {},
   "outputs": [
    {
     "data": {
      "text/html": [
       "<div>\n",
       "<style scoped>\n",
       "    .dataframe tbody tr th:only-of-type {\n",
       "        vertical-align: middle;\n",
       "    }\n",
       "\n",
       "    .dataframe tbody tr th {\n",
       "        vertical-align: top;\n",
       "    }\n",
       "\n",
       "    .dataframe thead th {\n",
       "        text-align: right;\n",
       "    }\n",
       "</style>\n",
       "<table border=\"1\" class=\"dataframe\">\n",
       "  <thead>\n",
       "    <tr style=\"text-align: right;\">\n",
       "      <th></th>\n",
       "      <th>Material</th>\n",
       "      <th>valor_total</th>\n",
       "      <th>percentual</th>\n",
       "      <th>percentual_acumulado</th>\n",
       "      <th>curva</th>\n",
       "    </tr>\n",
       "  </thead>\n",
       "  <tbody>\n",
       "    <tr>\n",
       "      <th>0</th>\n",
       "      <td>SA0192</td>\n",
       "      <td>2458207.31</td>\n",
       "      <td>5.15</td>\n",
       "      <td>5.15</td>\n",
       "      <td>A</td>\n",
       "    </tr>\n",
       "    <tr>\n",
       "      <th>1</th>\n",
       "      <td>SA0274</td>\n",
       "      <td>1841451.81</td>\n",
       "      <td>3.85</td>\n",
       "      <td>9.00</td>\n",
       "      <td>A</td>\n",
       "    </tr>\n",
       "    <tr>\n",
       "      <th>2</th>\n",
       "      <td>SA0191</td>\n",
       "      <td>1413051.60</td>\n",
       "      <td>2.96</td>\n",
       "      <td>11.96</td>\n",
       "      <td>A</td>\n",
       "    </tr>\n",
       "    <tr>\n",
       "      <th>3</th>\n",
       "      <td>SA0166</td>\n",
       "      <td>1353859.51</td>\n",
       "      <td>2.83</td>\n",
       "      <td>14.79</td>\n",
       "      <td>A</td>\n",
       "    </tr>\n",
       "    <tr>\n",
       "      <th>4</th>\n",
       "      <td>HA0338</td>\n",
       "      <td>761221.56</td>\n",
       "      <td>1.59</td>\n",
       "      <td>16.38</td>\n",
       "      <td>A</td>\n",
       "    </tr>\n",
       "  </tbody>\n",
       "</table>\n",
       "</div>"
      ],
      "text/plain": [
       "  Material  valor_total  percentual  percentual_acumulado curva\n",
       "0   SA0192   2458207.31        5.15                  5.15     A\n",
       "1   SA0274   1841451.81        3.85                  9.00     A\n",
       "2   SA0191   1413051.60        2.96                 11.96     A\n",
       "3   SA0166   1353859.51        2.83                 14.79     A\n",
       "4   HA0338    761221.56        1.59                 16.38     A"
      ]
     },
     "execution_count": 178,
     "metadata": {},
     "output_type": "execute_result"
    }
   ],
   "source": [
    "grupo_produtos.head(5)"
   ]
  },
  {
   "cell_type": "markdown",
   "metadata": {},
   "source": [
    "#### Criando gráfico para representar o valor dos maiores itens"
   ]
  },
  {
   "cell_type": "code",
   "execution_count": 179,
   "metadata": {},
   "outputs": [
    {
     "data": {
      "image/png": "[encoded data removed]",
      "text/plain": [
       "<Figure size 1152x504 with 1 Axes>"
      ]
     },
     "metadata": {
      "needs_background": "light"
     },
     "output_type": "display_data"
    }
   ],
   "source": [
    "ax = sns.barplot(x='Material', y='percentual', data=grupo_produtos.head(10), palette='rocket')\n",
    "ax.figure.set_size_inches(16,7)\n",
    "ax.set_title('Percentual do valor total do estoque (10 maiores)', fontsize=18)\n",
    "ax.set_xlabel('Material', fontsize=14)\n",
    "ax.set_ylabel('Percentual', fontsize=14)\n",
    "ax.bar_label(ax.containers[0], size=15)\n",
    "ax=ax"
   ]
  },
  {
   "cell_type": "markdown",
   "metadata": {},
   "source": [
    "#### Valor total de cada classe em milhões de reais"
   ]
  },
  {
   "cell_type": "code",
   "execution_count": 180,
   "metadata": {},
   "outputs": [
    {
     "data": {
      "text/html": [
       "<div>\n",
       "<style scoped>\n",
       "    .dataframe tbody tr th:only-of-type {\n",
       "        vertical-align: middle;\n",
       "    }\n",
       "\n",
       "    .dataframe tbody tr th {\n",
       "        vertical-align: top;\n",
       "    }\n",
       "\n",
       "    .dataframe thead th {\n",
       "        text-align: right;\n",
       "    }\n",
       "</style>\n",
       "<table border=\"1\" class=\"dataframe\">\n",
       "  <thead>\n",
       "    <tr style=\"text-align: right;\">\n",
       "      <th></th>\n",
       "      <th>valor_total</th>\n",
       "      <th>percentual</th>\n",
       "    </tr>\n",
       "    <tr>\n",
       "      <th>curva</th>\n",
       "      <th></th>\n",
       "      <th></th>\n",
       "    </tr>\n",
       "  </thead>\n",
       "  <tbody>\n",
       "    <tr>\n",
       "      <th>A</th>\n",
       "      <td>9.262304</td>\n",
       "      <td>19.39</td>\n",
       "    </tr>\n",
       "    <tr>\n",
       "      <th>B</th>\n",
       "      <td>14.577734</td>\n",
       "      <td>30.51</td>\n",
       "    </tr>\n",
       "    <tr>\n",
       "      <th>C</th>\n",
       "      <td>23.936277</td>\n",
       "      <td>50.10</td>\n",
       "    </tr>\n",
       "  </tbody>\n",
       "</table>\n",
       "</div>"
      ],
      "text/plain": [
       "       valor_total  percentual\n",
       "curva                         \n",
       "A         9.262304       19.39\n",
       "B        14.577734       30.51\n",
       "C        23.936277       50.10"
      ]
     },
     "execution_count": 180,
     "metadata": {},
     "output_type": "execute_result"
    }
   ],
   "source": [
    "curva = (grupo_produtos.groupby(by='curva')['valor_total'].sum()/1000000).to_frame()\n",
    "curva['percentual'] = (curva['valor_total'] / curva['valor_total'].sum()*100).round(2)\n",
    "curva.head()"
   ]
  },
  {
   "cell_type": "markdown",
   "metadata": {},
   "source": [
    "#### Quantidade de itens de cada classe"
   ]
  },
  {
   "cell_type": "code",
   "execution_count": 181,
   "metadata": {},
   "outputs": [
    {
     "data": {
      "text/plain": [
       "C    341\n",
       "B     30\n",
       "A      7\n",
       "Name: curva, dtype: int64"
      ]
     },
     "execution_count": 181,
     "metadata": {},
     "output_type": "execute_result"
    }
   ],
   "source": [
    "grupo_produtos['curva'].value_counts()"
   ]
  },
  {
   "cell_type": "markdown",
   "metadata": {},
   "source": [
    "### Análise 2 - Por quantidade em estoque"
   ]
  },
  {
   "cell_type": "code",
   "execution_count": 182,
   "metadata": {},
   "outputs": [],
   "source": [
    "# Cria um dataframe com a quantidade total de cada item\n",
    "qtd_estoque = mb52.groupby('Material')['qtd_total'].sum().to_frame().sort_values('qtd_total', ascending=False).round(2)"
   ]
  },
  {
   "cell_type": "code",
   "execution_count": 183,
   "metadata": {},
   "outputs": [],
   "source": [
    "qtd_estoque['percentual'] = (qtd_estoque['qtd_total'] / qtd_estoque['qtd_total'].sum()*100).round(2)\n",
    "qtd_estoque['acumulado'] = qtd_estoque['percentual'].cumsum()"
   ]
  },
  {
   "cell_type": "code",
   "execution_count": 184,
   "metadata": {},
   "outputs": [
    {
     "data": {
      "text/html": [
       "<div>\n",
       "<style scoped>\n",
       "    .dataframe tbody tr th:only-of-type {\n",
       "        vertical-align: middle;\n",
       "    }\n",
       "\n",
       "    .dataframe tbody tr th {\n",
       "        vertical-align: top;\n",
       "    }\n",
       "\n",
       "    .dataframe thead th {\n",
       "        text-align: right;\n",
       "    }\n",
       "</style>\n",
       "<table border=\"1\" class=\"dataframe\">\n",
       "  <thead>\n",
       "    <tr style=\"text-align: right;\">\n",
       "      <th></th>\n",
       "      <th>qtd_total</th>\n",
       "      <th>percentual</th>\n",
       "      <th>acumulado</th>\n",
       "    </tr>\n",
       "    <tr>\n",
       "      <th>Material</th>\n",
       "      <th></th>\n",
       "      <th></th>\n",
       "      <th></th>\n",
       "    </tr>\n",
       "  </thead>\n",
       "  <tbody>\n",
       "    <tr>\n",
       "      <th>SA0274</th>\n",
       "      <td>182141.68</td>\n",
       "      <td>3.68</td>\n",
       "      <td>3.68</td>\n",
       "    </tr>\n",
       "    <tr>\n",
       "      <th>SA0192</th>\n",
       "      <td>177104.34</td>\n",
       "      <td>3.58</td>\n",
       "      <td>7.26</td>\n",
       "    </tr>\n",
       "    <tr>\n",
       "      <th>SA0166</th>\n",
       "      <td>133912.94</td>\n",
       "      <td>2.71</td>\n",
       "      <td>9.97</td>\n",
       "    </tr>\n",
       "    <tr>\n",
       "      <th>SA0191</th>\n",
       "      <td>117754.30</td>\n",
       "      <td>2.38</td>\n",
       "      <td>12.35</td>\n",
       "    </tr>\n",
       "    <tr>\n",
       "      <th>SA0163</th>\n",
       "      <td>71960.00</td>\n",
       "      <td>1.45</td>\n",
       "      <td>13.80</td>\n",
       "    </tr>\n",
       "  </tbody>\n",
       "</table>\n",
       "</div>"
      ],
      "text/plain": [
       "          qtd_total  percentual  acumulado\n",
       "Material                                  \n",
       "SA0274    182141.68        3.68       3.68\n",
       "SA0192    177104.34        3.58       7.26\n",
       "SA0166    133912.94        2.71       9.97\n",
       "SA0191    117754.30        2.38      12.35\n",
       "SA0163     71960.00        1.45      13.80"
      ]
     },
     "execution_count": 184,
     "metadata": {},
     "output_type": "execute_result"
    }
   ],
   "source": [
    "qtd_estoque.head()"
   ]
  },
  {
   "cell_type": "code",
   "execution_count": 185,
   "metadata": {},
   "outputs": [],
   "source": [
    "qtd_estoque['curva'] = qtd_estoque['acumulado'].apply(lambda x: 'A' if x <= 20 else 'B' if x <= 50 else 'C')"
   ]
  },
  {
   "cell_type": "code",
   "execution_count": 186,
   "metadata": {},
   "outputs": [
    {
     "data": {
      "text/html": [
       "<div>\n",
       "<style scoped>\n",
       "    .dataframe tbody tr th:only-of-type {\n",
       "        vertical-align: middle;\n",
       "    }\n",
       "\n",
       "    .dataframe tbody tr th {\n",
       "        vertical-align: top;\n",
       "    }\n",
       "\n",
       "    .dataframe thead th {\n",
       "        text-align: right;\n",
       "    }\n",
       "</style>\n",
       "<table border=\"1\" class=\"dataframe\">\n",
       "  <thead>\n",
       "    <tr style=\"text-align: right;\">\n",
       "      <th></th>\n",
       "      <th>qtd_total</th>\n",
       "      <th>percentual</th>\n",
       "      <th>acumulado</th>\n",
       "      <th>curva</th>\n",
       "    </tr>\n",
       "    <tr>\n",
       "      <th>Material</th>\n",
       "      <th></th>\n",
       "      <th></th>\n",
       "      <th></th>\n",
       "      <th></th>\n",
       "    </tr>\n",
       "  </thead>\n",
       "  <tbody>\n",
       "    <tr>\n",
       "      <th>SA0274</th>\n",
       "      <td>182141.68</td>\n",
       "      <td>3.68</td>\n",
       "      <td>3.68</td>\n",
       "      <td>A</td>\n",
       "    </tr>\n",
       "    <tr>\n",
       "      <th>SA0192</th>\n",
       "      <td>177104.34</td>\n",
       "      <td>3.58</td>\n",
       "      <td>7.26</td>\n",
       "      <td>A</td>\n",
       "    </tr>\n",
       "    <tr>\n",
       "      <th>SA0166</th>\n",
       "      <td>133912.94</td>\n",
       "      <td>2.71</td>\n",
       "      <td>9.97</td>\n",
       "      <td>A</td>\n",
       "    </tr>\n",
       "    <tr>\n",
       "      <th>SA0191</th>\n",
       "      <td>117754.30</td>\n",
       "      <td>2.38</td>\n",
       "      <td>12.35</td>\n",
       "      <td>A</td>\n",
       "    </tr>\n",
       "    <tr>\n",
       "      <th>SA0163</th>\n",
       "      <td>71960.00</td>\n",
       "      <td>1.45</td>\n",
       "      <td>13.80</td>\n",
       "      <td>A</td>\n",
       "    </tr>\n",
       "    <tr>\n",
       "      <th>SE0024</th>\n",
       "      <td>69930.46</td>\n",
       "      <td>1.41</td>\n",
       "      <td>15.21</td>\n",
       "      <td>A</td>\n",
       "    </tr>\n",
       "    <tr>\n",
       "      <th>HA0338</th>\n",
       "      <td>69201.96</td>\n",
       "      <td>1.40</td>\n",
       "      <td>16.61</td>\n",
       "      <td>A</td>\n",
       "    </tr>\n",
       "    <tr>\n",
       "      <th>SA0469</th>\n",
       "      <td>66002.40</td>\n",
       "      <td>1.33</td>\n",
       "      <td>17.94</td>\n",
       "      <td>A</td>\n",
       "    </tr>\n",
       "    <tr>\n",
       "      <th>SA0164</th>\n",
       "      <td>62473.70</td>\n",
       "      <td>1.26</td>\n",
       "      <td>19.20</td>\n",
       "      <td>A</td>\n",
       "    </tr>\n",
       "    <tr>\n",
       "      <th>SA0528</th>\n",
       "      <td>61109.90</td>\n",
       "      <td>1.23</td>\n",
       "      <td>20.43</td>\n",
       "      <td>B</td>\n",
       "    </tr>\n",
       "  </tbody>\n",
       "</table>\n",
       "</div>"
      ],
      "text/plain": [
       "          qtd_total  percentual  acumulado curva\n",
       "Material                                        \n",
       "SA0274    182141.68        3.68       3.68     A\n",
       "SA0192    177104.34        3.58       7.26     A\n",
       "SA0166    133912.94        2.71       9.97     A\n",
       "SA0191    117754.30        2.38      12.35     A\n",
       "SA0163     71960.00        1.45      13.80     A\n",
       "SE0024     69930.46        1.41      15.21     A\n",
       "HA0338     69201.96        1.40      16.61     A\n",
       "SA0469     66002.40        1.33      17.94     A\n",
       "SA0164     62473.70        1.26      19.20     A\n",
       "SA0528     61109.90        1.23      20.43     B"
      ]
     },
     "execution_count": 186,
     "metadata": {},
     "output_type": "execute_result"
    }
   ],
   "source": [
    "qtd_estoque.head(10)"
   ]
  },
  {
   "cell_type": "markdown",
   "metadata": {},
   "source": [
    "### Unindo as duas curvas em um único dataframe"
   ]
  },
  {
   "cell_type": "code",
   "execution_count": 187,
   "metadata": {},
   "outputs": [],
   "source": [
    "curva_estoque = qtd_estoque.merge(grupo_produtos, left_on='Material', right_on='Material')"
   ]
  },
  {
   "cell_type": "code",
   "execution_count": 188,
   "metadata": {},
   "outputs": [],
   "source": [
    "curva_estoque['inicial_item'] = curva_estoque['Material'].str[:2]\n",
    "curva_estoque['tipo_item'] = curva_estoque['inicial_item'].map(tipo_item)\n",
    "curva_estoque['tipo_produto'] = curva_estoque['inicial_item'].map(tipo_produto)"
   ]
  },
  {
   "cell_type": "code",
   "execution_count": 189,
   "metadata": {},
   "outputs": [
    {
     "data": {
      "text/html": [
       "<div>\n",
       "<style scoped>\n",
       "    .dataframe tbody tr th:only-of-type {\n",
       "        vertical-align: middle;\n",
       "    }\n",
       "\n",
       "    .dataframe tbody tr th {\n",
       "        vertical-align: top;\n",
       "    }\n",
       "\n",
       "    .dataframe thead th {\n",
       "        text-align: right;\n",
       "    }\n",
       "</style>\n",
       "<table border=\"1\" class=\"dataframe\">\n",
       "  <thead>\n",
       "    <tr style=\"text-align: right;\">\n",
       "      <th></th>\n",
       "      <th>Material</th>\n",
       "      <th>qtd_total</th>\n",
       "      <th>percentual_x</th>\n",
       "      <th>acumulado</th>\n",
       "      <th>curva_x</th>\n",
       "      <th>valor_total</th>\n",
       "      <th>percentual_y</th>\n",
       "      <th>percentual_acumulado</th>\n",
       "      <th>curva_y</th>\n",
       "      <th>inicial_item</th>\n",
       "      <th>tipo_item</th>\n",
       "      <th>tipo_produto</th>\n",
       "    </tr>\n",
       "  </thead>\n",
       "  <tbody>\n",
       "    <tr>\n",
       "      <th>0</th>\n",
       "      <td>SA0274</td>\n",
       "      <td>182141.68</td>\n",
       "      <td>3.68</td>\n",
       "      <td>3.68</td>\n",
       "      <td>A</td>\n",
       "      <td>1841451.81</td>\n",
       "      <td>3.85</td>\n",
       "      <td>9.00</td>\n",
       "      <td>A</td>\n",
       "      <td>SA</td>\n",
       "      <td>stretch</td>\n",
       "      <td>acabado</td>\n",
       "    </tr>\n",
       "    <tr>\n",
       "      <th>1</th>\n",
       "      <td>SA0192</td>\n",
       "      <td>177104.34</td>\n",
       "      <td>3.58</td>\n",
       "      <td>7.26</td>\n",
       "      <td>A</td>\n",
       "      <td>2458207.31</td>\n",
       "      <td>5.15</td>\n",
       "      <td>5.15</td>\n",
       "      <td>A</td>\n",
       "      <td>SA</td>\n",
       "      <td>stretch</td>\n",
       "      <td>acabado</td>\n",
       "    </tr>\n",
       "    <tr>\n",
       "      <th>2</th>\n",
       "      <td>SA0166</td>\n",
       "      <td>133912.94</td>\n",
       "      <td>2.71</td>\n",
       "      <td>9.97</td>\n",
       "      <td>A</td>\n",
       "      <td>1353859.51</td>\n",
       "      <td>2.83</td>\n",
       "      <td>14.79</td>\n",
       "      <td>A</td>\n",
       "      <td>SA</td>\n",
       "      <td>stretch</td>\n",
       "      <td>acabado</td>\n",
       "    </tr>\n",
       "    <tr>\n",
       "      <th>3</th>\n",
       "      <td>SA0191</td>\n",
       "      <td>117754.30</td>\n",
       "      <td>2.38</td>\n",
       "      <td>12.35</td>\n",
       "      <td>A</td>\n",
       "      <td>1413051.60</td>\n",
       "      <td>2.96</td>\n",
       "      <td>11.96</td>\n",
       "      <td>A</td>\n",
       "      <td>SA</td>\n",
       "      <td>stretch</td>\n",
       "      <td>acabado</td>\n",
       "    </tr>\n",
       "    <tr>\n",
       "      <th>4</th>\n",
       "      <td>SA0163</td>\n",
       "      <td>71960.00</td>\n",
       "      <td>1.45</td>\n",
       "      <td>13.80</td>\n",
       "      <td>A</td>\n",
       "      <td>727515.48</td>\n",
       "      <td>1.52</td>\n",
       "      <td>17.90</td>\n",
       "      <td>A</td>\n",
       "      <td>SA</td>\n",
       "      <td>stretch</td>\n",
       "      <td>acabado</td>\n",
       "    </tr>\n",
       "  </tbody>\n",
       "</table>\n",
       "</div>"
      ],
      "text/plain": [
       "  Material  qtd_total  percentual_x  acumulado curva_x  valor_total  \\\n",
       "0   SA0274  182141.68          3.68       3.68       A   1841451.81   \n",
       "1   SA0192  177104.34          3.58       7.26       A   2458207.31   \n",
       "2   SA0166  133912.94          2.71       9.97       A   1353859.51   \n",
       "3   SA0191  117754.30          2.38      12.35       A   1413051.60   \n",
       "4   SA0163   71960.00          1.45      13.80       A    727515.48   \n",
       "\n",
       "   percentual_y  percentual_acumulado curva_y inicial_item tipo_item  \\\n",
       "0          3.85                  9.00       A           SA   stretch   \n",
       "1          5.15                  5.15       A           SA   stretch   \n",
       "2          2.83                 14.79       A           SA   stretch   \n",
       "3          2.96                 11.96       A           SA   stretch   \n",
       "4          1.52                 17.90       A           SA   stretch   \n",
       "\n",
       "  tipo_produto  \n",
       "0      acabado  \n",
       "1      acabado  \n",
       "2      acabado  \n",
       "3      acabado  \n",
       "4      acabado  "
      ]
     },
     "execution_count": 189,
     "metadata": {},
     "output_type": "execute_result"
    }
   ],
   "source": [
    "curva_estoque.head()"
   ]
  },
  {
   "cell_type": "code",
   "execution_count": 190,
   "metadata": {},
   "outputs": [],
   "source": [
    "curva_estoque.rename(columns={\n",
    "    'percentual_x':'percentual_qtd',\n",
    "    'acumulado':'acumulado_qtd',\n",
    "    'curva_x':'curva_qtd',\n",
    "    'percentual_y':'percentual_valor',\n",
    "    'percentual_acumulado':'acumulado_valor',\n",
    "    'curva_y':'curva_valor',\n",
    "}, inplace=True)"
   ]
  },
  {
   "cell_type": "code",
   "execution_count": 191,
   "metadata": {},
   "outputs": [],
   "source": [
    "curva_estoque.to_csv('dados/curva_vlr_qtd.csv', index=False)"
   ]
  },
  {
   "cell_type": "code",
   "execution_count": 192,
   "metadata": {},
   "outputs": [
    {
     "data": {
      "text/html": [
       "<div>\n",
       "<style scoped>\n",
       "    .dataframe tbody tr th:only-of-type {\n",
       "        vertical-align: middle;\n",
       "    }\n",
       "\n",
       "    .dataframe tbody tr th {\n",
       "        vertical-align: top;\n",
       "    }\n",
       "\n",
       "    .dataframe thead th {\n",
       "        text-align: right;\n",
       "    }\n",
       "</style>\n",
       "<table border=\"1\" class=\"dataframe\">\n",
       "  <thead>\n",
       "    <tr style=\"text-align: right;\">\n",
       "      <th></th>\n",
       "      <th>Material</th>\n",
       "      <th>qtd_total</th>\n",
       "      <th>percentual_qtd</th>\n",
       "      <th>acumulado_qtd</th>\n",
       "      <th>curva_qtd</th>\n",
       "      <th>valor_total</th>\n",
       "      <th>percentual_valor</th>\n",
       "      <th>acumulado_valor</th>\n",
       "      <th>curva_valor</th>\n",
       "      <th>inicial_item</th>\n",
       "      <th>tipo_item</th>\n",
       "      <th>tipo_produto</th>\n",
       "    </tr>\n",
       "  </thead>\n",
       "  <tbody>\n",
       "    <tr>\n",
       "      <th>0</th>\n",
       "      <td>SA0274</td>\n",
       "      <td>182141.68</td>\n",
       "      <td>3.68</td>\n",
       "      <td>3.68</td>\n",
       "      <td>A</td>\n",
       "      <td>1841451.81</td>\n",
       "      <td>3.85</td>\n",
       "      <td>9.00</td>\n",
       "      <td>A</td>\n",
       "      <td>SA</td>\n",
       "      <td>stretch</td>\n",
       "      <td>acabado</td>\n",
       "    </tr>\n",
       "    <tr>\n",
       "      <th>1</th>\n",
       "      <td>SA0192</td>\n",
       "      <td>177104.34</td>\n",
       "      <td>3.58</td>\n",
       "      <td>7.26</td>\n",
       "      <td>A</td>\n",
       "      <td>2458207.31</td>\n",
       "      <td>5.15</td>\n",
       "      <td>5.15</td>\n",
       "      <td>A</td>\n",
       "      <td>SA</td>\n",
       "      <td>stretch</td>\n",
       "      <td>acabado</td>\n",
       "    </tr>\n",
       "    <tr>\n",
       "      <th>2</th>\n",
       "      <td>SA0166</td>\n",
       "      <td>133912.94</td>\n",
       "      <td>2.71</td>\n",
       "      <td>9.97</td>\n",
       "      <td>A</td>\n",
       "      <td>1353859.51</td>\n",
       "      <td>2.83</td>\n",
       "      <td>14.79</td>\n",
       "      <td>A</td>\n",
       "      <td>SA</td>\n",
       "      <td>stretch</td>\n",
       "      <td>acabado</td>\n",
       "    </tr>\n",
       "    <tr>\n",
       "      <th>3</th>\n",
       "      <td>SA0191</td>\n",
       "      <td>117754.30</td>\n",
       "      <td>2.38</td>\n",
       "      <td>12.35</td>\n",
       "      <td>A</td>\n",
       "      <td>1413051.60</td>\n",
       "      <td>2.96</td>\n",
       "      <td>11.96</td>\n",
       "      <td>A</td>\n",
       "      <td>SA</td>\n",
       "      <td>stretch</td>\n",
       "      <td>acabado</td>\n",
       "    </tr>\n",
       "    <tr>\n",
       "      <th>4</th>\n",
       "      <td>SA0163</td>\n",
       "      <td>71960.00</td>\n",
       "      <td>1.45</td>\n",
       "      <td>13.80</td>\n",
       "      <td>A</td>\n",
       "      <td>727515.48</td>\n",
       "      <td>1.52</td>\n",
       "      <td>17.90</td>\n",
       "      <td>A</td>\n",
       "      <td>SA</td>\n",
       "      <td>stretch</td>\n",
       "      <td>acabado</td>\n",
       "    </tr>\n",
       "    <tr>\n",
       "      <th>5</th>\n",
       "      <td>SE0024</td>\n",
       "      <td>69930.46</td>\n",
       "      <td>1.41</td>\n",
       "      <td>15.21</td>\n",
       "      <td>A</td>\n",
       "      <td>706996.74</td>\n",
       "      <td>1.48</td>\n",
       "      <td>19.38</td>\n",
       "      <td>A</td>\n",
       "      <td>SE</td>\n",
       "      <td>stretch</td>\n",
       "      <td>semiacabado</td>\n",
       "    </tr>\n",
       "    <tr>\n",
       "      <th>6</th>\n",
       "      <td>HA0338</td>\n",
       "      <td>69201.96</td>\n",
       "      <td>1.40</td>\n",
       "      <td>16.61</td>\n",
       "      <td>A</td>\n",
       "      <td>761221.56</td>\n",
       "      <td>1.59</td>\n",
       "      <td>16.38</td>\n",
       "      <td>A</td>\n",
       "      <td>HA</td>\n",
       "      <td>shrink</td>\n",
       "      <td>acabado</td>\n",
       "    </tr>\n",
       "    <tr>\n",
       "      <th>7</th>\n",
       "      <td>SA0469</td>\n",
       "      <td>66002.40</td>\n",
       "      <td>1.33</td>\n",
       "      <td>17.94</td>\n",
       "      <td>A</td>\n",
       "      <td>660024.00</td>\n",
       "      <td>1.38</td>\n",
       "      <td>20.76</td>\n",
       "      <td>B</td>\n",
       "      <td>SA</td>\n",
       "      <td>stretch</td>\n",
       "      <td>acabado</td>\n",
       "    </tr>\n",
       "    <tr>\n",
       "      <th>8</th>\n",
       "      <td>SA0164</td>\n",
       "      <td>62473.70</td>\n",
       "      <td>1.26</td>\n",
       "      <td>19.20</td>\n",
       "      <td>A</td>\n",
       "      <td>631609.37</td>\n",
       "      <td>1.32</td>\n",
       "      <td>24.76</td>\n",
       "      <td>B</td>\n",
       "      <td>SA</td>\n",
       "      <td>stretch</td>\n",
       "      <td>acabado</td>\n",
       "    </tr>\n",
       "    <tr>\n",
       "      <th>9</th>\n",
       "      <td>SA0528</td>\n",
       "      <td>61109.90</td>\n",
       "      <td>1.23</td>\n",
       "      <td>20.43</td>\n",
       "      <td>B</td>\n",
       "      <td>617820.98</td>\n",
       "      <td>1.29</td>\n",
       "      <td>27.37</td>\n",
       "      <td>B</td>\n",
       "      <td>SA</td>\n",
       "      <td>stretch</td>\n",
       "      <td>acabado</td>\n",
       "    </tr>\n",
       "    <tr>\n",
       "      <th>10</th>\n",
       "      <td>SA0357</td>\n",
       "      <td>59041.22</td>\n",
       "      <td>1.19</td>\n",
       "      <td>21.62</td>\n",
       "      <td>B</td>\n",
       "      <td>631150.62</td>\n",
       "      <td>1.32</td>\n",
       "      <td>26.08</td>\n",
       "      <td>B</td>\n",
       "      <td>SA</td>\n",
       "      <td>stretch</td>\n",
       "      <td>acabado</td>\n",
       "    </tr>\n",
       "    <tr>\n",
       "      <th>11</th>\n",
       "      <td>HA0007</td>\n",
       "      <td>58406.84</td>\n",
       "      <td>1.18</td>\n",
       "      <td>22.80</td>\n",
       "      <td>B</td>\n",
       "      <td>642475.24</td>\n",
       "      <td>1.34</td>\n",
       "      <td>22.10</td>\n",
       "      <td>B</td>\n",
       "      <td>HA</td>\n",
       "      <td>shrink</td>\n",
       "      <td>acabado</td>\n",
       "    </tr>\n",
       "    <tr>\n",
       "      <th>12</th>\n",
       "      <td>SA0033</td>\n",
       "      <td>56037.50</td>\n",
       "      <td>1.13</td>\n",
       "      <td>23.93</td>\n",
       "      <td>B</td>\n",
       "      <td>566539.24</td>\n",
       "      <td>1.19</td>\n",
       "      <td>28.56</td>\n",
       "      <td>B</td>\n",
       "      <td>SA</td>\n",
       "      <td>stretch</td>\n",
       "      <td>acabado</td>\n",
       "    </tr>\n",
       "    <tr>\n",
       "      <th>13</th>\n",
       "      <td>SA0091</td>\n",
       "      <td>53138.40</td>\n",
       "      <td>1.07</td>\n",
       "      <td>25.00</td>\n",
       "      <td>B</td>\n",
       "      <td>537229.13</td>\n",
       "      <td>1.12</td>\n",
       "      <td>31.99</td>\n",
       "      <td>B</td>\n",
       "      <td>SA</td>\n",
       "      <td>stretch</td>\n",
       "      <td>acabado</td>\n",
       "    </tr>\n",
       "    <tr>\n",
       "      <th>14</th>\n",
       "      <td>SA0193</td>\n",
       "      <td>52452.85</td>\n",
       "      <td>1.06</td>\n",
       "      <td>26.06</td>\n",
       "      <td>B</td>\n",
       "      <td>530298.41</td>\n",
       "      <td>1.11</td>\n",
       "      <td>33.10</td>\n",
       "      <td>B</td>\n",
       "      <td>SA</td>\n",
       "      <td>stretch</td>\n",
       "      <td>acabado</td>\n",
       "    </tr>\n",
       "  </tbody>\n",
       "</table>\n",
       "</div>"
      ],
      "text/plain": [
       "   Material  qtd_total  percentual_qtd  acumulado_qtd curva_qtd  valor_total  \\\n",
       "0    SA0274  182141.68            3.68           3.68         A   1841451.81   \n",
       "1    SA0192  177104.34            3.58           7.26         A   2458207.31   \n",
       "2    SA0166  133912.94            2.71           9.97         A   1353859.51   \n",
       "3    SA0191  117754.30            2.38          12.35         A   1413051.60   \n",
       "4    SA0163   71960.00            1.45          13.80         A    727515.48   \n",
       "5    SE0024   69930.46            1.41          15.21         A    706996.74   \n",
       "6    HA0338   69201.96            1.40          16.61         A    761221.56   \n",
       "7    SA0469   66002.40            1.33          17.94         A    660024.00   \n",
       "8    SA0164   62473.70            1.26          19.20         A    631609.37   \n",
       "9    SA0528   61109.90            1.23          20.43         B    617820.98   \n",
       "10   SA0357   59041.22            1.19          21.62         B    631150.62   \n",
       "11   HA0007   58406.84            1.18          22.80         B    642475.24   \n",
       "12   SA0033   56037.50            1.13          23.93         B    566539.24   \n",
       "13   SA0091   53138.40            1.07          25.00         B    537229.13   \n",
       "14   SA0193   52452.85            1.06          26.06         B    530298.41   \n",
       "\n",
       "    percentual_valor  acumulado_valor curva_valor inicial_item tipo_item  \\\n",
       "0               3.85             9.00           A           SA   stretch   \n",
       "1               5.15             5.15           A           SA   stretch   \n",
       "2               2.83            14.79           A           SA   stretch   \n",
       "3               2.96            11.96           A           SA   stretch   \n",
       "4               1.52            17.90           A           SA   stretch   \n",
       "5               1.48            19.38           A           SE   stretch   \n",
       "6               1.59            16.38           A           HA    shrink   \n",
       "7               1.38            20.76           B           SA   stretch   \n",
       "8               1.32            24.76           B           SA   stretch   \n",
       "9               1.29            27.37           B           SA   stretch   \n",
       "10              1.32            26.08           B           SA   stretch   \n",
       "11              1.34            22.10           B           HA    shrink   \n",
       "12              1.19            28.56           B           SA   stretch   \n",
       "13              1.12            31.99           B           SA   stretch   \n",
       "14              1.11            33.10           B           SA   stretch   \n",
       "\n",
       "   tipo_produto  \n",
       "0       acabado  \n",
       "1       acabado  \n",
       "2       acabado  \n",
       "3       acabado  \n",
       "4       acabado  \n",
       "5   semiacabado  \n",
       "6       acabado  \n",
       "7       acabado  \n",
       "8       acabado  \n",
       "9       acabado  \n",
       "10      acabado  \n",
       "11      acabado  \n",
       "12      acabado  \n",
       "13      acabado  \n",
       "14      acabado  "
      ]
     },
     "execution_count": 192,
     "metadata": {},
     "output_type": "execute_result"
    }
   ],
   "source": [
    "curva_estoque.head(15)"
   ]
  },
  {
   "cell_type": "markdown",
   "metadata": {},
   "source": [
    "#### Exibir gráfico para demonstrar a curva"
   ]
  },
  {
   "cell_type": "code",
   "execution_count": 193,
   "metadata": {},
   "outputs": [
    {
     "data": {
      "image/png": "[encoded data removed]",
      "text/plain": [
       "<Figure size 1440x936 with 2 Axes>"
      ]
     },
     "metadata": {
      "needs_background": "light"
     },
     "output_type": "display_data"
    }
   ],
   "source": [
    "plt.figure(figsize=(20, 13))\n",
    "\n",
    "# Gráfico 1\n",
    "ax = plt.subplot(2,1,1)\n",
    "\n",
    "dados = curva_estoque.sort_values('percentual_valor', ascending=False).head(15)\n",
    "\n",
    "ax = sns.barplot(x='Material', y='percentual_valor', hue='curva_valor', data=dados)\n",
    "#x.figure.set_size_inches(18,7)\n",
    "ax.set_title('Curva ABC por percentual da quantidade dos itens em entoque', fontsize=18)\n",
    "#ax.bar_label(ax.containers[0], size=12)\n",
    "ax.set_xlabel(None)\n",
    "ax.set_ylabel('Percentual', fontsize=14)\n",
    "for i in ax.containers:\n",
    "    ax.bar_label(i,)\n",
    "ax.spines[['top','right']].set_visible(False)\n",
    "ax=ax\n",
    "\n",
    "# Gráfico 2\n",
    "ax = plt.subplot(2,1,2)\n",
    "\n",
    "dados = curva_estoque.sort_values('percentual_qtd', ascending=False).head(15)\n",
    "\n",
    "ax = sns.barplot(x='Material', y='percentual_qtd', hue='curva_qtd', data=dados)\n",
    "#ax.figure.set_size_inches(18,7)\n",
    "ax.set_title('Curva ABC por percentual do valor dos itens em entoque', fontsize=18)\n",
    "#ax.bar_label(ax.containers[0], size=12)\n",
    "ax.set_xlabel('Material', fontsize=14)\n",
    "ax.set_ylabel('Percentual', fontsize=14)\n",
    "for i in ax.containers:\n",
    "    ax.bar_label(i,)\n",
    "ax.spines[['top','right']].set_visible(False)\n",
    "ax=ax\n",
    "\n",
    "#plt.subplots_adjust(hspace=0.5)\n"
   ]
  },
  {
   "cell_type": "markdown",
   "metadata": {},
   "source": [
    "#### Criando o dataframe final com as curvas e os tipos de itens e produtos"
   ]
  },
  {
   "cell_type": "code",
   "execution_count": 194,
   "metadata": {},
   "outputs": [
    {
     "name": "stderr",
     "output_type": "stream",
     "text": [
      "C:\\Users\\mathe\\AppData\\Local\\Temp\\ipykernel_21512\\3029216841.py:3: SettingWithCopyWarning: \n",
      "A value is trying to be set on a copy of a slice from a DataFrame.\n",
      "Try using .loc[row_indexer,col_indexer] = value instead\n",
      "\n",
      "See the caveats in the documentation: https://pandas.pydata.org/pandas-docs/stable/user_guide/indexing.html#returning-a-view-versus-a-copy\n",
      "  curva_combinada['inicial_item'] = curva_combinada['Material'].str[:2]\n",
      "C:\\Users\\mathe\\AppData\\Local\\Temp\\ipykernel_21512\\3029216841.py:4: SettingWithCopyWarning: \n",
      "A value is trying to be set on a copy of a slice from a DataFrame.\n",
      "Try using .loc[row_indexer,col_indexer] = value instead\n",
      "\n",
      "See the caveats in the documentation: https://pandas.pydata.org/pandas-docs/stable/user_guide/indexing.html#returning-a-view-versus-a-copy\n",
      "  curva_combinada['tipo_item'] = curva_combinada['inicial_item'].map(tipo_item)\n",
      "C:\\Users\\mathe\\AppData\\Local\\Temp\\ipykernel_21512\\3029216841.py:5: SettingWithCopyWarning: \n",
      "A value is trying to be set on a copy of a slice from a DataFrame.\n",
      "Try using .loc[row_indexer,col_indexer] = value instead\n",
      "\n",
      "See the caveats in the documentation: https://pandas.pydata.org/pandas-docs/stable/user_guide/indexing.html#returning-a-view-versus-a-copy\n",
      "  curva_combinada['tipo_produto'] = curva_combinada['inicial_item'].map(tipo_produto)\n",
      "C:\\Users\\mathe\\AppData\\Local\\Temp\\ipykernel_21512\\3029216841.py:6: SettingWithCopyWarning: \n",
      "A value is trying to be set on a copy of a slice from a DataFrame\n",
      "\n",
      "See the caveats in the documentation: https://pandas.pydata.org/pandas-docs/stable/user_guide/indexing.html#returning-a-view-versus-a-copy\n",
      "  curva_combinada.drop(columns=['inicial_item'], inplace=True)\n"
     ]
    },
    {
     "data": {
      "text/html": [
       "<div>\n",
       "<style scoped>\n",
       "    .dataframe tbody tr th:only-of-type {\n",
       "        vertical-align: middle;\n",
       "    }\n",
       "\n",
       "    .dataframe tbody tr th {\n",
       "        vertical-align: top;\n",
       "    }\n",
       "\n",
       "    .dataframe thead th {\n",
       "        text-align: right;\n",
       "    }\n",
       "</style>\n",
       "<table border=\"1\" class=\"dataframe\">\n",
       "  <thead>\n",
       "    <tr style=\"text-align: right;\">\n",
       "      <th></th>\n",
       "      <th>Material</th>\n",
       "      <th>curva_qtd</th>\n",
       "      <th>curva_valor</th>\n",
       "      <th>tipo_item</th>\n",
       "      <th>tipo_produto</th>\n",
       "    </tr>\n",
       "  </thead>\n",
       "  <tbody>\n",
       "    <tr>\n",
       "      <th>0</th>\n",
       "      <td>SA0274</td>\n",
       "      <td>A</td>\n",
       "      <td>A</td>\n",
       "      <td>stretch</td>\n",
       "      <td>acabado</td>\n",
       "    </tr>\n",
       "    <tr>\n",
       "      <th>1</th>\n",
       "      <td>SA0192</td>\n",
       "      <td>A</td>\n",
       "      <td>A</td>\n",
       "      <td>stretch</td>\n",
       "      <td>acabado</td>\n",
       "    </tr>\n",
       "    <tr>\n",
       "      <th>2</th>\n",
       "      <td>SA0166</td>\n",
       "      <td>A</td>\n",
       "      <td>A</td>\n",
       "      <td>stretch</td>\n",
       "      <td>acabado</td>\n",
       "    </tr>\n",
       "    <tr>\n",
       "      <th>3</th>\n",
       "      <td>SA0191</td>\n",
       "      <td>A</td>\n",
       "      <td>A</td>\n",
       "      <td>stretch</td>\n",
       "      <td>acabado</td>\n",
       "    </tr>\n",
       "    <tr>\n",
       "      <th>4</th>\n",
       "      <td>SA0163</td>\n",
       "      <td>A</td>\n",
       "      <td>A</td>\n",
       "      <td>stretch</td>\n",
       "      <td>acabado</td>\n",
       "    </tr>\n",
       "  </tbody>\n",
       "</table>\n",
       "</div>"
      ],
      "text/plain": [
       "  Material curva_qtd curva_valor tipo_item tipo_produto\n",
       "0   SA0274         A           A   stretch      acabado\n",
       "1   SA0192         A           A   stretch      acabado\n",
       "2   SA0166         A           A   stretch      acabado\n",
       "3   SA0191         A           A   stretch      acabado\n",
       "4   SA0163         A           A   stretch      acabado"
      ]
     },
     "execution_count": 194,
     "metadata": {},
     "output_type": "execute_result"
    }
   ],
   "source": [
    "curva_combinada = curva_estoque[['Material', 'curva_qtd', 'curva_valor']]\n",
    "\n",
    "curva_combinada['inicial_item'] = curva_combinada['Material'].str[:2]\n",
    "curva_combinada['tipo_item'] = curva_combinada['inicial_item'].map(tipo_item)\n",
    "curva_combinada['tipo_produto'] = curva_combinada['inicial_item'].map(tipo_produto)\n",
    "curva_combinada.drop(columns=['inicial_item'], inplace=True)\n",
    "\n",
    "curva_combinada.head()"
   ]
  },
  {
   "cell_type": "markdown",
   "metadata": {},
   "source": [
    "## Exportando o dataframe para CSV"
   ]
  },
  {
   "cell_type": "code",
   "execution_count": 195,
   "metadata": {},
   "outputs": [],
   "source": [
    "if gravacao == True:\n",
    "    curva_combinada.to_csv(nova_pasta+'/curva_combinada.csv', sep=',', index=False)\n",
    "else:\n",
    "    curva_combinada.to_csv('dados/curva_combinada.csv', sep=',', index=False)"
   ]
  },
  {
   "cell_type": "code",
   "execution_count": null,
   "metadata": {},
   "outputs": [],
   "source": []
  }
 ],
 "metadata": {
  "interpreter": {
   "hash": "000cace1860b72f1320ef199b385623fa2285ee040878930bd17a8beed01ff65"
  },
  "kernelspec": {
   "display_name": "Python 3.10.4 64-bit",
   "language": "python",
   "name": "python3"
  },
  "language_info": {
   "codemirror_mode": {
    "name": "ipython",
    "version": 3
   },
   "file_extension": ".py",
   "mimetype": "text/x-python",
   "name": "python",
   "nbconvert_exporter": "python",
   "pygments_lexer": "ipython3",
   "version": "3.10.4"
  },
  "orig_nbformat": 4
 },
 "nbformat": 4,
 "nbformat_minor": 2
}
