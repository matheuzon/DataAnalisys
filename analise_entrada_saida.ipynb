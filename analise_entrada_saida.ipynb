{
 "cells": [
  {
   "cell_type": "code",
   "execution_count": 121,
   "id": "3928186f",
   "metadata": {},
   "outputs": [],
   "source": [
    "import pandas as pd\n",
    "import seaborn as sns\n"
   ]
  },
  {
   "cell_type": "markdown",
   "id": "c32ddebb",
   "metadata": {},
   "source": [
    "#### Importa os dados para dataframes"
   ]
  },
  {
   "cell_type": "code",
   "execution_count": 72,
   "id": "ba823606",
   "metadata": {},
   "outputs": [],
   "source": [
    "saidas = pd.read_excel('dados/vendas_abril_22.xlsx')\n",
    "tipo_itens = pd.read_excel('dados/itens_por_tipo.xlsx')\n",
    "tipo_acabado = tipo_itens.query('Grupo == \"ACABADO\"') # Cria um dataframe com apenas os itens acabados"
   ]
  },
  {
   "cell_type": "code",
   "execution_count": 74,
   "id": "d09eab5b",
   "metadata": {},
   "outputs": [
    {
     "data": {
      "text/html": [
       "<div>\n",
       "<style scoped>\n",
       "    .dataframe tbody tr th:only-of-type {\n",
       "        vertical-align: middle;\n",
       "    }\n",
       "\n",
       "    .dataframe tbody tr th {\n",
       "        vertical-align: top;\n",
       "    }\n",
       "\n",
       "    .dataframe thead th {\n",
       "        text-align: right;\n",
       "    }\n",
       "</style>\n",
       "<table border=\"1\" class=\"dataframe\">\n",
       "  <thead>\n",
       "    <tr style=\"text-align: right;\">\n",
       "      <th></th>\n",
       "      <th>Material</th>\n",
       "      <th>Centro</th>\n",
       "      <th>Depósito</th>\n",
       "      <th>Tipo de movimento</th>\n",
       "      <th>Estoque especial</th>\n",
       "      <th>Doc.material</th>\n",
       "      <th>Item doc.material</th>\n",
       "      <th>Data de lançamento</th>\n",
       "      <th>Qtd.  UM registro</th>\n",
       "      <th>UM registro</th>\n",
       "    </tr>\n",
       "  </thead>\n",
       "  <tbody>\n",
       "    <tr>\n",
       "      <th>0</th>\n",
       "      <td>202002</td>\n",
       "      <td>P703</td>\n",
       "      <td>5</td>\n",
       "      <td>601</td>\n",
       "      <td>NaN</td>\n",
       "      <td>4901691304</td>\n",
       "      <td>1</td>\n",
       "      <td>2022-04-16</td>\n",
       "      <td>-1150.0</td>\n",
       "      <td>KG</td>\n",
       "    </tr>\n",
       "  </tbody>\n",
       "</table>\n",
       "</div>"
      ],
      "text/plain": [
       "  Material Centro  Depósito  Tipo de movimento  Estoque especial  \\\n",
       "0   202002   P703         5                601               NaN   \n",
       "\n",
       "   Doc.material  Item doc.material Data de lançamento  Qtd.  UM registro  \\\n",
       "0    4901691304                  1         2022-04-16            -1150.0   \n",
       "\n",
       "  UM registro  \n",
       "0          KG  "
      ]
     },
     "execution_count": 74,
     "metadata": {},
     "output_type": "execute_result"
    }
   ],
   "source": [
    "saidas.head(1)"
   ]
  },
  {
   "cell_type": "markdown",
   "id": "2ac4f3d9",
   "metadata": {},
   "source": [
    "#### Cria um array com os valores únicos dos produtos"
   ]
  },
  {
   "cell_type": "code",
   "execution_count": 73,
   "id": "d4815251",
   "metadata": {},
   "outputs": [
    {
     "data": {
      "text/plain": [
       "array(['SA0092', 'SA0155', 'SE0016', 'SA0195', 'SA0215', 'IS0046',\n",
       "       'IH0042', 'SZ0153', 'SA0165', 'HA0501', 'SA0168', 'SA0028',\n",
       "       'PB0140', 'SA0467', 'SA0340', 'IH0043', 'HA0303', 'SA0311',\n",
       "       'SA0154', 'HC0028', 'SA0164', 'SA0469', 'IH0006', 'IH0005',\n",
       "       'SA0123', 'HA0281', 'HA0474', 'SA0027', 'SA0177', 'SA0036',\n",
       "       'SA0083', 'SA0110', 'SA0175', 'SA0026', 'SA0357', 'HE0028',\n",
       "       'SA0063', 'IH0058', 'SA0031', 'SA0347', 'SA0051', 'HA0071',\n",
       "       'HA0519', 'SA0153', 'SA0025', 'SA0355', 'SA0564', 'SA0118',\n",
       "       'SA0108', 'SA0273', 'SA0561', 'HC0029', 'SA0528', 'SA0065',\n",
       "       'SA0033', 'SA0163', 'SA0012', 'SA0208', 'HA0668', 'SA0524',\n",
       "       'SA0209', 'HA0438', 'HA0475', 'SA0278', 'SA0035', 'SA0566',\n",
       "       'SA0212', 'SA0140', 'SA0166', 'HA0101', 'SA0049', 'HE0020',\n",
       "       'HA0023', 'HA0740', 'HA0004', 'SA0243', 'SA0558', 'HA0025',\n",
       "       'HA0069', 'SA0048', 'HA0744', 'HA0452', 'HC0015', 'SA0541',\n",
       "       'SA0219', 'SA0032', 'SA0305', 'SA0348', 'SA0309', 'HC0009',\n",
       "       'SA0111', 'SA0307', 'HA0007', 'HA0064', 'SA0339', 'HA0160',\n",
       "       'HA0131', 'HA0445', 'SA0002', 'HC0053', 'SA0291', 'HA0338',\n",
       "       'SA0322', 'HA0253', 'HA0558', 'HA0323', 'HA0828', 'SA0531',\n",
       "       'HA1000', 'HA0370', 'HA0559', 'HA0332', 'HC0011', 'HA0304',\n",
       "       'SA0067', 'SA0331', 'IH0036', 'IH0035', 'IZ0065', 'IH0033',\n",
       "       'HA0478', 'HA0005', 'IH0010', 'IH0004', 'IS0006', 'IZ0064',\n",
       "       'IH0047', 'IS0090', 'IS0089', 'SE0040', 'IH0045', 'IS0044',\n",
       "       'HA0601', 'SA0087', 'HA0237', 'SA0207', 'HA1174', 'HA0047',\n",
       "       'HA0571', 'SA0338', 'SA0053', 'SA0579', 'SA0308', 'SA0318',\n",
       "       'HA0442', 'SA0034', 'HA0450', 'HA0778', 'HA0392', 'SA0191',\n",
       "       'SA0324', 'HA0864', 'SA0562', 'SA0091', 'SA0017', 'SA0151',\n",
       "       'HA0043', 'SZ0136', 'HC0027', 'HA0752', 'HA0625', 'HA0364',\n",
       "       'SA0106', 'SA0060', 'HC0012', 'SZ0116', 'SZ0355', 'SE0019',\n",
       "       'SZ0158', 'SZ0160', 'SZ0357', 'SA0270', 'SZ0349', 'SA0267',\n",
       "       'SZ0161', 'HE0044', 'SE0062', 'SZ0356', 'SE0038', 'SZ0352',\n",
       "       'SA0020', 'SE0006', 'SE0061', 'SZ0163', 'SE0060', 'HA0363',\n",
       "       'SZ0159', 'SA0282', 'SZ0316', 'HA0822', 'SA0313', 'HA0608',\n",
       "       'SA0315', 'SA0157', 'SA0294', 'SA0127', 'SA0260', 'HA0791',\n",
       "       'HA0156', 'SA0301', 'HA0737', 'SA0047', 'HA0410', 'SA0171',\n",
       "       'SA0144', 'SA0293', 'HA0544', 'SA0109', 'SA0107', 'HA0606',\n",
       "       'SA0554', 'SA0211', 'HA0746', 'HA0398', 'SA0117', 'SA0350',\n",
       "       'SA0320', 'SA0003', 'SA0515', 'SA0292', 'SA0326', 'SA0312',\n",
       "       'SA0569', 'SA0030', 'SA0580', 'HC0036', 'HA0058', 'HA0734',\n",
       "       'HA0046', 'SA0359', 'SA0321', 'SA0232', 'HA0570', 'HA0429',\n",
       "       'HA0093', 'HA0904', 'SA0310', 'HA0982', 'SA0547', 'SA0205',\n",
       "       'HA0761', 'SA0075', 'SA0001', 'HA0138', 'SA0125', 'SA0078',\n",
       "       'SA0162', 'SA0233', 'SA0328', 'HA0252', 'SA0145', 'HZ0042',\n",
       "       'HI0054', 'HI0004', 'SA0194', 'HA0320', 'HA0163', 'HA0177',\n",
       "       'SA0042', 'HA0044', 'SE0036', 'HA0017', 'HA0302', 'HA0492',\n",
       "       'SA0443', 'SA0581', 'HE0043', 'SA0152', 'SA0132', 'HC0046',\n",
       "       'HA0062', 'HA0747', 'HC0068', 'SA0188', 'HA0267', 'SE0047',\n",
       "       'SA0019', 'HA0066', 'HA0075', 'SA0136', 'SA0411', 'HA0378',\n",
       "       'SA0319', 'HA0168', 'SA0546', 'HA0871', 'HA0775', 'HA0804',\n",
       "       'SA0122', 'HC0045', 'TE0505', 'SA0565', 'SA0570', 'HA0729',\n",
       "       'HA0805', 'HA0022', 'SA0557', 'HA0283', 'SA0295', 'SA0174',\n",
       "       'HA0877', 'HA0024', 'HA0006', 'HA0580', 'HA0176', 'SA0085',\n",
       "       'SA0525', 'SA0487', 'HA0264', 'HA0755', 'SZ0256', 'HA0456',\n",
       "       'SA0593', 'SA0274', 'SZ0354', 'IS0034', 'HA0999', 'HC0002',\n",
       "       'HA0203', 'SA0142', 'HA0811', 'HA0581', 'HA0290', 'HA0311',\n",
       "       'SA0523', 'HC0026', 'HA0806', 'HA0494', 'SZ0162', 'SA0137',\n",
       "       'HA0548', 'SA0170', 'TR0477', 'SA0167', 'HA1060', 'HA0057',\n",
       "       'SE0024', 'SA0551', 'HA0328', 'SA0182', 'HA0757', 'SA0325',\n",
       "       'SA0532', 'SA0323', 'HA0735', 'HI0075', 'HA0041', 'SA0190',\n",
       "       'HA0700', 'SA0563', 'HA0896', 'HA0095', 'HZ0434', 'SA0056',\n",
       "       'SA0440', 'SA0296', 'SA0297', 'TR0730', 'SZ0133', 'TR1991',\n",
       "       'TE1979', 'TE1865', 'TR1982', 'TR1538', 'TR1510', 'HC0044',\n",
       "       'SA0052', 'SA0193', 'SA0192', 'SA0143', 'SA0441', 'SZ0165',\n",
       "       'HA0759', 'SA0280', 'SZ0257', 'HA0418', 'IH0003', 'SA0210',\n",
       "       'HA0485', 'SA0472', 'SA0500', 'HE0045', 'IH0017', 'HA0756',\n",
       "       'HA0433', 'HA0061', 'HE0015', 'HA0033', 'HA0758', 'HA0565',\n",
       "       'HA0810', 'HA0521', 'HA0508', 'SA0248', 'HA0354', 'HA0473',\n",
       "       'HA0649', 'SA0560', 'SA0084', 'HA0797', 'HA0960', 'HA0777',\n",
       "       'HA0154', 'HA0284', 'HA0656', 'SA0004', 'SA0008', 'HA0096',\n",
       "       'HA0566', 'SA0041', 'SA0442', 'SA0005', 'SA0361', 'HA0648',\n",
       "       'HA0059', 'HA0428', 'SA0327', 'HA0242', 'HA0269', 'IS0033',\n",
       "       'SZ0193', 'SZ0358', 'SZ0390', 'IS0007', 'IS0084', 'IH0053',\n",
       "       'IS0091', 'IS0087', 'HA0327', 'IH0049', 'HA0357', 'IS0032',\n",
       "       'HA0217', 'SA0298', 'HA0905', 'HZ0225', 'SA0259', 'IS0023',\n",
       "       'IS0094', 'IS0040', 'IS0039', 'IH0025', 'IH0024', 'IS0038',\n",
       "       'SA0073', 'IS0019', 'SZ0157', 'IS0042', 'IS0041', 'IS0018',\n",
       "       'HA0727', 'IS0017', 'IS0016', 'IS0015', 'IS0014', 'IS0011',\n",
       "       'SA0330', 'IH0056', 'HA0673', 'HA0888', 'IS0096', 'IS0027',\n",
       "       'IS0097', 'IS0013', 'IS0093', 'IS0012', 'IH0031', 'IH0034',\n",
       "       'IH0037', 'IH0030', 'IH0032', 'HA0490', 'HA0090', 'SA0537',\n",
       "       'HA1001', 'HC0005', 'SZ0418', 'AH1031', 'TE0238', 'HA0324',\n",
       "       'HA0401', 'HA0273', 'HI0059', 'HA0259', 'HA0298', 'SE0008',\n",
       "       'HA0400', 'HA0391', 'HA0314', 'IS0077', 'IS0075', 'IS0076',\n",
       "       'HA0816', 'HA0732', 'HA0036', 'HI0073', 'HI0074', 'IH0039',\n",
       "       'SA0356', 'TR0571', 'HZ0461', 'AMOSTRA', 'HA1082', 'IH0002',\n",
       "       'SZ0091', nan, 'HA0808', 'HC0038', 'SZ0081', 'SZ0045', 'ha0057',\n",
       "       'HZ0117', 'SZ0044', 'SZ0094', 'SA0184', 'SA0284', 'HZ0124',\n",
       "       'HZ0281', 'HZ0037', 'sz0159', 'sz0160', 'sz0357', 'sz0158',\n",
       "       'se0062', 'se0006', 'sz0163', 'sem código SAP', 'sa0441',\n",
       "       'sa050015', 'sa0309', 'sa0164', 'sa0564', 'sa0027', 'HA0031',\n",
       "       'sa0215', 'sa0547', 'IS0047', 'SZ0350', 'HC0008', 'SA0261',\n",
       "       'SZ0215', 'SE0020', 'SA0023', 'SA050025', 'SA0173', 'sa0270'],\n",
       "      dtype=object)"
      ]
     },
     "execution_count": 73,
     "metadata": {},
     "output_type": "execute_result"
    }
   ],
   "source": [
    "lista_acabado = tipo_acabado['Produto'].unique()\n",
    "lista_acabado"
   ]
  },
  {
   "cell_type": "markdown",
   "id": "18a46c40",
   "metadata": {},
   "source": [
    "#### Loop 'for' para transformar todos os códigos dos produtos em maiúscula"
   ]
  },
  {
   "cell_type": "code",
   "execution_count": 111,
   "id": "1fcf3cee",
   "metadata": {},
   "outputs": [],
   "source": [
    "nova_lista_acabado = []\n",
    "for x in range(0, len(lista_acabado)):\n",
    "    nova_lista_acabado.append(str(lista_acabado[x]).upper())"
   ]
  },
  {
   "cell_type": "code",
   "execution_count": 134,
   "id": "444a0049",
   "metadata": {},
   "outputs": [],
   "source": [
    "relacao_acabados = pd.DataFrame(nova_lista_acabado)\n",
    "relacao_acabados.to_csv('dados/relacao_acabados.csv', sep=(','), index=False)"
   ]
  },
  {
   "cell_type": "code",
   "execution_count": 115,
   "id": "28469d89",
   "metadata": {},
   "outputs": [],
   "source": [
    "saidas['grupo'] = saidas['Material'].apply(lambda x: 'Acabado' if x in nova_lista_acabado else 'NA')"
   ]
  },
  {
   "cell_type": "code",
   "execution_count": 116,
   "id": "b1775412",
   "metadata": {},
   "outputs": [
    {
     "data": {
      "text/html": [
       "<div>\n",
       "<style scoped>\n",
       "    .dataframe tbody tr th:only-of-type {\n",
       "        vertical-align: middle;\n",
       "    }\n",
       "\n",
       "    .dataframe tbody tr th {\n",
       "        vertical-align: top;\n",
       "    }\n",
       "\n",
       "    .dataframe thead th {\n",
       "        text-align: right;\n",
       "    }\n",
       "</style>\n",
       "<table border=\"1\" class=\"dataframe\">\n",
       "  <thead>\n",
       "    <tr style=\"text-align: right;\">\n",
       "      <th></th>\n",
       "      <th>Material</th>\n",
       "      <th>Centro</th>\n",
       "      <th>Depósito</th>\n",
       "      <th>Tipo de movimento</th>\n",
       "      <th>Estoque especial</th>\n",
       "      <th>Doc.material</th>\n",
       "      <th>Item doc.material</th>\n",
       "      <th>Data de lançamento</th>\n",
       "      <th>Qtd.  UM registro</th>\n",
       "      <th>UM registro</th>\n",
       "      <th>grupo</th>\n",
       "    </tr>\n",
       "  </thead>\n",
       "  <tbody>\n",
       "    <tr>\n",
       "      <th>0</th>\n",
       "      <td>202002</td>\n",
       "      <td>P703</td>\n",
       "      <td>5</td>\n",
       "      <td>601</td>\n",
       "      <td>NaN</td>\n",
       "      <td>4901691304</td>\n",
       "      <td>1</td>\n",
       "      <td>2022-04-16</td>\n",
       "      <td>-1150.0</td>\n",
       "      <td>KG</td>\n",
       "      <td>NA</td>\n",
       "    </tr>\n",
       "    <tr>\n",
       "      <th>1</th>\n",
       "      <td>202002</td>\n",
       "      <td>P703</td>\n",
       "      <td>5</td>\n",
       "      <td>601</td>\n",
       "      <td>NaN</td>\n",
       "      <td>4901691320</td>\n",
       "      <td>10</td>\n",
       "      <td>2022-04-16</td>\n",
       "      <td>-1250.0</td>\n",
       "      <td>KG</td>\n",
       "      <td>NA</td>\n",
       "    </tr>\n",
       "  </tbody>\n",
       "</table>\n",
       "</div>"
      ],
      "text/plain": [
       "  Material Centro  Depósito  Tipo de movimento  Estoque especial  \\\n",
       "0   202002   P703         5                601               NaN   \n",
       "1   202002   P703         5                601               NaN   \n",
       "\n",
       "   Doc.material  Item doc.material Data de lançamento  Qtd.  UM registro  \\\n",
       "0    4901691304                  1         2022-04-16            -1150.0   \n",
       "1    4901691320                 10         2022-04-16            -1250.0   \n",
       "\n",
       "  UM registro grupo  \n",
       "0          KG    NA  \n",
       "1          KG    NA  "
      ]
     },
     "execution_count": 116,
     "metadata": {},
     "output_type": "execute_result"
    }
   ],
   "source": [
    "saidas.head(2)"
   ]
  },
  {
   "cell_type": "code",
   "execution_count": 77,
   "id": "f1c6591c",
   "metadata": {},
   "outputs": [
    {
     "name": "stdout",
     "output_type": "stream",
     "text": [
      "Qtd dados saidas: (28529, 11)\n",
      "Qtd dados tipo_itens: (11559, 2)\n"
     ]
    }
   ],
   "source": [
    "print('Qtd dados saidas: {}'.format(saidas.shape))\n",
    "print('Qtd dados tipo_itens: {}'.format(tipo_itens.shape))"
   ]
  },
  {
   "cell_type": "markdown",
   "id": "b8908a8e",
   "metadata": {},
   "source": [
    "#### Cria um dataframe apenas com as variáveis Material e Data de lançamento"
   ]
  },
  {
   "cell_type": "code",
   "execution_count": 119,
   "id": "8005ef0e",
   "metadata": {},
   "outputs": [
    {
     "data": {
      "text/html": [
       "<div>\n",
       "<style scoped>\n",
       "    .dataframe tbody tr th:only-of-type {\n",
       "        vertical-align: middle;\n",
       "    }\n",
       "\n",
       "    .dataframe tbody tr th {\n",
       "        vertical-align: top;\n",
       "    }\n",
       "\n",
       "    .dataframe thead th {\n",
       "        text-align: right;\n",
       "    }\n",
       "</style>\n",
       "<table border=\"1\" class=\"dataframe\">\n",
       "  <thead>\n",
       "    <tr style=\"text-align: right;\">\n",
       "      <th></th>\n",
       "      <th>Material</th>\n",
       "      <th>Data de lançamento</th>\n",
       "    </tr>\n",
       "  </thead>\n",
       "  <tbody>\n",
       "    <tr>\n",
       "      <th>4290</th>\n",
       "      <td>HA0004</td>\n",
       "      <td>2022-04-21</td>\n",
       "    </tr>\n",
       "    <tr>\n",
       "      <th>4291</th>\n",
       "      <td>HA0004</td>\n",
       "      <td>2022-04-21</td>\n",
       "    </tr>\n",
       "    <tr>\n",
       "      <th>4292</th>\n",
       "      <td>HA0004</td>\n",
       "      <td>2022-04-21</td>\n",
       "    </tr>\n",
       "    <tr>\n",
       "      <th>4293</th>\n",
       "      <td>HA0004</td>\n",
       "      <td>2022-04-21</td>\n",
       "    </tr>\n",
       "    <tr>\n",
       "      <th>4294</th>\n",
       "      <td>HA0004</td>\n",
       "      <td>2022-04-06</td>\n",
       "    </tr>\n",
       "  </tbody>\n",
       "</table>\n",
       "</div>"
      ],
      "text/plain": [
       "     Material Data de lançamento\n",
       "4290   HA0004         2022-04-21\n",
       "4291   HA0004         2022-04-21\n",
       "4292   HA0004         2022-04-21\n",
       "4293   HA0004         2022-04-21\n",
       "4294   HA0004         2022-04-06"
      ]
     },
     "execution_count": 119,
     "metadata": {},
     "output_type": "execute_result"
    }
   ],
   "source": [
    "saidas_acabado = saidas.query('grupo == \"Acabado\"')[['Material', 'Data de lançamento']]\n",
    "saidas_acabado.head()"
   ]
  },
  {
   "cell_type": "markdown",
   "id": "3ce60d55",
   "metadata": {},
   "source": [
    "#### Cria um gráfico dos itens mais expedidos no mês"
   ]
  },
  {
   "cell_type": "code",
   "execution_count": 122,
   "id": "6c23ada6",
   "metadata": {},
   "outputs": [],
   "source": [
    "saidas_acabado_item = saidas_acabado['Material'].value_counts().to_frame().reset_index()"
   ]
  },
  {
   "cell_type": "code",
   "execution_count": 123,
   "id": "aaaf8608",
   "metadata": {},
   "outputs": [
    {
     "data": {
      "text/html": [
       "<div>\n",
       "<style scoped>\n",
       "    .dataframe tbody tr th:only-of-type {\n",
       "        vertical-align: middle;\n",
       "    }\n",
       "\n",
       "    .dataframe tbody tr th {\n",
       "        vertical-align: top;\n",
       "    }\n",
       "\n",
       "    .dataframe thead th {\n",
       "        text-align: right;\n",
       "    }\n",
       "</style>\n",
       "<table border=\"1\" class=\"dataframe\">\n",
       "  <thead>\n",
       "    <tr style=\"text-align: right;\">\n",
       "      <th></th>\n",
       "      <th>index</th>\n",
       "      <th>Material</th>\n",
       "    </tr>\n",
       "  </thead>\n",
       "  <tbody>\n",
       "    <tr>\n",
       "      <th>0</th>\n",
       "      <td>SA0309</td>\n",
       "      <td>1469</td>\n",
       "    </tr>\n",
       "    <tr>\n",
       "      <th>1</th>\n",
       "      <td>SA0579</td>\n",
       "      <td>418</td>\n",
       "    </tr>\n",
       "  </tbody>\n",
       "</table>\n",
       "</div>"
      ],
      "text/plain": [
       "    index  Material\n",
       "0  SA0309      1469\n",
       "1  SA0579       418"
      ]
     },
     "execution_count": 123,
     "metadata": {},
     "output_type": "execute_result"
    }
   ],
   "source": [
    "saidas_acabado_item.head(2)"
   ]
  },
  {
   "cell_type": "code",
   "execution_count": 144,
   "id": "97656279",
   "metadata": {},
   "outputs": [
    {
     "data": {
      "image/png": "[encoded data removed]",
      "text/plain": [
       "<Figure size 1440x432 with 1 Axes>"
      ]
     },
     "metadata": {
      "needs_background": "light"
     },
     "output_type": "display_data"
    }
   ],
   "source": [
    "ax = sns.barplot(x='index', y='Material', data=saidas_acabado_item.head(10))\n",
    "ax.set_title('Quantidades de lotes expedidos - 01/04/2022 a 28/04/2022', fontsize=18)\n",
    "ax.figure.set_size_inches(20,6)\n",
    "ax.bar_label(ax.containers[0], size=13)\n",
    "ax.set_ylabel('Qtd lotes', fontsize=14)\n",
    "ax.set_xlabel('Produto', fontsize=14)\n",
    "ax=ax"
   ]
  },
  {
   "cell_type": "code",
   "execution_count": null,
   "id": "ad8a8c06",
   "metadata": {},
   "outputs": [],
   "source": []
  }
 ],
 "metadata": {
  "interpreter": {
   "hash": "f244901a1cefac460a7f1ec92d059106258d57f2a6ff27407b0c4aa071020808"
  },
  "kernelspec": {
   "display_name": "Python 3.10.4 64-bit",
   "language": "python",
   "name": "python3"
  },
  "language_info": {
   "codemirror_mode": {
    "name": "ipython",
    "version": 3
   },
   "file_extension": ".py",
   "mimetype": "text/x-python",
   "name": "python",
   "nbconvert_exporter": "python",
   "pygments_lexer": "ipython3",
   "version": "3.10.4"
  }
 },
 "nbformat": 4,
 "nbformat_minor": 5
}
