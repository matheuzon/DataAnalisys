{
 "cells": [
  {
   "cell_type": "markdown",
   "metadata": {},
   "source": [
    "Criar um dataframe baseado nas movimentações dos lotes nas tarefas de depósitos\n",
    "\n",
    "Informações importantes do dataframe:\n",
    "    <p>lote\n",
    "    <p>autor\n",
    "    <p>dia da semana\n",
    "    <p>hora do dia (manhã ou tarde)\n",
    "    <p>origem\n",
    "    <p>destino\n",
    "    <p>item\n"
   ]
  },
  {
   "cell_type": "markdown",
   "metadata": {},
   "source": [
    "Criar uma base com todas as UCs que já foram inventariadas por não terem sido encontradas"
   ]
  },
  {
   "cell_type": "markdown",
   "metadata": {},
   "source": [
    "Criar mais arquivos de tarefas até o dia mais atual para ter mais dados"
   ]
  },
  {
   "cell_type": "markdown",
   "metadata": {},
   "source": [
    "### Importando os dados criados pelo arquivo 'analise_tarefas.xlsx'"
   ]
  },
  {
   "cell_type": "code",
   "execution_count": 170,
   "metadata": {},
   "outputs": [],
   "source": [
    "import pandas as pd\n",
    "import numpy as np\n",
    "from sklearn.model_selection import train_test_split\n",
    "from sklearn.metrics import accuracy_score\n",
    "from sklearn.ensemble import AdaBoostClassifier\n",
    "from sklearn.tree import DecisionTreeClassifier\n",
    "from sklearn.tree import export_graphviz\n",
    "import graphviz"
   ]
  },
  {
   "cell_type": "code",
   "execution_count": 171,
   "metadata": {},
   "outputs": [
    {
     "data": {
      "text/html": [
       "<div>\n",
       "<style scoped>\n",
       "    .dataframe tbody tr th:only-of-type {\n",
       "        vertical-align: middle;\n",
       "    }\n",
       "\n",
       "    .dataframe tbody tr th {\n",
       "        vertical-align: top;\n",
       "    }\n",
       "\n",
       "    .dataframe thead th {\n",
       "        text-align: right;\n",
       "    }\n",
       "</style>\n",
       "<table border=\"1\" class=\"dataframe\">\n",
       "  <thead>\n",
       "    <tr style=\"text-align: right;\">\n",
       "      <th></th>\n",
       "      <th>tipo_processo</th>\n",
       "      <th>autor</th>\n",
       "      <th>data_criacao</th>\n",
       "      <th>hora_criacao</th>\n",
       "      <th>pd_origem</th>\n",
       "      <th>pd_destino</th>\n",
       "      <th>produto</th>\n",
       "      <th>tipo_estoque</th>\n",
       "      <th>desc_tipo_estoque</th>\n",
       "      <th>uc</th>\n",
       "      <th>dia_semana</th>\n",
       "      <th>nome_dia_semana</th>\n",
       "      <th>inicial_autor</th>\n",
       "    </tr>\n",
       "  </thead>\n",
       "  <tbody>\n",
       "    <tr>\n",
       "      <th>0</th>\n",
       "      <td>Transferência interna de estoque</td>\n",
       "      <td>SP3EMBA01</td>\n",
       "      <td>2022-01-31</td>\n",
       "      <td>23:57:38</td>\n",
       "      <td>GR-PROD</td>\n",
       "      <td>GR-PROD</td>\n",
       "      <td>SA0579</td>\n",
       "      <td>Estoque QA 005</td>\n",
       "      <td>03</td>\n",
       "      <td>112345673000001352</td>\n",
       "      <td>0</td>\n",
       "      <td>seg</td>\n",
       "      <td>SP3</td>\n",
       "    </tr>\n",
       "    <tr>\n",
       "      <th>1</th>\n",
       "      <td>Transferência interna de estoque</td>\n",
       "      <td>SP3LLJUNIOR</td>\n",
       "      <td>2022-01-31</td>\n",
       "      <td>23:57:27</td>\n",
       "      <td>NaN</td>\n",
       "      <td>CHECKPOINT 1</td>\n",
       "      <td>NaN</td>\n",
       "      <td>NaN</td>\n",
       "      <td>NaN</td>\n",
       "      <td>20002214</td>\n",
       "      <td>0</td>\n",
       "      <td>seg</td>\n",
       "      <td>SP3</td>\n",
       "    </tr>\n",
       "    <tr>\n",
       "      <th>2</th>\n",
       "      <td>Transferência interna de estoque</td>\n",
       "      <td>SP3PROD04</td>\n",
       "      <td>2022-01-31</td>\n",
       "      <td>23:57:18</td>\n",
       "      <td>GR-PROD</td>\n",
       "      <td>GR-PROD</td>\n",
       "      <td>SA0309</td>\n",
       "      <td>Estoque QA 005</td>\n",
       "      <td>03</td>\n",
       "      <td>112345673000001351</td>\n",
       "      <td>0</td>\n",
       "      <td>seg</td>\n",
       "      <td>SP3</td>\n",
       "    </tr>\n",
       "    <tr>\n",
       "      <th>3</th>\n",
       "      <td>Transferência interna de estoque</td>\n",
       "      <td>SP3DSSILVA</td>\n",
       "      <td>2022-01-31</td>\n",
       "      <td>23:56:18</td>\n",
       "      <td>NaN</td>\n",
       "      <td>CHECKPOINT 2</td>\n",
       "      <td>NaN</td>\n",
       "      <td>NaN</td>\n",
       "      <td>NaN</td>\n",
       "      <td>20002147</td>\n",
       "      <td>0</td>\n",
       "      <td>seg</td>\n",
       "      <td>SP3</td>\n",
       "    </tr>\n",
       "    <tr>\n",
       "      <th>4</th>\n",
       "      <td>Transferência interna de estoque</td>\n",
       "      <td>SP3DSSILVA</td>\n",
       "      <td>2022-01-31</td>\n",
       "      <td>23:54:40</td>\n",
       "      <td>NaN</td>\n",
       "      <td>CHECKPOINT 2</td>\n",
       "      <td>NaN</td>\n",
       "      <td>NaN</td>\n",
       "      <td>NaN</td>\n",
       "      <td>20002213</td>\n",
       "      <td>0</td>\n",
       "      <td>seg</td>\n",
       "      <td>SP3</td>\n",
       "    </tr>\n",
       "  </tbody>\n",
       "</table>\n",
       "</div>"
      ],
      "text/plain": [
       "                      tipo_processo        autor data_criacao hora_criacao  \\\n",
       "0  Transferência interna de estoque    SP3EMBA01   2022-01-31     23:57:38   \n",
       "1  Transferência interna de estoque  SP3LLJUNIOR   2022-01-31     23:57:27   \n",
       "2  Transferência interna de estoque    SP3PROD04   2022-01-31     23:57:18   \n",
       "3  Transferência interna de estoque   SP3DSSILVA   2022-01-31     23:56:18   \n",
       "4  Transferência interna de estoque   SP3DSSILVA   2022-01-31     23:54:40   \n",
       "\n",
       "  pd_origem    pd_destino produto    tipo_estoque desc_tipo_estoque  \\\n",
       "0   GR-PROD       GR-PROD  SA0579  Estoque QA 005                03   \n",
       "1       NaN  CHECKPOINT 1     NaN             NaN               NaN   \n",
       "2   GR-PROD       GR-PROD  SA0309  Estoque QA 005                03   \n",
       "3       NaN  CHECKPOINT 2     NaN             NaN               NaN   \n",
       "4       NaN  CHECKPOINT 2     NaN             NaN               NaN   \n",
       "\n",
       "                   uc  dia_semana nome_dia_semana inicial_autor  \n",
       "0  112345673000001352           0             seg           SP3  \n",
       "1            20002214           0             seg           SP3  \n",
       "2  112345673000001351           0             seg           SP3  \n",
       "3            20002147           0             seg           SP3  \n",
       "4            20002213           0             seg           SP3  "
      ]
     },
     "execution_count": 171,
     "metadata": {},
     "output_type": "execute_result"
    }
   ],
   "source": [
    "tarefas = pd.read_csv('dados/Tarefas/tarefas_concat.csv', dtype = {'uc':'string'})\n",
    "\n",
    "# Criando a coluna com as iniciais dos autores para desconsiderar o que não é da P3\n",
    "tarefas['inicial_autor'] = tarefas['autor'].str[:3]\n",
    "tarefas.head()"
   ]
  },
  {
   "cell_type": "code",
   "execution_count": 172,
   "metadata": {},
   "outputs": [
    {
     "data": {
      "text/plain": [
       "array(['SP3', 'JOB', 'MG1', 'SP2', 'GHS', 'DAP', 'BA1', 'LPO', 'MG5',\n",
       "       'TSP', 'FWO', 'AM2'], dtype=object)"
      ]
     },
     "execution_count": 172,
     "metadata": {},
     "output_type": "execute_result"
    }
   ],
   "source": [
    "tarefas['inicial_autor'].unique()"
   ]
  },
  {
   "cell_type": "code",
   "execution_count": 173,
   "metadata": {},
   "outputs": [
    {
     "data": {
      "text/plain": [
       "(660102, 13)"
      ]
     },
     "execution_count": 173,
     "metadata": {},
     "output_type": "execute_result"
    }
   ],
   "source": [
    "tarefas.shape"
   ]
  },
  {
   "cell_type": "markdown",
   "metadata": {},
   "source": [
    "#### Cria um dataframe apenas com as UCs que foram inventariadas"
   ]
  },
  {
   "cell_type": "code",
   "execution_count": 174,
   "metadata": {},
   "outputs": [
    {
     "data": {
      "text/html": [
       "<div>\n",
       "<style scoped>\n",
       "    .dataframe tbody tr th:only-of-type {\n",
       "        vertical-align: middle;\n",
       "    }\n",
       "\n",
       "    .dataframe tbody tr th {\n",
       "        vertical-align: top;\n",
       "    }\n",
       "\n",
       "    .dataframe thead th {\n",
       "        text-align: right;\n",
       "    }\n",
       "</style>\n",
       "<table border=\"1\" class=\"dataframe\">\n",
       "  <thead>\n",
       "    <tr style=\"text-align: right;\">\n",
       "      <th></th>\n",
       "      <th>uc</th>\n",
       "      <th>inventariado</th>\n",
       "    </tr>\n",
       "  </thead>\n",
       "  <tbody>\n",
       "    <tr>\n",
       "      <th>0</th>\n",
       "      <td>3308727</td>\n",
       "      <td>1</td>\n",
       "    </tr>\n",
       "    <tr>\n",
       "      <th>1</th>\n",
       "      <td>3328327</td>\n",
       "      <td>1</td>\n",
       "    </tr>\n",
       "    <tr>\n",
       "      <th>2</th>\n",
       "      <td>3141733</td>\n",
       "      <td>1</td>\n",
       "    </tr>\n",
       "    <tr>\n",
       "      <th>3</th>\n",
       "      <td>3298658</td>\n",
       "      <td>1</td>\n",
       "    </tr>\n",
       "    <tr>\n",
       "      <th>4</th>\n",
       "      <td>3349245</td>\n",
       "      <td>1</td>\n",
       "    </tr>\n",
       "  </tbody>\n",
       "</table>\n",
       "</div>"
      ],
      "text/plain": [
       "        uc  inventariado\n",
       "0  3308727             1\n",
       "1  3328327             1\n",
       "2  3141733             1\n",
       "3  3298658             1\n",
       "4  3349245             1"
      ]
     },
     "execution_count": 174,
     "metadata": {},
     "output_type": "execute_result"
    }
   ],
   "source": [
    "# Cria a base de todas as tarefas com tipo inventário\n",
    "base_ucs_inventario = tarefas.query('tipo_processo == \"Inventário\"')\n",
    "\n",
    "# Cria um dataframe com apenas as UCs que foram inventariadas\n",
    "ucs_inventariadas = base_ucs_inventario['uc'].unique()\n",
    "ucs_inventariadas\n",
    "ucs_inventariadas = pd.DataFrame(ucs_inventariadas)\n",
    "ucs_inventariadas.rename(columns={0:'uc'}, inplace=True)\n",
    "ucs_inventariadas['inventariado'] = 1\n",
    "ucs_inventariadas.head()"
   ]
  },
  {
   "cell_type": "markdown",
   "metadata": {},
   "source": [
    "### Tratando o dataframe para eliminar as informações desnecessárias"
   ]
  },
  {
   "cell_type": "code",
   "execution_count": 175,
   "metadata": {},
   "outputs": [
    {
     "data": {
      "text/html": [
       "<div>\n",
       "<style scoped>\n",
       "    .dataframe tbody tr th:only-of-type {\n",
       "        vertical-align: middle;\n",
       "    }\n",
       "\n",
       "    .dataframe tbody tr th {\n",
       "        vertical-align: top;\n",
       "    }\n",
       "\n",
       "    .dataframe thead th {\n",
       "        text-align: right;\n",
       "    }\n",
       "</style>\n",
       "<table border=\"1\" class=\"dataframe\">\n",
       "  <thead>\n",
       "    <tr style=\"text-align: right;\">\n",
       "      <th></th>\n",
       "      <th>tipo_processo</th>\n",
       "      <th>autor</th>\n",
       "      <th>data_criacao</th>\n",
       "      <th>hora_criacao</th>\n",
       "      <th>pd_origem</th>\n",
       "      <th>pd_destino</th>\n",
       "      <th>produto</th>\n",
       "      <th>tipo_estoque</th>\n",
       "      <th>desc_tipo_estoque</th>\n",
       "      <th>uc</th>\n",
       "      <th>dia_semana</th>\n",
       "      <th>nome_dia_semana</th>\n",
       "      <th>inicial_autor</th>\n",
       "    </tr>\n",
       "  </thead>\n",
       "  <tbody>\n",
       "    <tr>\n",
       "      <th>0</th>\n",
       "      <td>Transferência interna de estoque</td>\n",
       "      <td>SP3EMBA01</td>\n",
       "      <td>2022-01-31</td>\n",
       "      <td>23:57:38</td>\n",
       "      <td>GR-PROD</td>\n",
       "      <td>GR-PROD</td>\n",
       "      <td>SA0579</td>\n",
       "      <td>Estoque QA 005</td>\n",
       "      <td>03</td>\n",
       "      <td>112345673000001352</td>\n",
       "      <td>0</td>\n",
       "      <td>seg</td>\n",
       "      <td>SP3</td>\n",
       "    </tr>\n",
       "    <tr>\n",
       "      <th>2</th>\n",
       "      <td>Transferência interna de estoque</td>\n",
       "      <td>SP3PROD04</td>\n",
       "      <td>2022-01-31</td>\n",
       "      <td>23:57:18</td>\n",
       "      <td>GR-PROD</td>\n",
       "      <td>GR-PROD</td>\n",
       "      <td>SA0309</td>\n",
       "      <td>Estoque QA 005</td>\n",
       "      <td>03</td>\n",
       "      <td>112345673000001351</td>\n",
       "      <td>0</td>\n",
       "      <td>seg</td>\n",
       "      <td>SP3</td>\n",
       "    </tr>\n",
       "    <tr>\n",
       "      <th>5</th>\n",
       "      <td>Transferência interna de estoque</td>\n",
       "      <td>SP3EMBA01</td>\n",
       "      <td>2022-01-31</td>\n",
       "      <td>23:54:26</td>\n",
       "      <td>GR-PROD</td>\n",
       "      <td>GR-PROD</td>\n",
       "      <td>SA0209</td>\n",
       "      <td>Estoque QA 005</td>\n",
       "      <td>03</td>\n",
       "      <td>112345673000001345</td>\n",
       "      <td>0</td>\n",
       "      <td>seg</td>\n",
       "      <td>SP3</td>\n",
       "    </tr>\n",
       "    <tr>\n",
       "      <th>11</th>\n",
       "      <td>Transferência interna de estoque</td>\n",
       "      <td>SP3EMBA01</td>\n",
       "      <td>2022-01-31</td>\n",
       "      <td>23:51:28</td>\n",
       "      <td>GR-PROD</td>\n",
       "      <td>GR-PROD</td>\n",
       "      <td>SA0309</td>\n",
       "      <td>Estoque QA 005</td>\n",
       "      <td>03</td>\n",
       "      <td>112345673000001350</td>\n",
       "      <td>0</td>\n",
       "      <td>seg</td>\n",
       "      <td>SP3</td>\n",
       "    </tr>\n",
       "    <tr>\n",
       "      <th>12</th>\n",
       "      <td>Saída de depósito</td>\n",
       "      <td>SP3DSSILVA</td>\n",
       "      <td>2022-01-31</td>\n",
       "      <td>23:51:22</td>\n",
       "      <td>ESTOR</td>\n",
       "      <td>GI-YDO1</td>\n",
       "      <td>SA0309</td>\n",
       "      <td>Estoque utilização livre 005</td>\n",
       "      <td>01</td>\n",
       "      <td>112345678000372283</td>\n",
       "      <td>0</td>\n",
       "      <td>seg</td>\n",
       "      <td>SP3</td>\n",
       "    </tr>\n",
       "  </tbody>\n",
       "</table>\n",
       "</div>"
      ],
      "text/plain": [
       "                       tipo_processo       autor data_criacao hora_criacao  \\\n",
       "0   Transferência interna de estoque   SP3EMBA01   2022-01-31     23:57:38   \n",
       "2   Transferência interna de estoque   SP3PROD04   2022-01-31     23:57:18   \n",
       "5   Transferência interna de estoque   SP3EMBA01   2022-01-31     23:54:26   \n",
       "11  Transferência interna de estoque   SP3EMBA01   2022-01-31     23:51:28   \n",
       "12                 Saída de depósito  SP3DSSILVA   2022-01-31     23:51:22   \n",
       "\n",
       "   pd_origem pd_destino produto                  tipo_estoque  \\\n",
       "0    GR-PROD    GR-PROD  SA0579                Estoque QA 005   \n",
       "2    GR-PROD    GR-PROD  SA0309                Estoque QA 005   \n",
       "5    GR-PROD    GR-PROD  SA0209                Estoque QA 005   \n",
       "11   GR-PROD    GR-PROD  SA0309                Estoque QA 005   \n",
       "12     ESTOR    GI-YDO1  SA0309  Estoque utilização livre 005   \n",
       "\n",
       "   desc_tipo_estoque                  uc  dia_semana nome_dia_semana  \\\n",
       "0                 03  112345673000001352           0             seg   \n",
       "2                 03  112345673000001351           0             seg   \n",
       "5                 03  112345673000001345           0             seg   \n",
       "11                03  112345673000001350           0             seg   \n",
       "12                01  112345678000372283           0             seg   \n",
       "\n",
       "   inicial_autor  \n",
       "0            SP3  \n",
       "2            SP3  \n",
       "5            SP3  \n",
       "11           SP3  \n",
       "12           SP3  "
      ]
     },
     "execution_count": 175,
     "metadata": {},
     "output_type": "execute_result"
    }
   ],
   "source": [
    "# Limpando os dados nulos das colunas 'UC' e 'PD_ORIGEM'\n",
    "tarefas_dropna = tarefas.dropna(subset=['uc','pd_origem'])\n",
    "\n",
    "# Refazendo o dataframe considerando apenas os autores 'SP3' e 'JOB...'\n",
    "tarefas_dropna = tarefas_dropna.query('inicial_autor == \"SP3\" or inicial_autor == \"JOB\"')\n",
    "tarefas_dropna = tarefas_dropna.query('autor != \"SP3MHLEITE\" and autor != \"SP3VLALMEIDA\"')\n",
    "\n",
    "tarefas_dropna.head()"
   ]
  },
  {
   "cell_type": "code",
   "execution_count": 176,
   "metadata": {},
   "outputs": [
    {
     "data": {
      "text/plain": [
       "(234772, 13)"
      ]
     },
     "execution_count": 176,
     "metadata": {},
     "output_type": "execute_result"
    }
   ],
   "source": [
    "tarefas_dropna.shape"
   ]
  },
  {
   "cell_type": "markdown",
   "metadata": {},
   "source": [
    "#### Exibindo a quantidade de registros de cada tipo"
   ]
  },
  {
   "cell_type": "code",
   "execution_count": 177,
   "metadata": {},
   "outputs": [
    {
     "name": "stdout",
     "output_type": "stream",
     "text": [
      "Qtd de registro de UCs:  75842\n",
      "Qtd de autores:  81\n",
      "Qtd de tipo de processo:  3\n",
      "Qtd de dia semana:  7\n"
     ]
    }
   ],
   "source": [
    "qtd_ucs = tarefas_dropna['uc'].unique().shape[0]\n",
    "qtd_autor = tarefas_dropna['autor'].unique().shape[0]\n",
    "qtd_tipo_processo = tarefas_dropna['tipo_processo'].unique().shape[0]\n",
    "qtd_dia_semana = tarefas_dropna['dia_semana'].unique().shape[0]\n",
    "\n",
    "print('Qtd de registro de UCs: ', qtd_ucs)\n",
    "print('Qtd de autores: ', qtd_autor)\n",
    "print('Qtd de tipo de processo: ', qtd_tipo_processo)\n",
    "print('Qtd de dia semana: ', qtd_dia_semana)"
   ]
  },
  {
   "cell_type": "code",
   "execution_count": 178,
   "metadata": {},
   "outputs": [
    {
     "data": {
      "text/plain": [
       "array(['Transferência interna de estoque', 'Saída de depósito',\n",
       "       'Entrada em depósito'], dtype=object)"
      ]
     },
     "execution_count": 178,
     "metadata": {},
     "output_type": "execute_result"
    }
   ],
   "source": [
    "tarefas_dropna['tipo_processo'].unique()"
   ]
  },
  {
   "cell_type": "code",
   "execution_count": 179,
   "metadata": {},
   "outputs": [
    {
     "data": {
      "text/plain": [
       "(234772, 13)"
      ]
     },
     "execution_count": 179,
     "metadata": {},
     "output_type": "execute_result"
    }
   ],
   "source": [
    "tarefas_dropna.shape"
   ]
  },
  {
   "cell_type": "markdown",
   "metadata": {},
   "source": [
    "#### Criando o dataframe que servirá se base para o 'get.dummies'"
   ]
  },
  {
   "cell_type": "code",
   "execution_count": 180,
   "metadata": {},
   "outputs": [
    {
     "data": {
      "text/html": [
       "<div>\n",
       "<style scoped>\n",
       "    .dataframe tbody tr th:only-of-type {\n",
       "        vertical-align: middle;\n",
       "    }\n",
       "\n",
       "    .dataframe tbody tr th {\n",
       "        vertical-align: top;\n",
       "    }\n",
       "\n",
       "    .dataframe thead th {\n",
       "        text-align: right;\n",
       "    }\n",
       "</style>\n",
       "<table border=\"1\" class=\"dataframe\">\n",
       "  <thead>\n",
       "    <tr style=\"text-align: right;\">\n",
       "      <th></th>\n",
       "      <th>tipo_processo</th>\n",
       "      <th>autor</th>\n",
       "      <th>nome_dia_semana</th>\n",
       "      <th>inventariado</th>\n",
       "    </tr>\n",
       "  </thead>\n",
       "  <tbody>\n",
       "    <tr>\n",
       "      <th>0</th>\n",
       "      <td>Transferência interna de estoque</td>\n",
       "      <td>SP3EMBA01</td>\n",
       "      <td>seg</td>\n",
       "      <td>0.0</td>\n",
       "    </tr>\n",
       "    <tr>\n",
       "      <th>1</th>\n",
       "      <td>Saída de depósito</td>\n",
       "      <td>SP3PRAZEVEDO</td>\n",
       "      <td>seg</td>\n",
       "      <td>0.0</td>\n",
       "    </tr>\n",
       "    <tr>\n",
       "      <th>2</th>\n",
       "      <td>Transferência interna de estoque</td>\n",
       "      <td>SP3ASSILVA</td>\n",
       "      <td>ter</td>\n",
       "      <td>0.0</td>\n",
       "    </tr>\n",
       "    <tr>\n",
       "      <th>3</th>\n",
       "      <td>Transferência interna de estoque</td>\n",
       "      <td>SP3ALFONSECA</td>\n",
       "      <td>ter</td>\n",
       "      <td>0.0</td>\n",
       "    </tr>\n",
       "    <tr>\n",
       "      <th>4</th>\n",
       "      <td>Transferência interna de estoque</td>\n",
       "      <td>SP3PROD04</td>\n",
       "      <td>seg</td>\n",
       "      <td>0.0</td>\n",
       "    </tr>\n",
       "  </tbody>\n",
       "</table>\n",
       "</div>"
      ],
      "text/plain": [
       "                      tipo_processo         autor nome_dia_semana  \\\n",
       "0  Transferência interna de estoque     SP3EMBA01             seg   \n",
       "1                 Saída de depósito  SP3PRAZEVEDO             seg   \n",
       "2  Transferência interna de estoque    SP3ASSILVA             ter   \n",
       "3  Transferência interna de estoque  SP3ALFONSECA             ter   \n",
       "4  Transferência interna de estoque     SP3PROD04             seg   \n",
       "\n",
       "   inventariado  \n",
       "0           0.0  \n",
       "1           0.0  \n",
       "2           0.0  \n",
       "3           0.0  \n",
       "4           0.0  "
      ]
     },
     "execution_count": 180,
     "metadata": {},
     "output_type": "execute_result"
    }
   ],
   "source": [
    "# Cria o df com as variáveis de interesse\n",
    "df_tarefas = tarefas_dropna[['uc', 'tipo_processo', 'autor', 'nome_dia_semana']]\n",
    "\n",
    "# Une os df de itens inventariados com o geral de tarefas\n",
    "df_tarefas = df_tarefas.merge(ucs_inventariadas, left_on='uc', right_on='uc', how=\"outer\")\n",
    "\n",
    "# Altera os valores 'NaN' da coluna inventariado para 0 e depois mapeia os valores para transformar em 'sim' e 'nao'\n",
    "df_tarefas['inventariado'] = df_tarefas['inventariado'].fillna(0)\n",
    "\n",
    "df_tarefas.drop(columns=['uc'], inplace=True)\n",
    "\n",
    "df_tarefas.dropna(inplace=True)\n",
    "\n",
    "df_tarefas.head()"
   ]
  },
  {
   "cell_type": "code",
   "execution_count": 181,
   "metadata": {},
   "outputs": [
    {
     "data": {
      "text/plain": [
       "(234772, 4)"
      ]
     },
     "execution_count": 181,
     "metadata": {},
     "output_type": "execute_result"
    }
   ],
   "source": [
    "df_tarefas.shape"
   ]
  },
  {
   "cell_type": "code",
   "execution_count": 182,
   "metadata": {},
   "outputs": [
    {
     "data": {
      "text/plain": [
       "array([0., 1.])"
      ]
     },
     "execution_count": 182,
     "metadata": {},
     "output_type": "execute_result"
    }
   ],
   "source": [
    "df_tarefas['inventariado'].unique()"
   ]
  },
  {
   "cell_type": "markdown",
   "metadata": {},
   "source": [
    "#### Criando o dataframe com 'get_dummies'"
   ]
  },
  {
   "cell_type": "code",
   "execution_count": 183,
   "metadata": {},
   "outputs": [
    {
     "data": {
      "text/html": [
       "<div>\n",
       "<style scoped>\n",
       "    .dataframe tbody tr th:only-of-type {\n",
       "        vertical-align: middle;\n",
       "    }\n",
       "\n",
       "    .dataframe tbody tr th {\n",
       "        vertical-align: top;\n",
       "    }\n",
       "\n",
       "    .dataframe thead th {\n",
       "        text-align: right;\n",
       "    }\n",
       "</style>\n",
       "<table border=\"1\" class=\"dataframe\">\n",
       "  <thead>\n",
       "    <tr style=\"text-align: right;\">\n",
       "      <th></th>\n",
       "      <th>tipo_processo</th>\n",
       "      <th>autor</th>\n",
       "      <th>nome_dia_semana</th>\n",
       "    </tr>\n",
       "  </thead>\n",
       "  <tbody>\n",
       "    <tr>\n",
       "      <th>0</th>\n",
       "      <td>Transferência interna de estoque</td>\n",
       "      <td>SP3EMBA01</td>\n",
       "      <td>seg</td>\n",
       "    </tr>\n",
       "    <tr>\n",
       "      <th>1</th>\n",
       "      <td>Saída de depósito</td>\n",
       "      <td>SP3PRAZEVEDO</td>\n",
       "      <td>seg</td>\n",
       "    </tr>\n",
       "    <tr>\n",
       "      <th>2</th>\n",
       "      <td>Transferência interna de estoque</td>\n",
       "      <td>SP3ASSILVA</td>\n",
       "      <td>ter</td>\n",
       "    </tr>\n",
       "    <tr>\n",
       "      <th>3</th>\n",
       "      <td>Transferência interna de estoque</td>\n",
       "      <td>SP3ALFONSECA</td>\n",
       "      <td>ter</td>\n",
       "    </tr>\n",
       "    <tr>\n",
       "      <th>4</th>\n",
       "      <td>Transferência interna de estoque</td>\n",
       "      <td>SP3PROD04</td>\n",
       "      <td>seg</td>\n",
       "    </tr>\n",
       "  </tbody>\n",
       "</table>\n",
       "</div>"
      ],
      "text/plain": [
       "                      tipo_processo         autor nome_dia_semana\n",
       "0  Transferência interna de estoque     SP3EMBA01             seg\n",
       "1                 Saída de depósito  SP3PRAZEVEDO             seg\n",
       "2  Transferência interna de estoque    SP3ASSILVA             ter\n",
       "3  Transferência interna de estoque  SP3ALFONSECA             ter\n",
       "4  Transferência interna de estoque     SP3PROD04             seg"
      ]
     },
     "execution_count": 183,
     "metadata": {},
     "output_type": "execute_result"
    }
   ],
   "source": [
    "# Criando o dataframe X\n",
    "x = df_tarefas.drop(columns=['inventariado'], axis=1)\n",
    "x.head()"
   ]
  },
  {
   "cell_type": "code",
   "execution_count": 184,
   "metadata": {},
   "outputs": [
    {
     "data": {
      "text/plain": [
       "0    0.0\n",
       "1    0.0\n",
       "2    0.0\n",
       "3    0.0\n",
       "4    0.0\n",
       "Name: inventariado, dtype: float64"
      ]
     },
     "execution_count": 184,
     "metadata": {},
     "output_type": "execute_result"
    }
   ],
   "source": [
    "# Criando o dataframe Y\n",
    "y = df_tarefas['inventariado']\n",
    "y.head()"
   ]
  },
  {
   "cell_type": "code",
   "execution_count": 185,
   "metadata": {},
   "outputs": [
    {
     "data": {
      "text/html": [
       "<div>\n",
       "<style scoped>\n",
       "    .dataframe tbody tr th:only-of-type {\n",
       "        vertical-align: middle;\n",
       "    }\n",
       "\n",
       "    .dataframe tbody tr th {\n",
       "        vertical-align: top;\n",
       "    }\n",
       "\n",
       "    .dataframe thead th {\n",
       "        text-align: right;\n",
       "    }\n",
       "</style>\n",
       "<table border=\"1\" class=\"dataframe\">\n",
       "  <thead>\n",
       "    <tr style=\"text-align: right;\">\n",
       "      <th></th>\n",
       "      <th>tipo_processo_Entrada em depósito</th>\n",
       "      <th>tipo_processo_Saída de depósito</th>\n",
       "      <th>tipo_processo_Transferência interna de estoque</th>\n",
       "      <th>autor_JOBSCHEDULER</th>\n",
       "      <th>autor_SP3AAFERREIR</th>\n",
       "      <th>autor_SP3AECOELHO</th>\n",
       "      <th>autor_SP3AFNETO</th>\n",
       "      <th>autor_SP3AFSILVA</th>\n",
       "      <th>autor_SP3AFSILVA1</th>\n",
       "      <th>autor_SP3AHSERRA</th>\n",
       "      <th>...</th>\n",
       "      <th>autor_SP3WGJUNIOR</th>\n",
       "      <th>autor_SP3WJJUNIOR</th>\n",
       "      <th>autor_SP3WRCONCEIÇ</th>\n",
       "      <th>nome_dia_semana_dom</th>\n",
       "      <th>nome_dia_semana_qua</th>\n",
       "      <th>nome_dia_semana_qui</th>\n",
       "      <th>nome_dia_semana_sab</th>\n",
       "      <th>nome_dia_semana_seg</th>\n",
       "      <th>nome_dia_semana_sex</th>\n",
       "      <th>nome_dia_semana_ter</th>\n",
       "    </tr>\n",
       "  </thead>\n",
       "  <tbody>\n",
       "    <tr>\n",
       "      <th>0</th>\n",
       "      <td>0</td>\n",
       "      <td>0</td>\n",
       "      <td>1</td>\n",
       "      <td>0</td>\n",
       "      <td>0</td>\n",
       "      <td>0</td>\n",
       "      <td>0</td>\n",
       "      <td>0</td>\n",
       "      <td>0</td>\n",
       "      <td>0</td>\n",
       "      <td>...</td>\n",
       "      <td>0</td>\n",
       "      <td>0</td>\n",
       "      <td>0</td>\n",
       "      <td>0</td>\n",
       "      <td>0</td>\n",
       "      <td>0</td>\n",
       "      <td>0</td>\n",
       "      <td>1</td>\n",
       "      <td>0</td>\n",
       "      <td>0</td>\n",
       "    </tr>\n",
       "    <tr>\n",
       "      <th>1</th>\n",
       "      <td>0</td>\n",
       "      <td>1</td>\n",
       "      <td>0</td>\n",
       "      <td>0</td>\n",
       "      <td>0</td>\n",
       "      <td>0</td>\n",
       "      <td>0</td>\n",
       "      <td>0</td>\n",
       "      <td>0</td>\n",
       "      <td>0</td>\n",
       "      <td>...</td>\n",
       "      <td>0</td>\n",
       "      <td>0</td>\n",
       "      <td>0</td>\n",
       "      <td>0</td>\n",
       "      <td>0</td>\n",
       "      <td>0</td>\n",
       "      <td>0</td>\n",
       "      <td>1</td>\n",
       "      <td>0</td>\n",
       "      <td>0</td>\n",
       "    </tr>\n",
       "    <tr>\n",
       "      <th>2</th>\n",
       "      <td>0</td>\n",
       "      <td>0</td>\n",
       "      <td>1</td>\n",
       "      <td>0</td>\n",
       "      <td>0</td>\n",
       "      <td>0</td>\n",
       "      <td>0</td>\n",
       "      <td>0</td>\n",
       "      <td>0</td>\n",
       "      <td>0</td>\n",
       "      <td>...</td>\n",
       "      <td>0</td>\n",
       "      <td>0</td>\n",
       "      <td>0</td>\n",
       "      <td>0</td>\n",
       "      <td>0</td>\n",
       "      <td>0</td>\n",
       "      <td>0</td>\n",
       "      <td>0</td>\n",
       "      <td>0</td>\n",
       "      <td>1</td>\n",
       "    </tr>\n",
       "    <tr>\n",
       "      <th>3</th>\n",
       "      <td>0</td>\n",
       "      <td>0</td>\n",
       "      <td>1</td>\n",
       "      <td>0</td>\n",
       "      <td>0</td>\n",
       "      <td>0</td>\n",
       "      <td>0</td>\n",
       "      <td>0</td>\n",
       "      <td>0</td>\n",
       "      <td>0</td>\n",
       "      <td>...</td>\n",
       "      <td>0</td>\n",
       "      <td>0</td>\n",
       "      <td>0</td>\n",
       "      <td>0</td>\n",
       "      <td>0</td>\n",
       "      <td>0</td>\n",
       "      <td>0</td>\n",
       "      <td>0</td>\n",
       "      <td>0</td>\n",
       "      <td>1</td>\n",
       "    </tr>\n",
       "    <tr>\n",
       "      <th>4</th>\n",
       "      <td>0</td>\n",
       "      <td>0</td>\n",
       "      <td>1</td>\n",
       "      <td>0</td>\n",
       "      <td>0</td>\n",
       "      <td>0</td>\n",
       "      <td>0</td>\n",
       "      <td>0</td>\n",
       "      <td>0</td>\n",
       "      <td>0</td>\n",
       "      <td>...</td>\n",
       "      <td>0</td>\n",
       "      <td>0</td>\n",
       "      <td>0</td>\n",
       "      <td>0</td>\n",
       "      <td>0</td>\n",
       "      <td>0</td>\n",
       "      <td>0</td>\n",
       "      <td>1</td>\n",
       "      <td>0</td>\n",
       "      <td>0</td>\n",
       "    </tr>\n",
       "  </tbody>\n",
       "</table>\n",
       "<p>5 rows × 91 columns</p>\n",
       "</div>"
      ],
      "text/plain": [
       "   tipo_processo_Entrada em depósito  tipo_processo_Saída de depósito  \\\n",
       "0                                  0                                0   \n",
       "1                                  0                                1   \n",
       "2                                  0                                0   \n",
       "3                                  0                                0   \n",
       "4                                  0                                0   \n",
       "\n",
       "   tipo_processo_Transferência interna de estoque  autor_JOBSCHEDULER  \\\n",
       "0                                               1                   0   \n",
       "1                                               0                   0   \n",
       "2                                               1                   0   \n",
       "3                                               1                   0   \n",
       "4                                               1                   0   \n",
       "\n",
       "   autor_SP3AAFERREIR  autor_SP3AECOELHO  autor_SP3AFNETO  autor_SP3AFSILVA  \\\n",
       "0                   0                  0                0                 0   \n",
       "1                   0                  0                0                 0   \n",
       "2                   0                  0                0                 0   \n",
       "3                   0                  0                0                 0   \n",
       "4                   0                  0                0                 0   \n",
       "\n",
       "   autor_SP3AFSILVA1  autor_SP3AHSERRA  ...  autor_SP3WGJUNIOR  \\\n",
       "0                  0                 0  ...                  0   \n",
       "1                  0                 0  ...                  0   \n",
       "2                  0                 0  ...                  0   \n",
       "3                  0                 0  ...                  0   \n",
       "4                  0                 0  ...                  0   \n",
       "\n",
       "   autor_SP3WJJUNIOR  autor_SP3WRCONCEIÇ  nome_dia_semana_dom  \\\n",
       "0                  0                   0                    0   \n",
       "1                  0                   0                    0   \n",
       "2                  0                   0                    0   \n",
       "3                  0                   0                    0   \n",
       "4                  0                   0                    0   \n",
       "\n",
       "   nome_dia_semana_qua  nome_dia_semana_qui  nome_dia_semana_sab  \\\n",
       "0                    0                    0                    0   \n",
       "1                    0                    0                    0   \n",
       "2                    0                    0                    0   \n",
       "3                    0                    0                    0   \n",
       "4                    0                    0                    0   \n",
       "\n",
       "   nome_dia_semana_seg  nome_dia_semana_sex  nome_dia_semana_ter  \n",
       "0                    1                    0                    0  \n",
       "1                    1                    0                    0  \n",
       "2                    0                    0                    1  \n",
       "3                    0                    0                    1  \n",
       "4                    1                    0                    0  \n",
       "\n",
       "[5 rows x 91 columns]"
      ]
     },
     "execution_count": 185,
     "metadata": {},
     "output_type": "execute_result"
    }
   ],
   "source": [
    "x_dummies = pd.get_dummies(x)\n",
    "x_dummies.head()"
   ]
  },
  {
   "cell_type": "code",
   "execution_count": 186,
   "metadata": {},
   "outputs": [
    {
     "data": {
      "text/plain": [
       "(234772, 91)"
      ]
     },
     "execution_count": 186,
     "metadata": {},
     "output_type": "execute_result"
    }
   ],
   "source": [
    "x_dummies.shape"
   ]
  },
  {
   "cell_type": "markdown",
   "metadata": {},
   "source": [
    "### Treinando o modelo"
   ]
  },
  {
   "cell_type": "code",
   "execution_count": 187,
   "metadata": {},
   "outputs": [
    {
     "name": "stdout",
     "output_type": "stream",
     "text": [
      "Tamanho \"treino_x\":  164340\n",
      "Tamanho \"teste_x\":  70432\n",
      "Tamanho \"treino_y\":  164340\n",
      "Tamanho \"teste_x\":  70432\n"
     ]
    }
   ],
   "source": [
    "# Criando as divisões de teste e treino\n",
    "\n",
    "treino_x, teste_x, treino_y, teste_y = train_test_split(x_dummies, y, test_size=0.30, random_state=10)\n",
    "\n",
    "print('Tamanho \"treino_x\": ', len(treino_x))\n",
    "print('Tamanho \"teste_x\": ', len(teste_x))\n",
    "print('Tamanho \"treino_y\": ', len(treino_y))\n",
    "print('Tamanho \"teste_x\": ', len(teste_x))"
   ]
  },
  {
   "cell_type": "code",
   "execution_count": 188,
   "metadata": {},
   "outputs": [
    {
     "data": {
      "text/plain": [
       "(164340, 91)"
      ]
     },
     "execution_count": 188,
     "metadata": {},
     "output_type": "execute_result"
    }
   ],
   "source": [
    "treino_x.shape"
   ]
  },
  {
   "cell_type": "markdown",
   "metadata": {},
   "source": [
    "#### Criando a previsão base"
   ]
  },
  {
   "cell_type": "code",
   "execution_count": 189,
   "metadata": {},
   "outputs": [],
   "source": [
    "previsao_base = np.ones(len(teste_x))"
   ]
  },
  {
   "cell_type": "code",
   "execution_count": 190,
   "metadata": {},
   "outputs": [
    {
     "name": "stdout",
     "output_type": "stream",
     "text": [
      "Precisão do modelo:  0.7894139027714676\n"
     ]
    }
   ],
   "source": [
    "# Verificando a precisão do modelo base\n",
    "\n",
    "precisao = (accuracy_score(teste_y, previsao_base))* 100\n",
    "\n",
    "print('Precisão do modelo: ', precisao)"
   ]
  },
  {
   "cell_type": "markdown",
   "metadata": {},
   "source": [
    "#### Adaboost"
   ]
  },
  {
   "cell_type": "code",
   "execution_count": 191,
   "metadata": {},
   "outputs": [
    {
     "data": {
      "text/html": [
       "<style>#sk-container-id-13 {color: black;background-color: white;}#sk-container-id-13 pre{padding: 0;}#sk-container-id-13 div.sk-toggleable {background-color: white;}#sk-container-id-13 label.sk-toggleable__label {cursor: pointer;display: block;width: 100%;margin-bottom: 0;padding: 0.3em;box-sizing: border-box;text-align: center;}#sk-container-id-13 label.sk-toggleable__label-arrow:before {content: \"▸\";float: left;margin-right: 0.25em;color: #696969;}#sk-container-id-13 label.sk-toggleable__label-arrow:hover:before {color: black;}#sk-container-id-13 div.sk-estimator:hover label.sk-toggleable__label-arrow:before {color: black;}#sk-container-id-13 div.sk-toggleable__content {max-height: 0;max-width: 0;overflow: hidden;text-align: left;background-color: #f0f8ff;}#sk-container-id-13 div.sk-toggleable__content pre {margin: 0.2em;color: black;border-radius: 0.25em;background-color: #f0f8ff;}#sk-container-id-13 input.sk-toggleable__control:checked~div.sk-toggleable__content {max-height: 200px;max-width: 100%;overflow: auto;}#sk-container-id-13 input.sk-toggleable__control:checked~label.sk-toggleable__label-arrow:before {content: \"▾\";}#sk-container-id-13 div.sk-estimator input.sk-toggleable__control:checked~label.sk-toggleable__label {background-color: #d4ebff;}#sk-container-id-13 div.sk-label input.sk-toggleable__control:checked~label.sk-toggleable__label {background-color: #d4ebff;}#sk-container-id-13 input.sk-hidden--visually {border: 0;clip: rect(1px 1px 1px 1px);clip: rect(1px, 1px, 1px, 1px);height: 1px;margin: -1px;overflow: hidden;padding: 0;position: absolute;width: 1px;}#sk-container-id-13 div.sk-estimator {font-family: monospace;background-color: #f0f8ff;border: 1px dotted black;border-radius: 0.25em;box-sizing: border-box;margin-bottom: 0.5em;}#sk-container-id-13 div.sk-estimator:hover {background-color: #d4ebff;}#sk-container-id-13 div.sk-parallel-item::after {content: \"\";width: 100%;border-bottom: 1px solid gray;flex-grow: 1;}#sk-container-id-13 div.sk-label:hover label.sk-toggleable__label {background-color: #d4ebff;}#sk-container-id-13 div.sk-serial::before {content: \"\";position: absolute;border-left: 1px solid gray;box-sizing: border-box;top: 0;bottom: 0;left: 50%;z-index: 0;}#sk-container-id-13 div.sk-serial {display: flex;flex-direction: column;align-items: center;background-color: white;padding-right: 0.2em;padding-left: 0.2em;position: relative;}#sk-container-id-13 div.sk-item {position: relative;z-index: 1;}#sk-container-id-13 div.sk-parallel {display: flex;align-items: stretch;justify-content: center;background-color: white;position: relative;}#sk-container-id-13 div.sk-item::before, #sk-container-id-13 div.sk-parallel-item::before {content: \"\";position: absolute;border-left: 1px solid gray;box-sizing: border-box;top: 0;bottom: 0;left: 50%;z-index: -1;}#sk-container-id-13 div.sk-parallel-item {display: flex;flex-direction: column;z-index: 1;position: relative;background-color: white;}#sk-container-id-13 div.sk-parallel-item:first-child::after {align-self: flex-end;width: 50%;}#sk-container-id-13 div.sk-parallel-item:last-child::after {align-self: flex-start;width: 50%;}#sk-container-id-13 div.sk-parallel-item:only-child::after {width: 0;}#sk-container-id-13 div.sk-dashed-wrapped {border: 1px dashed gray;margin: 0 0.4em 0.5em 0.4em;box-sizing: border-box;padding-bottom: 0.4em;background-color: white;}#sk-container-id-13 div.sk-label label {font-family: monospace;font-weight: bold;display: inline-block;line-height: 1.2em;}#sk-container-id-13 div.sk-label-container {text-align: center;}#sk-container-id-13 div.sk-container {/* jupyter's `normalize.less` sets `[hidden] { display: none; }` but bootstrap.min.css set `[hidden] { display: none !important; }` so we also need the `!important` here to be able to override the default hidden behavior on the sphinx rendered scikit-learn.org. See: https://github.com/scikit-learn/scikit-learn/issues/21755 */display: inline-block !important;position: relative;}#sk-container-id-13 div.sk-text-repr-fallback {display: none;}</style><div id=\"sk-container-id-13\" class=\"sk-top-container\"><div class=\"sk-text-repr-fallback\"><pre>AdaBoostClassifier()</pre><b>In a Jupyter environment, please rerun this cell to show the HTML representation or trust the notebook. <br />On GitHub, the HTML representation is unable to render, please try loading this page with nbviewer.org.</b></div><div class=\"sk-container\" hidden><div class=\"sk-item\"><div class=\"sk-estimator sk-toggleable\"><input class=\"sk-toggleable__control sk-hidden--visually\" id=\"sk-estimator-id-13\" type=\"checkbox\" checked><label for=\"sk-estimator-id-13\" class=\"sk-toggleable__label sk-toggleable__label-arrow\">AdaBoostClassifier</label><div class=\"sk-toggleable__content\"><pre>AdaBoostClassifier()</pre></div></div></div></div></div>"
      ],
      "text/plain": [
       "AdaBoostClassifier()"
      ]
     },
     "execution_count": 191,
     "metadata": {},
     "output_type": "execute_result"
    }
   ],
   "source": [
    "# Criando e treinando o modelo\n",
    "modelo_ada = AdaBoostClassifier()\n",
    "modelo_ada.fit(treino_x, treino_y)\n"
   ]
  },
  {
   "cell_type": "code",
   "execution_count": 192,
   "metadata": {},
   "outputs": [
    {
     "name": "stdout",
     "output_type": "stream",
     "text": [
      "Precisão do modelo:  99.21058609722854\n"
     ]
    }
   ],
   "source": [
    "# Previsão\n",
    "previsao_ada = modelo_ada.predict(teste_x)\n",
    "\n",
    "# Verificando a precisão do modelo\n",
    "precisao_ada = (accuracy_score(teste_y, previsao_ada))* 100\n",
    "\n",
    "print('Precisão do modelo: ', precisao_ada)"
   ]
  },
  {
   "cell_type": "markdown",
   "metadata": {},
   "source": [
    "#### Árvore de decisão"
   ]
  },
  {
   "cell_type": "code",
   "execution_count": 193,
   "metadata": {},
   "outputs": [
    {
     "data": {
      "text/html": [
       "<style>#sk-container-id-14 {color: black;background-color: white;}#sk-container-id-14 pre{padding: 0;}#sk-container-id-14 div.sk-toggleable {background-color: white;}#sk-container-id-14 label.sk-toggleable__label {cursor: pointer;display: block;width: 100%;margin-bottom: 0;padding: 0.3em;box-sizing: border-box;text-align: center;}#sk-container-id-14 label.sk-toggleable__label-arrow:before {content: \"▸\";float: left;margin-right: 0.25em;color: #696969;}#sk-container-id-14 label.sk-toggleable__label-arrow:hover:before {color: black;}#sk-container-id-14 div.sk-estimator:hover label.sk-toggleable__label-arrow:before {color: black;}#sk-container-id-14 div.sk-toggleable__content {max-height: 0;max-width: 0;overflow: hidden;text-align: left;background-color: #f0f8ff;}#sk-container-id-14 div.sk-toggleable__content pre {margin: 0.2em;color: black;border-radius: 0.25em;background-color: #f0f8ff;}#sk-container-id-14 input.sk-toggleable__control:checked~div.sk-toggleable__content {max-height: 200px;max-width: 100%;overflow: auto;}#sk-container-id-14 input.sk-toggleable__control:checked~label.sk-toggleable__label-arrow:before {content: \"▾\";}#sk-container-id-14 div.sk-estimator input.sk-toggleable__control:checked~label.sk-toggleable__label {background-color: #d4ebff;}#sk-container-id-14 div.sk-label input.sk-toggleable__control:checked~label.sk-toggleable__label {background-color: #d4ebff;}#sk-container-id-14 input.sk-hidden--visually {border: 0;clip: rect(1px 1px 1px 1px);clip: rect(1px, 1px, 1px, 1px);height: 1px;margin: -1px;overflow: hidden;padding: 0;position: absolute;width: 1px;}#sk-container-id-14 div.sk-estimator {font-family: monospace;background-color: #f0f8ff;border: 1px dotted black;border-radius: 0.25em;box-sizing: border-box;margin-bottom: 0.5em;}#sk-container-id-14 div.sk-estimator:hover {background-color: #d4ebff;}#sk-container-id-14 div.sk-parallel-item::after {content: \"\";width: 100%;border-bottom: 1px solid gray;flex-grow: 1;}#sk-container-id-14 div.sk-label:hover label.sk-toggleable__label {background-color: #d4ebff;}#sk-container-id-14 div.sk-serial::before {content: \"\";position: absolute;border-left: 1px solid gray;box-sizing: border-box;top: 0;bottom: 0;left: 50%;z-index: 0;}#sk-container-id-14 div.sk-serial {display: flex;flex-direction: column;align-items: center;background-color: white;padding-right: 0.2em;padding-left: 0.2em;position: relative;}#sk-container-id-14 div.sk-item {position: relative;z-index: 1;}#sk-container-id-14 div.sk-parallel {display: flex;align-items: stretch;justify-content: center;background-color: white;position: relative;}#sk-container-id-14 div.sk-item::before, #sk-container-id-14 div.sk-parallel-item::before {content: \"\";position: absolute;border-left: 1px solid gray;box-sizing: border-box;top: 0;bottom: 0;left: 50%;z-index: -1;}#sk-container-id-14 div.sk-parallel-item {display: flex;flex-direction: column;z-index: 1;position: relative;background-color: white;}#sk-container-id-14 div.sk-parallel-item:first-child::after {align-self: flex-end;width: 50%;}#sk-container-id-14 div.sk-parallel-item:last-child::after {align-self: flex-start;width: 50%;}#sk-container-id-14 div.sk-parallel-item:only-child::after {width: 0;}#sk-container-id-14 div.sk-dashed-wrapped {border: 1px dashed gray;margin: 0 0.4em 0.5em 0.4em;box-sizing: border-box;padding-bottom: 0.4em;background-color: white;}#sk-container-id-14 div.sk-label label {font-family: monospace;font-weight: bold;display: inline-block;line-height: 1.2em;}#sk-container-id-14 div.sk-label-container {text-align: center;}#sk-container-id-14 div.sk-container {/* jupyter's `normalize.less` sets `[hidden] { display: none; }` but bootstrap.min.css set `[hidden] { display: none !important; }` so we also need the `!important` here to be able to override the default hidden behavior on the sphinx rendered scikit-learn.org. See: https://github.com/scikit-learn/scikit-learn/issues/21755 */display: inline-block !important;position: relative;}#sk-container-id-14 div.sk-text-repr-fallback {display: none;}</style><div id=\"sk-container-id-14\" class=\"sk-top-container\"><div class=\"sk-text-repr-fallback\"><pre>DecisionTreeClassifier(max_depth=5)</pre><b>In a Jupyter environment, please rerun this cell to show the HTML representation or trust the notebook. <br />On GitHub, the HTML representation is unable to render, please try loading this page with nbviewer.org.</b></div><div class=\"sk-container\" hidden><div class=\"sk-item\"><div class=\"sk-estimator sk-toggleable\"><input class=\"sk-toggleable__control sk-hidden--visually\" id=\"sk-estimator-id-14\" type=\"checkbox\" checked><label for=\"sk-estimator-id-14\" class=\"sk-toggleable__label sk-toggleable__label-arrow\">DecisionTreeClassifier</label><div class=\"sk-toggleable__content\"><pre>DecisionTreeClassifier(max_depth=5)</pre></div></div></div></div></div>"
      ],
      "text/plain": [
       "DecisionTreeClassifier(max_depth=5)"
      ]
     },
     "execution_count": 193,
     "metadata": {},
     "output_type": "execute_result"
    }
   ],
   "source": [
    "# Criando e treinando o modelo\n",
    "modelo_arvore = DecisionTreeClassifier(max_depth=5)\n",
    "modelo_arvore.fit(treino_x, treino_y)"
   ]
  },
  {
   "cell_type": "code",
   "execution_count": 194,
   "metadata": {},
   "outputs": [
    {
     "name": "stdout",
     "output_type": "stream",
     "text": [
      "Precisão do modelo:  99.21200590640618\n"
     ]
    }
   ],
   "source": [
    "# Previsão\n",
    "previsao_arvore = modelo_arvore.predict(teste_x)\n",
    "\n",
    "# Verificando a precisão do modelo\n",
    "precisao_arvore = (accuracy_score(teste_y, previsao_arvore))*100\n",
    "\n",
    "print('Precisão do modelo: ', precisao_arvore)"
   ]
  },
  {
   "cell_type": "markdown",
   "metadata": {},
   "source": [
    "#### Exibindo graficamente a árvore de decisão"
   ]
  },
  {
   "cell_type": "code",
   "execution_count": 195,
   "metadata": {},
   "outputs": [
    {
     "data": {
      "image/svg+xml": "<?xml version=\"1.0\" encoding=\"UTF-8\" standalone=\"no\"?>\n<!DOCTYPE svg PUBLIC \"-//W3C//DTD SVG 1.1//EN\"\n \"http://www.w3.org/Graphics/SVG/1.1/DTD/svg11.dtd\">\n<!-- Generated by graphviz version 3.0.0 (20220226.1711)\n -->\n<!-- Title: Tree Pages: 1 -->\n<svg width=\"1676pt\" height=\"671pt\"\n viewBox=\"0.00 0.00 1675.50 671.00\" xmlns=\"http://www.w3.org/2000/svg\" xmlns:xlink=\"http://www.w3.org/1999/xlink\">\n<g id=\"graph0\" class=\"graph\" transform=\"scale(1 1) rotate(0) translate(4 667)\">\n<title>Tree</title>\n<polygon fill=\"white\" stroke=\"transparent\" points=\"-4,4 -4,-667 1671.5,-667 1671.5,4 -4,4\"/>\n<!-- 0 -->\n<g id=\"node1\" class=\"node\">\n<title>0</title>\n<path fill=\"#e5823b\" stroke=\"black\" d=\"M1368.5,-663C1368.5,-663 1180.5,-663 1180.5,-663 1174.5,-663 1168.5,-657 1168.5,-651 1168.5,-651 1168.5,-592 1168.5,-592 1168.5,-586 1174.5,-580 1180.5,-580 1180.5,-580 1368.5,-580 1368.5,-580 1374.5,-580 1380.5,-586 1380.5,-592 1380.5,-592 1380.5,-651 1380.5,-651 1380.5,-657 1374.5,-663 1368.5,-663\"/>\n<text text-anchor=\"middle\" x=\"1274.5\" y=\"-647.8\" font-family=\"Helvetica,sans-Serif\" font-size=\"14.00\">autor_SP3RFBITENCO &lt;= 0.5</text>\n<text text-anchor=\"middle\" x=\"1274.5\" y=\"-632.8\" font-family=\"Helvetica,sans-Serif\" font-size=\"14.00\">gini = 0.015</text>\n<text text-anchor=\"middle\" x=\"1274.5\" y=\"-617.8\" font-family=\"Helvetica,sans-Serif\" font-size=\"14.00\">samples = 164340</text>\n<text text-anchor=\"middle\" x=\"1274.5\" y=\"-602.8\" font-family=\"Helvetica,sans-Serif\" font-size=\"14.00\">value = [163058, 1282]</text>\n<text text-anchor=\"middle\" x=\"1274.5\" y=\"-587.8\" font-family=\"Helvetica,sans-Serif\" font-size=\"14.00\">class = não</text>\n</g>\n<!-- 1 -->\n<g id=\"node2\" class=\"node\">\n<title>1</title>\n<path fill=\"#e5823b\" stroke=\"black\" d=\"M1175.5,-544C1175.5,-544 1007.5,-544 1007.5,-544 1001.5,-544 995.5,-538 995.5,-532 995.5,-532 995.5,-473 995.5,-473 995.5,-467 1001.5,-461 1007.5,-461 1007.5,-461 1175.5,-461 1175.5,-461 1181.5,-461 1187.5,-467 1187.5,-473 1187.5,-473 1187.5,-532 1187.5,-532 1187.5,-538 1181.5,-544 1175.5,-544\"/>\n<text text-anchor=\"middle\" x=\"1091.5\" y=\"-528.8\" font-family=\"Helvetica,sans-Serif\" font-size=\"14.00\">autor_SP3DJUNIOR &lt;= 0.5</text>\n<text text-anchor=\"middle\" x=\"1091.5\" y=\"-513.8\" font-family=\"Helvetica,sans-Serif\" font-size=\"14.00\">gini = 0.015</text>\n<text text-anchor=\"middle\" x=\"1091.5\" y=\"-498.8\" font-family=\"Helvetica,sans-Serif\" font-size=\"14.00\">samples = 163804</text>\n<text text-anchor=\"middle\" x=\"1091.5\" y=\"-483.8\" font-family=\"Helvetica,sans-Serif\" font-size=\"14.00\">value = [162568, 1236]</text>\n<text text-anchor=\"middle\" x=\"1091.5\" y=\"-468.8\" font-family=\"Helvetica,sans-Serif\" font-size=\"14.00\">class = não</text>\n</g>\n<!-- 0&#45;&gt;1 -->\n<g id=\"edge1\" class=\"edge\">\n<title>0&#45;&gt;1</title>\n<path fill=\"none\" stroke=\"black\" d=\"M1211.01,-579.91C1195.68,-570.11 1179.19,-559.56 1163.5,-549.53\"/>\n<polygon fill=\"black\" stroke=\"black\" points=\"1165.19,-546.46 1154.88,-544.02 1161.42,-552.36 1165.19,-546.46\"/>\n<text text-anchor=\"middle\" x=\"1160.25\" y=\"-564.74\" font-family=\"Helvetica,sans-Serif\" font-size=\"14.00\">True</text>\n</g>\n<!-- 22 -->\n<g id=\"node23\" class=\"node\">\n<title>22</title>\n<path fill=\"#e78d4c\" stroke=\"black\" d=\"M1516,-544C1516,-544 1331,-544 1331,-544 1325,-544 1319,-538 1319,-532 1319,-532 1319,-473 1319,-473 1319,-467 1325,-461 1331,-461 1331,-461 1516,-461 1516,-461 1522,-461 1528,-467 1528,-473 1528,-473 1528,-532 1528,-532 1528,-538 1522,-544 1516,-544\"/>\n<text text-anchor=\"middle\" x=\"1423.5\" y=\"-528.8\" font-family=\"Helvetica,sans-Serif\" font-size=\"14.00\">nome_dia_semana_qui &lt;= 0.5</text>\n<text text-anchor=\"middle\" x=\"1423.5\" y=\"-513.8\" font-family=\"Helvetica,sans-Serif\" font-size=\"14.00\">gini = 0.157</text>\n<text text-anchor=\"middle\" x=\"1423.5\" y=\"-498.8\" font-family=\"Helvetica,sans-Serif\" font-size=\"14.00\">samples = 536</text>\n<text text-anchor=\"middle\" x=\"1423.5\" y=\"-483.8\" font-family=\"Helvetica,sans-Serif\" font-size=\"14.00\">value = [490, 46]</text>\n<text text-anchor=\"middle\" x=\"1423.5\" y=\"-468.8\" font-family=\"Helvetica,sans-Serif\" font-size=\"14.00\">class = não</text>\n</g>\n<!-- 0&#45;&gt;22 -->\n<g id=\"edge22\" class=\"edge\">\n<title>0&#45;&gt;22</title>\n<path fill=\"none\" stroke=\"black\" d=\"M1326.19,-579.91C1338.33,-570.38 1351.36,-560.15 1363.81,-550.37\"/>\n<polygon fill=\"black\" stroke=\"black\" points=\"1366.19,-552.95 1371.9,-544.02 1361.87,-547.44 1366.19,-552.95\"/>\n<text text-anchor=\"middle\" x=\"1368.91\" y=\"-565.14\" font-family=\"Helvetica,sans-Serif\" font-size=\"14.00\">False</text>\n</g>\n<!-- 2 -->\n<g id=\"node3\" class=\"node\">\n<title>2</title>\n<path fill=\"#e5823a\" stroke=\"black\" d=\"M891.5,-425C891.5,-425 699.5,-425 699.5,-425 693.5,-425 687.5,-419 687.5,-413 687.5,-413 687.5,-354 687.5,-354 687.5,-348 693.5,-342 699.5,-342 699.5,-342 891.5,-342 891.5,-342 897.5,-342 903.5,-348 903.5,-354 903.5,-354 903.5,-413 903.5,-413 903.5,-419 897.5,-425 891.5,-425\"/>\n<text text-anchor=\"middle\" x=\"795.5\" y=\"-409.8\" font-family=\"Helvetica,sans-Serif\" font-size=\"14.00\">autor_SP3JAGONCALV &lt;= 0.5</text>\n<text text-anchor=\"middle\" x=\"795.5\" y=\"-394.8\" font-family=\"Helvetica,sans-Serif\" font-size=\"14.00\">gini = 0.015</text>\n<text text-anchor=\"middle\" x=\"795.5\" y=\"-379.8\" font-family=\"Helvetica,sans-Serif\" font-size=\"14.00\">samples = 163002</text>\n<text text-anchor=\"middle\" x=\"795.5\" y=\"-364.8\" font-family=\"Helvetica,sans-Serif\" font-size=\"14.00\">value = [161802, 1200]</text>\n<text text-anchor=\"middle\" x=\"795.5\" y=\"-349.8\" font-family=\"Helvetica,sans-Serif\" font-size=\"14.00\">class = não</text>\n</g>\n<!-- 1&#45;&gt;2 -->\n<g id=\"edge2\" class=\"edge\">\n<title>1&#45;&gt;2</title>\n<path fill=\"none\" stroke=\"black\" d=\"M995.4,-463.51C967.29,-452.4 936.33,-440.17 907.34,-428.71\"/>\n<polygon fill=\"black\" stroke=\"black\" points=\"908.59,-425.44 898,-425.02 906.02,-431.95 908.59,-425.44\"/>\n</g>\n<!-- 15 -->\n<g id=\"node16\" class=\"node\">\n<title>15</title>\n<path fill=\"#e68742\" stroke=\"black\" d=\"M1189,-425C1189,-425 994,-425 994,-425 988,-425 982,-419 982,-413 982,-413 982,-354 982,-354 982,-348 988,-342 994,-342 994,-342 1189,-342 1189,-342 1195,-342 1201,-348 1201,-354 1201,-354 1201,-413 1201,-413 1201,-419 1195,-425 1189,-425\"/>\n<text text-anchor=\"middle\" x=\"1091.5\" y=\"-409.8\" font-family=\"Helvetica,sans-Serif\" font-size=\"14.00\">nome_dia_semana_dom &lt;= 0.5</text>\n<text text-anchor=\"middle\" x=\"1091.5\" y=\"-394.8\" font-family=\"Helvetica,sans-Serif\" font-size=\"14.00\">gini = 0.086</text>\n<text text-anchor=\"middle\" x=\"1091.5\" y=\"-379.8\" font-family=\"Helvetica,sans-Serif\" font-size=\"14.00\">samples = 802</text>\n<text text-anchor=\"middle\" x=\"1091.5\" y=\"-364.8\" font-family=\"Helvetica,sans-Serif\" font-size=\"14.00\">value = [766, 36]</text>\n<text text-anchor=\"middle\" x=\"1091.5\" y=\"-349.8\" font-family=\"Helvetica,sans-Serif\" font-size=\"14.00\">class = não</text>\n</g>\n<!-- 1&#45;&gt;15 -->\n<g id=\"edge15\" class=\"edge\">\n<title>1&#45;&gt;15</title>\n<path fill=\"none\" stroke=\"black\" d=\"M1091.5,-460.91C1091.5,-452.65 1091.5,-443.86 1091.5,-435.3\"/>\n<polygon fill=\"black\" stroke=\"black\" points=\"1095,-435.02 1091.5,-425.02 1088,-435.02 1095,-435.02\"/>\n</g>\n<!-- 3 -->\n<g id=\"node4\" class=\"node\">\n<title>3</title>\n<path fill=\"#e5823a\" stroke=\"black\" d=\"M558,-306C558,-306 367,-306 367,-306 361,-306 355,-300 355,-294 355,-294 355,-235 355,-235 355,-229 361,-223 367,-223 367,-223 558,-223 558,-223 564,-223 570,-229 570,-235 570,-235 570,-294 570,-294 570,-300 564,-306 558,-306\"/>\n<text text-anchor=\"middle\" x=\"462.5\" y=\"-290.8\" font-family=\"Helvetica,sans-Serif\" font-size=\"14.00\">autor_SP3MSNASCIME &lt;= 0.5</text>\n<text text-anchor=\"middle\" x=\"462.5\" y=\"-275.8\" font-family=\"Helvetica,sans-Serif\" font-size=\"14.00\">gini = 0.014</text>\n<text text-anchor=\"middle\" x=\"462.5\" y=\"-260.8\" font-family=\"Helvetica,sans-Serif\" font-size=\"14.00\">samples = 162597</text>\n<text text-anchor=\"middle\" x=\"462.5\" y=\"-245.8\" font-family=\"Helvetica,sans-Serif\" font-size=\"14.00\">value = [161420, 1177]</text>\n<text text-anchor=\"middle\" x=\"462.5\" y=\"-230.8\" font-family=\"Helvetica,sans-Serif\" font-size=\"14.00\">class = não</text>\n</g>\n<!-- 2&#45;&gt;3 -->\n<g id=\"edge3\" class=\"edge\">\n<title>2&#45;&gt;3</title>\n<path fill=\"none\" stroke=\"black\" d=\"M687.38,-344.51C653.01,-332.44 614.84,-319.03 579.85,-306.73\"/>\n<polygon fill=\"black\" stroke=\"black\" points=\"580.67,-303.31 570.07,-303.3 578.35,-309.91 580.67,-303.31\"/>\n</g>\n<!-- 10 -->\n<g id=\"node11\" class=\"node\">\n<title>10</title>\n<path fill=\"#e78945\" stroke=\"black\" d=\"M887,-306C887,-306 704,-306 704,-306 698,-306 692,-300 692,-294 692,-294 692,-235 692,-235 692,-229 698,-223 704,-223 704,-223 887,-223 887,-223 893,-223 899,-229 899,-235 899,-235 899,-294 899,-294 899,-300 893,-306 887,-306\"/>\n<text text-anchor=\"middle\" x=\"795.5\" y=\"-290.8\" font-family=\"Helvetica,sans-Serif\" font-size=\"14.00\">nome_dia_semana_ter &lt;= 0.5</text>\n<text text-anchor=\"middle\" x=\"795.5\" y=\"-275.8\" font-family=\"Helvetica,sans-Serif\" font-size=\"14.00\">gini = 0.107</text>\n<text text-anchor=\"middle\" x=\"795.5\" y=\"-260.8\" font-family=\"Helvetica,sans-Serif\" font-size=\"14.00\">samples = 405</text>\n<text text-anchor=\"middle\" x=\"795.5\" y=\"-245.8\" font-family=\"Helvetica,sans-Serif\" font-size=\"14.00\">value = [382, 23]</text>\n<text text-anchor=\"middle\" x=\"795.5\" y=\"-230.8\" font-family=\"Helvetica,sans-Serif\" font-size=\"14.00\">class = não</text>\n</g>\n<!-- 2&#45;&gt;10 -->\n<g id=\"edge10\" class=\"edge\">\n<title>2&#45;&gt;10</title>\n<path fill=\"none\" stroke=\"black\" d=\"M795.5,-341.91C795.5,-333.65 795.5,-324.86 795.5,-316.3\"/>\n<polygon fill=\"black\" stroke=\"black\" points=\"799,-316.02 795.5,-306.02 792,-316.02 799,-316.02\"/>\n</g>\n<!-- 4 -->\n<g id=\"node5\" class=\"node\">\n<title>4</title>\n<path fill=\"#e5823a\" stroke=\"black\" d=\"M323,-187C323,-187 130,-187 130,-187 124,-187 118,-181 118,-175 118,-175 118,-116 118,-116 118,-110 124,-104 130,-104 130,-104 323,-104 323,-104 329,-104 335,-110 335,-116 335,-116 335,-175 335,-175 335,-181 329,-187 323,-187\"/>\n<text text-anchor=\"middle\" x=\"226.5\" y=\"-171.8\" font-family=\"Helvetica,sans-Serif\" font-size=\"14.00\">autor_SP3CECARVALH &lt;= 0.5</text>\n<text text-anchor=\"middle\" x=\"226.5\" y=\"-156.8\" font-family=\"Helvetica,sans-Serif\" font-size=\"14.00\">gini = 0.013</text>\n<text text-anchor=\"middle\" x=\"226.5\" y=\"-141.8\" font-family=\"Helvetica,sans-Serif\" font-size=\"14.00\">samples = 153243</text>\n<text text-anchor=\"middle\" x=\"226.5\" y=\"-126.8\" font-family=\"Helvetica,sans-Serif\" font-size=\"14.00\">value = [152209, 1034]</text>\n<text text-anchor=\"middle\" x=\"226.5\" y=\"-111.8\" font-family=\"Helvetica,sans-Serif\" font-size=\"14.00\">class = não</text>\n</g>\n<!-- 3&#45;&gt;4 -->\n<g id=\"edge4\" class=\"edge\">\n<title>3&#45;&gt;4</title>\n<path fill=\"none\" stroke=\"black\" d=\"M380.62,-222.91C360.21,-212.79 338.2,-201.88 317.39,-191.56\"/>\n<polygon fill=\"black\" stroke=\"black\" points=\"318.75,-188.33 308.23,-187.02 315.64,-194.6 318.75,-188.33\"/>\n</g>\n<!-- 7 -->\n<g id=\"node8\" class=\"node\">\n<title>7</title>\n<path fill=\"#e5833c\" stroke=\"black\" d=\"M560,-187C560,-187 365,-187 365,-187 359,-187 353,-181 353,-175 353,-175 353,-116 353,-116 353,-110 359,-104 365,-104 365,-104 560,-104 560,-104 566,-104 572,-110 572,-116 572,-116 572,-175 572,-175 572,-181 566,-187 560,-187\"/>\n<text text-anchor=\"middle\" x=\"462.5\" y=\"-171.8\" font-family=\"Helvetica,sans-Serif\" font-size=\"14.00\">nome_dia_semana_dom &lt;= 0.5</text>\n<text text-anchor=\"middle\" x=\"462.5\" y=\"-156.8\" font-family=\"Helvetica,sans-Serif\" font-size=\"14.00\">gini = 0.03</text>\n<text text-anchor=\"middle\" x=\"462.5\" y=\"-141.8\" font-family=\"Helvetica,sans-Serif\" font-size=\"14.00\">samples = 9354</text>\n<text text-anchor=\"middle\" x=\"462.5\" y=\"-126.8\" font-family=\"Helvetica,sans-Serif\" font-size=\"14.00\">value = [9211, 143]</text>\n<text text-anchor=\"middle\" x=\"462.5\" y=\"-111.8\" font-family=\"Helvetica,sans-Serif\" font-size=\"14.00\">class = não</text>\n</g>\n<!-- 3&#45;&gt;7 -->\n<g id=\"edge7\" class=\"edge\">\n<title>3&#45;&gt;7</title>\n<path fill=\"none\" stroke=\"black\" d=\"M462.5,-222.91C462.5,-214.65 462.5,-205.86 462.5,-197.3\"/>\n<polygon fill=\"black\" stroke=\"black\" points=\"466,-197.02 462.5,-187.02 459,-197.02 466,-197.02\"/>\n</g>\n<!-- 5 -->\n<g id=\"node6\" class=\"node\">\n<title>5</title>\n<path fill=\"#e5823a\" stroke=\"black\" d=\"M151,-68C151,-68 12,-68 12,-68 6,-68 0,-62 0,-56 0,-56 0,-12 0,-12 0,-6 6,0 12,0 12,0 151,0 151,0 157,0 163,-6 163,-12 163,-12 163,-56 163,-56 163,-62 157,-68 151,-68\"/>\n<text text-anchor=\"middle\" x=\"81.5\" y=\"-52.8\" font-family=\"Helvetica,sans-Serif\" font-size=\"14.00\">gini = 0.013</text>\n<text text-anchor=\"middle\" x=\"81.5\" y=\"-37.8\" font-family=\"Helvetica,sans-Serif\" font-size=\"14.00\">samples = 153181</text>\n<text text-anchor=\"middle\" x=\"81.5\" y=\"-22.8\" font-family=\"Helvetica,sans-Serif\" font-size=\"14.00\">value = [152153, 1028]</text>\n<text text-anchor=\"middle\" x=\"81.5\" y=\"-7.8\" font-family=\"Helvetica,sans-Serif\" font-size=\"14.00\">class = não</text>\n</g>\n<!-- 4&#45;&gt;5 -->\n<g id=\"edge5\" class=\"edge\">\n<title>4&#45;&gt;5</title>\n<path fill=\"none\" stroke=\"black\" d=\"M172.51,-103.73C159.83,-94.15 146.33,-83.96 133.73,-74.44\"/>\n<polygon fill=\"black\" stroke=\"black\" points=\"135.68,-71.53 125.6,-68.3 131.47,-77.12 135.68,-71.53\"/>\n</g>\n<!-- 6 -->\n<g id=\"node7\" class=\"node\">\n<title>6</title>\n<path fill=\"#e88e4e\" stroke=\"black\" d=\"M274,-68C274,-68 193,-68 193,-68 187,-68 181,-62 181,-56 181,-56 181,-12 181,-12 181,-6 187,0 193,0 193,0 274,0 274,0 280,0 286,-6 286,-12 286,-12 286,-56 286,-56 286,-62 280,-68 274,-68\"/>\n<text text-anchor=\"middle\" x=\"233.5\" y=\"-52.8\" font-family=\"Helvetica,sans-Serif\" font-size=\"14.00\">gini = 0.175</text>\n<text text-anchor=\"middle\" x=\"233.5\" y=\"-37.8\" font-family=\"Helvetica,sans-Serif\" font-size=\"14.00\">samples = 62</text>\n<text text-anchor=\"middle\" x=\"233.5\" y=\"-22.8\" font-family=\"Helvetica,sans-Serif\" font-size=\"14.00\">value = [56, 6]</text>\n<text text-anchor=\"middle\" x=\"233.5\" y=\"-7.8\" font-family=\"Helvetica,sans-Serif\" font-size=\"14.00\">class = não</text>\n</g>\n<!-- 4&#45;&gt;6 -->\n<g id=\"edge6\" class=\"edge\">\n<title>4&#45;&gt;6</title>\n<path fill=\"none\" stroke=\"black\" d=\"M229.11,-103.73C229.64,-95.43 230.2,-86.67 230.73,-78.28\"/>\n<polygon fill=\"black\" stroke=\"black\" points=\"234.23,-78.5 231.37,-68.3 227.24,-78.06 234.23,-78.5\"/>\n</g>\n<!-- 8 -->\n<g id=\"node9\" class=\"node\">\n<title>8</title>\n<path fill=\"#e5823b\" stroke=\"black\" d=\"M448.5,-68C448.5,-68 342.5,-68 342.5,-68 336.5,-68 330.5,-62 330.5,-56 330.5,-56 330.5,-12 330.5,-12 330.5,-6 336.5,0 342.5,0 342.5,0 448.5,0 448.5,0 454.5,0 460.5,-6 460.5,-12 460.5,-12 460.5,-56 460.5,-56 460.5,-62 454.5,-68 448.5,-68\"/>\n<text text-anchor=\"middle\" x=\"395.5\" y=\"-52.8\" font-family=\"Helvetica,sans-Serif\" font-size=\"14.00\">gini = 0.021</text>\n<text text-anchor=\"middle\" x=\"395.5\" y=\"-37.8\" font-family=\"Helvetica,sans-Serif\" font-size=\"14.00\">samples = 8891</text>\n<text text-anchor=\"middle\" x=\"395.5\" y=\"-22.8\" font-family=\"Helvetica,sans-Serif\" font-size=\"14.00\">value = [8798, 93]</text>\n<text text-anchor=\"middle\" x=\"395.5\" y=\"-7.8\" font-family=\"Helvetica,sans-Serif\" font-size=\"14.00\">class = não</text>\n</g>\n<!-- 7&#45;&gt;8 -->\n<g id=\"edge8\" class=\"edge\">\n<title>7&#45;&gt;8</title>\n<path fill=\"none\" stroke=\"black\" d=\"M437.55,-103.73C432.19,-94.97 426.52,-85.7 421.14,-76.91\"/>\n<polygon fill=\"black\" stroke=\"black\" points=\"424.08,-75 415.88,-68.3 418.11,-78.66 424.08,-75\"/>\n</g>\n<!-- 9 -->\n<g id=\"node10\" class=\"node\">\n<title>9</title>\n<path fill=\"#e89051\" stroke=\"black\" d=\"M588.5,-68C588.5,-68 490.5,-68 490.5,-68 484.5,-68 478.5,-62 478.5,-56 478.5,-56 478.5,-12 478.5,-12 478.5,-6 484.5,0 490.5,0 490.5,0 588.5,0 588.5,0 594.5,0 600.5,-6 600.5,-12 600.5,-12 600.5,-56 600.5,-56 600.5,-62 594.5,-68 588.5,-68\"/>\n<text text-anchor=\"middle\" x=\"539.5\" y=\"-52.8\" font-family=\"Helvetica,sans-Serif\" font-size=\"14.00\">gini = 0.193</text>\n<text text-anchor=\"middle\" x=\"539.5\" y=\"-37.8\" font-family=\"Helvetica,sans-Serif\" font-size=\"14.00\">samples = 463</text>\n<text text-anchor=\"middle\" x=\"539.5\" y=\"-22.8\" font-family=\"Helvetica,sans-Serif\" font-size=\"14.00\">value = [413, 50]</text>\n<text text-anchor=\"middle\" x=\"539.5\" y=\"-7.8\" font-family=\"Helvetica,sans-Serif\" font-size=\"14.00\">class = não</text>\n</g>\n<!-- 7&#45;&gt;9 -->\n<g id=\"edge9\" class=\"edge\">\n<title>7&#45;&gt;9</title>\n<path fill=\"none\" stroke=\"black\" d=\"M491.17,-103.73C497.39,-94.88 503.98,-85.51 510.23,-76.63\"/>\n<polygon fill=\"black\" stroke=\"black\" points=\"513.19,-78.49 516.08,-68.3 507.47,-74.47 513.19,-78.49\"/>\n</g>\n<!-- 11 -->\n<g id=\"node12\" class=\"node\">\n<title>11</title>\n<path fill=\"#e68743\" stroke=\"black\" d=\"M797,-187C797,-187 602,-187 602,-187 596,-187 590,-181 590,-175 590,-175 590,-116 590,-116 590,-110 596,-104 602,-104 602,-104 797,-104 797,-104 803,-104 809,-110 809,-116 809,-116 809,-175 809,-175 809,-181 803,-187 797,-187\"/>\n<text text-anchor=\"middle\" x=\"699.5\" y=\"-171.8\" font-family=\"Helvetica,sans-Serif\" font-size=\"14.00\">nome_dia_semana_dom &lt;= 0.5</text>\n<text text-anchor=\"middle\" x=\"699.5\" y=\"-156.8\" font-family=\"Helvetica,sans-Serif\" font-size=\"14.00\">gini = 0.089</text>\n<text text-anchor=\"middle\" x=\"699.5\" y=\"-141.8\" font-family=\"Helvetica,sans-Serif\" font-size=\"14.00\">samples = 363</text>\n<text text-anchor=\"middle\" x=\"699.5\" y=\"-126.8\" font-family=\"Helvetica,sans-Serif\" font-size=\"14.00\">value = [346, 17]</text>\n<text text-anchor=\"middle\" x=\"699.5\" y=\"-111.8\" font-family=\"Helvetica,sans-Serif\" font-size=\"14.00\">class = não</text>\n</g>\n<!-- 10&#45;&gt;11 -->\n<g id=\"edge11\" class=\"edge\">\n<title>10&#45;&gt;11</title>\n<path fill=\"none\" stroke=\"black\" d=\"M762.19,-222.91C754.75,-213.83 746.78,-204.12 739.11,-194.77\"/>\n<polygon fill=\"black\" stroke=\"black\" points=\"741.8,-192.53 732.75,-187.02 736.39,-196.97 741.8,-192.53\"/>\n</g>\n<!-- 14 -->\n<g id=\"node15\" class=\"node\">\n<title>14</title>\n<path fill=\"#e9965a\" stroke=\"black\" d=\"M920,-179.5C920,-179.5 839,-179.5 839,-179.5 833,-179.5 827,-173.5 827,-167.5 827,-167.5 827,-123.5 827,-123.5 827,-117.5 833,-111.5 839,-111.5 839,-111.5 920,-111.5 920,-111.5 926,-111.5 932,-117.5 932,-123.5 932,-123.5 932,-167.5 932,-167.5 932,-173.5 926,-179.5 920,-179.5\"/>\n<text text-anchor=\"middle\" x=\"879.5\" y=\"-164.3\" font-family=\"Helvetica,sans-Serif\" font-size=\"14.00\">gini = 0.245</text>\n<text text-anchor=\"middle\" x=\"879.5\" y=\"-149.3\" font-family=\"Helvetica,sans-Serif\" font-size=\"14.00\">samples = 42</text>\n<text text-anchor=\"middle\" x=\"879.5\" y=\"-134.3\" font-family=\"Helvetica,sans-Serif\" font-size=\"14.00\">value = [36, 6]</text>\n<text text-anchor=\"middle\" x=\"879.5\" y=\"-119.3\" font-family=\"Helvetica,sans-Serif\" font-size=\"14.00\">class = não</text>\n</g>\n<!-- 10&#45;&gt;14 -->\n<g id=\"edge14\" class=\"edge\">\n<title>10&#45;&gt;14</title>\n<path fill=\"none\" stroke=\"black\" d=\"M824.64,-222.91C832.72,-211.65 841.51,-199.42 849.63,-188.11\"/>\n<polygon fill=\"black\" stroke=\"black\" points=\"852.7,-189.83 855.69,-179.67 847.01,-185.75 852.7,-189.83\"/>\n</g>\n<!-- 12 -->\n<g id=\"node13\" class=\"node\">\n<title>12</title>\n<path fill=\"#e68844\" stroke=\"black\" d=\"M741.5,-68C741.5,-68 643.5,-68 643.5,-68 637.5,-68 631.5,-62 631.5,-56 631.5,-56 631.5,-12 631.5,-12 631.5,-6 637.5,0 643.5,0 643.5,0 741.5,0 741.5,0 747.5,0 753.5,-6 753.5,-12 753.5,-12 753.5,-56 753.5,-56 753.5,-62 747.5,-68 741.5,-68\"/>\n<text text-anchor=\"middle\" x=\"692.5\" y=\"-52.8\" font-family=\"Helvetica,sans-Serif\" font-size=\"14.00\">gini = 0.097</text>\n<text text-anchor=\"middle\" x=\"692.5\" y=\"-37.8\" font-family=\"Helvetica,sans-Serif\" font-size=\"14.00\">samples = 334</text>\n<text text-anchor=\"middle\" x=\"692.5\" y=\"-22.8\" font-family=\"Helvetica,sans-Serif\" font-size=\"14.00\">value = [317, 17]</text>\n<text text-anchor=\"middle\" x=\"692.5\" y=\"-7.8\" font-family=\"Helvetica,sans-Serif\" font-size=\"14.00\">class = não</text>\n</g>\n<!-- 11&#45;&gt;12 -->\n<g id=\"edge12\" class=\"edge\">\n<title>11&#45;&gt;12</title>\n<path fill=\"none\" stroke=\"black\" d=\"M696.89,-103.73C696.36,-95.43 695.8,-86.67 695.27,-78.28\"/>\n<polygon fill=\"black\" stroke=\"black\" points=\"698.76,-78.06 694.63,-68.3 691.77,-78.5 698.76,-78.06\"/>\n</g>\n<!-- 13 -->\n<g id=\"node14\" class=\"node\">\n<title>13</title>\n<path fill=\"#e58139\" stroke=\"black\" d=\"M865,-68C865,-68 784,-68 784,-68 778,-68 772,-62 772,-56 772,-56 772,-12 772,-12 772,-6 778,0 784,0 784,0 865,0 865,0 871,0 877,-6 877,-12 877,-12 877,-56 877,-56 877,-62 871,-68 865,-68\"/>\n<text text-anchor=\"middle\" x=\"824.5\" y=\"-52.8\" font-family=\"Helvetica,sans-Serif\" font-size=\"14.00\">gini = 0.0</text>\n<text text-anchor=\"middle\" x=\"824.5\" y=\"-37.8\" font-family=\"Helvetica,sans-Serif\" font-size=\"14.00\">samples = 29</text>\n<text text-anchor=\"middle\" x=\"824.5\" y=\"-22.8\" font-family=\"Helvetica,sans-Serif\" font-size=\"14.00\">value = [29, 0]</text>\n<text text-anchor=\"middle\" x=\"824.5\" y=\"-7.8\" font-family=\"Helvetica,sans-Serif\" font-size=\"14.00\">class = não</text>\n</g>\n<!-- 11&#45;&gt;13 -->\n<g id=\"edge13\" class=\"edge\">\n<title>11&#45;&gt;13</title>\n<path fill=\"none\" stroke=\"black\" d=\"M746.05,-103.73C756.77,-94.33 768.17,-84.35 778.85,-74.99\"/>\n<polygon fill=\"black\" stroke=\"black\" points=\"781.27,-77.52 786.49,-68.3 776.66,-72.26 781.27,-77.52\"/>\n</g>\n<!-- 16 -->\n<g id=\"node17\" class=\"node\">\n<title>16</title>\n<path fill=\"#f3c3a1\" stroke=\"black\" d=\"M1149,-306C1149,-306 964,-306 964,-306 958,-306 952,-300 952,-294 952,-294 952,-235 952,-235 952,-229 958,-223 964,-223 964,-223 1149,-223 1149,-223 1155,-223 1161,-229 1161,-235 1161,-235 1161,-294 1161,-294 1161,-300 1155,-306 1149,-306\"/>\n<text text-anchor=\"middle\" x=\"1056.5\" y=\"-290.8\" font-family=\"Helvetica,sans-Serif\" font-size=\"14.00\">nome_dia_semana_qui &lt;= 0.5</text>\n<text text-anchor=\"middle\" x=\"1056.5\" y=\"-275.8\" font-family=\"Helvetica,sans-Serif\" font-size=\"14.00\">gini = 0.451</text>\n<text text-anchor=\"middle\" x=\"1056.5\" y=\"-260.8\" font-family=\"Helvetica,sans-Serif\" font-size=\"14.00\">samples = 61</text>\n<text text-anchor=\"middle\" x=\"1056.5\" y=\"-245.8\" font-family=\"Helvetica,sans-Serif\" font-size=\"14.00\">value = [40, 21]</text>\n<text text-anchor=\"middle\" x=\"1056.5\" y=\"-230.8\" font-family=\"Helvetica,sans-Serif\" font-size=\"14.00\">class = não</text>\n</g>\n<!-- 15&#45;&gt;16 -->\n<g id=\"edge16\" class=\"edge\">\n<title>15&#45;&gt;16</title>\n<path fill=\"none\" stroke=\"black\" d=\"M1079.36,-341.91C1076.83,-333.47 1074.14,-324.48 1071.53,-315.74\"/>\n<polygon fill=\"black\" stroke=\"black\" points=\"1074.84,-314.6 1068.62,-306.02 1068.13,-316.6 1074.84,-314.6\"/>\n</g>\n<!-- 21 -->\n<g id=\"node22\" class=\"node\">\n<title>21</title>\n<path fill=\"#e6843d\" stroke=\"black\" d=\"M1289.5,-298.5C1289.5,-298.5 1191.5,-298.5 1191.5,-298.5 1185.5,-298.5 1179.5,-292.5 1179.5,-286.5 1179.5,-286.5 1179.5,-242.5 1179.5,-242.5 1179.5,-236.5 1185.5,-230.5 1191.5,-230.5 1191.5,-230.5 1289.5,-230.5 1289.5,-230.5 1295.5,-230.5 1301.5,-236.5 1301.5,-242.5 1301.5,-242.5 1301.5,-286.5 1301.5,-286.5 1301.5,-292.5 1295.5,-298.5 1289.5,-298.5\"/>\n<text text-anchor=\"middle\" x=\"1240.5\" y=\"-283.3\" font-family=\"Helvetica,sans-Serif\" font-size=\"14.00\">gini = 0.04</text>\n<text text-anchor=\"middle\" x=\"1240.5\" y=\"-268.3\" font-family=\"Helvetica,sans-Serif\" font-size=\"14.00\">samples = 741</text>\n<text text-anchor=\"middle\" x=\"1240.5\" y=\"-253.3\" font-family=\"Helvetica,sans-Serif\" font-size=\"14.00\">value = [726, 15]</text>\n<text text-anchor=\"middle\" x=\"1240.5\" y=\"-238.3\" font-family=\"Helvetica,sans-Serif\" font-size=\"14.00\">class = não</text>\n</g>\n<!-- 15&#45;&gt;21 -->\n<g id=\"edge21\" class=\"edge\">\n<title>15&#45;&gt;21</title>\n<path fill=\"none\" stroke=\"black\" d=\"M1143.19,-341.91C1158.37,-329.99 1174.95,-316.98 1190.04,-305.12\"/>\n<polygon fill=\"black\" stroke=\"black\" points=\"1192.56,-307.6 1198.26,-298.67 1188.24,-302.09 1192.56,-307.6\"/>\n</g>\n<!-- 17 -->\n<g id=\"node18\" class=\"node\">\n<title>17</title>\n<path fill=\"#9ccef2\" stroke=\"black\" d=\"M1151,-187C1151,-187 962,-187 962,-187 956,-187 950,-181 950,-175 950,-175 950,-116 950,-116 950,-110 956,-104 962,-104 962,-104 1151,-104 1151,-104 1157,-104 1163,-110 1163,-116 1163,-116 1163,-175 1163,-175 1163,-181 1157,-187 1151,-187\"/>\n<text text-anchor=\"middle\" x=\"1056.5\" y=\"-171.8\" font-family=\"Helvetica,sans-Serif\" font-size=\"14.00\">nome_dia_semana_sex &lt;= 0.5</text>\n<text text-anchor=\"middle\" x=\"1056.5\" y=\"-156.8\" font-family=\"Helvetica,sans-Serif\" font-size=\"14.00\">gini = 0.444</text>\n<text text-anchor=\"middle\" x=\"1056.5\" y=\"-141.8\" font-family=\"Helvetica,sans-Serif\" font-size=\"14.00\">samples = 9</text>\n<text text-anchor=\"middle\" x=\"1056.5\" y=\"-126.8\" font-family=\"Helvetica,sans-Serif\" font-size=\"14.00\">value = [3, 6]</text>\n<text text-anchor=\"middle\" x=\"1056.5\" y=\"-111.8\" font-family=\"Helvetica,sans-Serif\" font-size=\"14.00\">class = sim</text>\n</g>\n<!-- 16&#45;&gt;17 -->\n<g id=\"edge17\" class=\"edge\">\n<title>16&#45;&gt;17</title>\n<path fill=\"none\" stroke=\"black\" d=\"M1056.5,-222.91C1056.5,-214.65 1056.5,-205.86 1056.5,-197.3\"/>\n<polygon fill=\"black\" stroke=\"black\" points=\"1060,-197.02 1056.5,-187.02 1053,-197.02 1060,-197.02\"/>\n</g>\n<!-- 20 -->\n<g id=\"node21\" class=\"node\">\n<title>20</title>\n<path fill=\"#f0b489\" stroke=\"black\" d=\"M1282,-179.5C1282,-179.5 1193,-179.5 1193,-179.5 1187,-179.5 1181,-173.5 1181,-167.5 1181,-167.5 1181,-123.5 1181,-123.5 1181,-117.5 1187,-111.5 1193,-111.5 1193,-111.5 1282,-111.5 1282,-111.5 1288,-111.5 1294,-117.5 1294,-123.5 1294,-123.5 1294,-167.5 1294,-167.5 1294,-173.5 1288,-179.5 1282,-179.5\"/>\n<text text-anchor=\"middle\" x=\"1237.5\" y=\"-164.3\" font-family=\"Helvetica,sans-Serif\" font-size=\"14.00\">gini = 0.411</text>\n<text text-anchor=\"middle\" x=\"1237.5\" y=\"-149.3\" font-family=\"Helvetica,sans-Serif\" font-size=\"14.00\">samples = 52</text>\n<text text-anchor=\"middle\" x=\"1237.5\" y=\"-134.3\" font-family=\"Helvetica,sans-Serif\" font-size=\"14.00\">value = [37, 15]</text>\n<text text-anchor=\"middle\" x=\"1237.5\" y=\"-119.3\" font-family=\"Helvetica,sans-Serif\" font-size=\"14.00\">class = não</text>\n</g>\n<!-- 16&#45;&gt;20 -->\n<g id=\"edge20\" class=\"edge\">\n<title>16&#45;&gt;20</title>\n<path fill=\"none\" stroke=\"black\" d=\"M1119.3,-222.91C1138.25,-210.66 1158.99,-197.25 1177.73,-185.13\"/>\n<polygon fill=\"black\" stroke=\"black\" points=\"1179.69,-188.04 1186.19,-179.67 1175.89,-182.16 1179.69,-188.04\"/>\n</g>\n<!-- 18 -->\n<g id=\"node19\" class=\"node\">\n<title>18</title>\n<path fill=\"#399de5\" stroke=\"black\" d=\"M1040,-68C1040,-68 967,-68 967,-68 961,-68 955,-62 955,-56 955,-56 955,-12 955,-12 955,-6 961,0 967,0 967,0 1040,0 1040,0 1046,0 1052,-6 1052,-12 1052,-12 1052,-56 1052,-56 1052,-62 1046,-68 1040,-68\"/>\n<text text-anchor=\"middle\" x=\"1003.5\" y=\"-52.8\" font-family=\"Helvetica,sans-Serif\" font-size=\"14.00\">gini = 0.0</text>\n<text text-anchor=\"middle\" x=\"1003.5\" y=\"-37.8\" font-family=\"Helvetica,sans-Serif\" font-size=\"14.00\">samples = 1</text>\n<text text-anchor=\"middle\" x=\"1003.5\" y=\"-22.8\" font-family=\"Helvetica,sans-Serif\" font-size=\"14.00\">value = [0, 1]</text>\n<text text-anchor=\"middle\" x=\"1003.5\" y=\"-7.8\" font-family=\"Helvetica,sans-Serif\" font-size=\"14.00\">class = sim</text>\n</g>\n<!-- 17&#45;&gt;18 -->\n<g id=\"edge18\" class=\"edge\">\n<title>17&#45;&gt;18</title>\n<path fill=\"none\" stroke=\"black\" d=\"M1036.76,-103.73C1032.61,-95.15 1028.23,-86.09 1024.05,-77.46\"/>\n<polygon fill=\"black\" stroke=\"black\" points=\"1027.12,-75.78 1019.62,-68.3 1020.82,-78.83 1027.12,-75.78\"/>\n</g>\n<!-- 19 -->\n<g id=\"node20\" class=\"node\">\n<title>19</title>\n<path fill=\"#b0d8f5\" stroke=\"black\" d=\"M1155,-68C1155,-68 1082,-68 1082,-68 1076,-68 1070,-62 1070,-56 1070,-56 1070,-12 1070,-12 1070,-6 1076,0 1082,0 1082,0 1155,0 1155,0 1161,0 1167,-6 1167,-12 1167,-12 1167,-56 1167,-56 1167,-62 1161,-68 1155,-68\"/>\n<text text-anchor=\"middle\" x=\"1118.5\" y=\"-52.8\" font-family=\"Helvetica,sans-Serif\" font-size=\"14.00\">gini = 0.469</text>\n<text text-anchor=\"middle\" x=\"1118.5\" y=\"-37.8\" font-family=\"Helvetica,sans-Serif\" font-size=\"14.00\">samples = 8</text>\n<text text-anchor=\"middle\" x=\"1118.5\" y=\"-22.8\" font-family=\"Helvetica,sans-Serif\" font-size=\"14.00\">value = [3, 5]</text>\n<text text-anchor=\"middle\" x=\"1118.5\" y=\"-7.8\" font-family=\"Helvetica,sans-Serif\" font-size=\"14.00\">class = sim</text>\n</g>\n<!-- 17&#45;&gt;19 -->\n<g id=\"edge19\" class=\"edge\">\n<title>17&#45;&gt;19</title>\n<path fill=\"none\" stroke=\"black\" d=\"M1079.59,-103.73C1084.49,-95.06 1089.68,-85.9 1094.62,-77.18\"/>\n<polygon fill=\"black\" stroke=\"black\" points=\"1097.76,-78.73 1099.65,-68.3 1091.67,-75.28 1097.76,-78.73\"/>\n</g>\n<!-- 23 -->\n<g id=\"node24\" class=\"node\">\n<title>23</title>\n<path fill=\"#e68844\" stroke=\"black\" d=\"M1519,-425C1519,-425 1328,-425 1328,-425 1322,-425 1316,-419 1316,-413 1316,-413 1316,-354 1316,-354 1316,-348 1322,-342 1328,-342 1328,-342 1519,-342 1519,-342 1525,-342 1531,-348 1531,-354 1531,-354 1531,-413 1531,-413 1531,-419 1525,-425 1519,-425\"/>\n<text text-anchor=\"middle\" x=\"1423.5\" y=\"-409.8\" font-family=\"Helvetica,sans-Serif\" font-size=\"14.00\">nome_dia_semana_seg &lt;= 0.5</text>\n<text text-anchor=\"middle\" x=\"1423.5\" y=\"-394.8\" font-family=\"Helvetica,sans-Serif\" font-size=\"14.00\">gini = 0.097</text>\n<text text-anchor=\"middle\" x=\"1423.5\" y=\"-379.8\" font-family=\"Helvetica,sans-Serif\" font-size=\"14.00\">samples = 412</text>\n<text text-anchor=\"middle\" x=\"1423.5\" y=\"-364.8\" font-family=\"Helvetica,sans-Serif\" font-size=\"14.00\">value = [391, 21]</text>\n<text text-anchor=\"middle\" x=\"1423.5\" y=\"-349.8\" font-family=\"Helvetica,sans-Serif\" font-size=\"14.00\">class = não</text>\n</g>\n<!-- 22&#45;&gt;23 -->\n<g id=\"edge23\" class=\"edge\">\n<title>22&#45;&gt;23</title>\n<path fill=\"none\" stroke=\"black\" d=\"M1423.5,-460.91C1423.5,-452.65 1423.5,-443.86 1423.5,-435.3\"/>\n<polygon fill=\"black\" stroke=\"black\" points=\"1427,-435.02 1423.5,-425.02 1420,-435.02 1427,-435.02\"/>\n</g>\n<!-- 30 -->\n<g id=\"node31\" class=\"node\">\n<title>30</title>\n<path fill=\"#eca16b\" stroke=\"black\" d=\"M1650,-417.5C1650,-417.5 1561,-417.5 1561,-417.5 1555,-417.5 1549,-411.5 1549,-405.5 1549,-405.5 1549,-361.5 1549,-361.5 1549,-355.5 1555,-349.5 1561,-349.5 1561,-349.5 1650,-349.5 1650,-349.5 1656,-349.5 1662,-355.5 1662,-361.5 1662,-361.5 1662,-405.5 1662,-405.5 1662,-411.5 1656,-417.5 1650,-417.5\"/>\n<text text-anchor=\"middle\" x=\"1605.5\" y=\"-402.3\" font-family=\"Helvetica,sans-Serif\" font-size=\"14.00\">gini = 0.322</text>\n<text text-anchor=\"middle\" x=\"1605.5\" y=\"-387.3\" font-family=\"Helvetica,sans-Serif\" font-size=\"14.00\">samples = 124</text>\n<text text-anchor=\"middle\" x=\"1605.5\" y=\"-372.3\" font-family=\"Helvetica,sans-Serif\" font-size=\"14.00\">value = [99, 25]</text>\n<text text-anchor=\"middle\" x=\"1605.5\" y=\"-357.3\" font-family=\"Helvetica,sans-Serif\" font-size=\"14.00\">class = não</text>\n</g>\n<!-- 22&#45;&gt;30 -->\n<g id=\"edge30\" class=\"edge\">\n<title>22&#45;&gt;30</title>\n<path fill=\"none\" stroke=\"black\" d=\"M1486.64,-460.91C1505.7,-448.66 1526.55,-435.25 1545.4,-423.13\"/>\n<polygon fill=\"black\" stroke=\"black\" points=\"1547.39,-426.02 1553.91,-417.67 1543.6,-420.13 1547.39,-426.02\"/>\n</g>\n<!-- 24 -->\n<g id=\"node25\" class=\"node\">\n<title>24</title>\n<path fill=\"#e6853f\" stroke=\"black\" d=\"M1515,-306C1515,-306 1332,-306 1332,-306 1326,-306 1320,-300 1320,-294 1320,-294 1320,-235 1320,-235 1320,-229 1326,-223 1332,-223 1332,-223 1515,-223 1515,-223 1521,-223 1527,-229 1527,-235 1527,-235 1527,-294 1527,-294 1527,-300 1521,-306 1515,-306\"/>\n<text text-anchor=\"middle\" x=\"1423.5\" y=\"-290.8\" font-family=\"Helvetica,sans-Serif\" font-size=\"14.00\">nome_dia_semana_ter &lt;= 0.5</text>\n<text text-anchor=\"middle\" x=\"1423.5\" y=\"-275.8\" font-family=\"Helvetica,sans-Serif\" font-size=\"14.00\">gini = 0.054</text>\n<text text-anchor=\"middle\" x=\"1423.5\" y=\"-260.8\" font-family=\"Helvetica,sans-Serif\" font-size=\"14.00\">samples = 287</text>\n<text text-anchor=\"middle\" x=\"1423.5\" y=\"-245.8\" font-family=\"Helvetica,sans-Serif\" font-size=\"14.00\">value = [279, 8]</text>\n<text text-anchor=\"middle\" x=\"1423.5\" y=\"-230.8\" font-family=\"Helvetica,sans-Serif\" font-size=\"14.00\">class = não</text>\n</g>\n<!-- 23&#45;&gt;24 -->\n<g id=\"edge24\" class=\"edge\">\n<title>23&#45;&gt;24</title>\n<path fill=\"none\" stroke=\"black\" d=\"M1423.5,-341.91C1423.5,-333.65 1423.5,-324.86 1423.5,-316.3\"/>\n<polygon fill=\"black\" stroke=\"black\" points=\"1427,-316.02 1423.5,-306.02 1420,-316.02 1427,-316.02\"/>\n</g>\n<!-- 29 -->\n<g id=\"node30\" class=\"node\">\n<title>29</title>\n<path fill=\"#e89050\" stroke=\"black\" d=\"M1655.5,-298.5C1655.5,-298.5 1557.5,-298.5 1557.5,-298.5 1551.5,-298.5 1545.5,-292.5 1545.5,-286.5 1545.5,-286.5 1545.5,-242.5 1545.5,-242.5 1545.5,-236.5 1551.5,-230.5 1557.5,-230.5 1557.5,-230.5 1655.5,-230.5 1655.5,-230.5 1661.5,-230.5 1667.5,-236.5 1667.5,-242.5 1667.5,-242.5 1667.5,-286.5 1667.5,-286.5 1667.5,-292.5 1661.5,-298.5 1655.5,-298.5\"/>\n<text text-anchor=\"middle\" x=\"1606.5\" y=\"-283.3\" font-family=\"Helvetica,sans-Serif\" font-size=\"14.00\">gini = 0.186</text>\n<text text-anchor=\"middle\" x=\"1606.5\" y=\"-268.3\" font-family=\"Helvetica,sans-Serif\" font-size=\"14.00\">samples = 125</text>\n<text text-anchor=\"middle\" x=\"1606.5\" y=\"-253.3\" font-family=\"Helvetica,sans-Serif\" font-size=\"14.00\">value = [112, 13]</text>\n<text text-anchor=\"middle\" x=\"1606.5\" y=\"-238.3\" font-family=\"Helvetica,sans-Serif\" font-size=\"14.00\">class = não</text>\n</g>\n<!-- 23&#45;&gt;29 -->\n<g id=\"edge29\" class=\"edge\">\n<title>23&#45;&gt;29</title>\n<path fill=\"none\" stroke=\"black\" d=\"M1486.99,-341.91C1506.15,-329.66 1527.12,-316.25 1546.07,-304.13\"/>\n<polygon fill=\"black\" stroke=\"black\" points=\"1548.08,-307 1554.62,-298.67 1544.31,-301.1 1548.08,-307\"/>\n</g>\n<!-- 25 -->\n<g id=\"node26\" class=\"node\">\n<title>25</title>\n<path fill=\"#e68641\" stroke=\"black\" d=\"M1516.5,-187C1516.5,-187 1326.5,-187 1326.5,-187 1320.5,-187 1314.5,-181 1314.5,-175 1314.5,-175 1314.5,-116 1314.5,-116 1314.5,-110 1320.5,-104 1326.5,-104 1326.5,-104 1516.5,-104 1516.5,-104 1522.5,-104 1528.5,-110 1528.5,-116 1528.5,-116 1528.5,-175 1528.5,-175 1528.5,-181 1522.5,-187 1516.5,-187\"/>\n<text text-anchor=\"middle\" x=\"1421.5\" y=\"-171.8\" font-family=\"Helvetica,sans-Serif\" font-size=\"14.00\">nome_dia_semana_sab &lt;= 0.5</text>\n<text text-anchor=\"middle\" x=\"1421.5\" y=\"-156.8\" font-family=\"Helvetica,sans-Serif\" font-size=\"14.00\">gini = 0.072</text>\n<text text-anchor=\"middle\" x=\"1421.5\" y=\"-141.8\" font-family=\"Helvetica,sans-Serif\" font-size=\"14.00\">samples = 215</text>\n<text text-anchor=\"middle\" x=\"1421.5\" y=\"-126.8\" font-family=\"Helvetica,sans-Serif\" font-size=\"14.00\">value = [207, 8]</text>\n<text text-anchor=\"middle\" x=\"1421.5\" y=\"-111.8\" font-family=\"Helvetica,sans-Serif\" font-size=\"14.00\">class = não</text>\n</g>\n<!-- 24&#45;&gt;25 -->\n<g id=\"edge25\" class=\"edge\">\n<title>24&#45;&gt;25</title>\n<path fill=\"none\" stroke=\"black\" d=\"M1422.81,-222.91C1422.66,-214.56 1422.51,-205.67 1422.36,-197.02\"/>\n<polygon fill=\"black\" stroke=\"black\" points=\"1425.86,-196.96 1422.19,-187.02 1418.86,-197.08 1425.86,-196.96\"/>\n</g>\n<!-- 28 -->\n<g id=\"node29\" class=\"node\">\n<title>28</title>\n<path fill=\"#e58139\" stroke=\"black\" d=\"M1640,-179.5C1640,-179.5 1559,-179.5 1559,-179.5 1553,-179.5 1547,-173.5 1547,-167.5 1547,-167.5 1547,-123.5 1547,-123.5 1547,-117.5 1553,-111.5 1559,-111.5 1559,-111.5 1640,-111.5 1640,-111.5 1646,-111.5 1652,-117.5 1652,-123.5 1652,-123.5 1652,-167.5 1652,-167.5 1652,-173.5 1646,-179.5 1640,-179.5\"/>\n<text text-anchor=\"middle\" x=\"1599.5\" y=\"-164.3\" font-family=\"Helvetica,sans-Serif\" font-size=\"14.00\">gini = 0.0</text>\n<text text-anchor=\"middle\" x=\"1599.5\" y=\"-149.3\" font-family=\"Helvetica,sans-Serif\" font-size=\"14.00\">samples = 72</text>\n<text text-anchor=\"middle\" x=\"1599.5\" y=\"-134.3\" font-family=\"Helvetica,sans-Serif\" font-size=\"14.00\">value = [72, 0]</text>\n<text text-anchor=\"middle\" x=\"1599.5\" y=\"-119.3\" font-family=\"Helvetica,sans-Serif\" font-size=\"14.00\">class = não</text>\n</g>\n<!-- 24&#45;&gt;28 -->\n<g id=\"edge28\" class=\"edge\">\n<title>24&#45;&gt;28</title>\n<path fill=\"none\" stroke=\"black\" d=\"M1484.56,-222.91C1502.82,-210.77 1522.79,-197.49 1540.89,-185.46\"/>\n<polygon fill=\"black\" stroke=\"black\" points=\"1543.22,-188.12 1549.61,-179.67 1539.34,-182.29 1543.22,-188.12\"/>\n</g>\n<!-- 26 -->\n<g id=\"node27\" class=\"node\">\n<title>26</title>\n<path fill=\"#e68742\" stroke=\"black\" d=\"M1402,-68C1402,-68 1313,-68 1313,-68 1307,-68 1301,-62 1301,-56 1301,-56 1301,-12 1301,-12 1301,-6 1307,0 1313,0 1313,0 1402,0 1402,0 1408,0 1414,-6 1414,-12 1414,-12 1414,-56 1414,-56 1414,-62 1408,-68 1402,-68\"/>\n<text text-anchor=\"middle\" x=\"1357.5\" y=\"-52.8\" font-family=\"Helvetica,sans-Serif\" font-size=\"14.00\">gini = 0.084</text>\n<text text-anchor=\"middle\" x=\"1357.5\" y=\"-37.8\" font-family=\"Helvetica,sans-Serif\" font-size=\"14.00\">samples = 181</text>\n<text text-anchor=\"middle\" x=\"1357.5\" y=\"-22.8\" font-family=\"Helvetica,sans-Serif\" font-size=\"14.00\">value = [173, 8]</text>\n<text text-anchor=\"middle\" x=\"1357.5\" y=\"-7.8\" font-family=\"Helvetica,sans-Serif\" font-size=\"14.00\">class = não</text>\n</g>\n<!-- 25&#45;&gt;26 -->\n<g id=\"edge26\" class=\"edge\">\n<title>25&#45;&gt;26</title>\n<path fill=\"none\" stroke=\"black\" d=\"M1397.67,-103.73C1392.6,-95.06 1387.25,-85.9 1382.15,-77.18\"/>\n<polygon fill=\"black\" stroke=\"black\" points=\"1385.03,-75.17 1376.96,-68.3 1378.99,-78.7 1385.03,-75.17\"/>\n</g>\n<!-- 27 -->\n<g id=\"node28\" class=\"node\">\n<title>27</title>\n<path fill=\"#e58139\" stroke=\"black\" d=\"M1525,-68C1525,-68 1444,-68 1444,-68 1438,-68 1432,-62 1432,-56 1432,-56 1432,-12 1432,-12 1432,-6 1438,0 1444,0 1444,0 1525,0 1525,0 1531,0 1537,-6 1537,-12 1537,-12 1537,-56 1537,-56 1537,-62 1531,-68 1525,-68\"/>\n<text text-anchor=\"middle\" x=\"1484.5\" y=\"-52.8\" font-family=\"Helvetica,sans-Serif\" font-size=\"14.00\">gini = 0.0</text>\n<text text-anchor=\"middle\" x=\"1484.5\" y=\"-37.8\" font-family=\"Helvetica,sans-Serif\" font-size=\"14.00\">samples = 34</text>\n<text text-anchor=\"middle\" x=\"1484.5\" y=\"-22.8\" font-family=\"Helvetica,sans-Serif\" font-size=\"14.00\">value = [34, 0]</text>\n<text text-anchor=\"middle\" x=\"1484.5\" y=\"-7.8\" font-family=\"Helvetica,sans-Serif\" font-size=\"14.00\">class = não</text>\n</g>\n<!-- 25&#45;&gt;27 -->\n<g id=\"edge27\" class=\"edge\">\n<title>25&#45;&gt;27</title>\n<path fill=\"none\" stroke=\"black\" d=\"M1444.96,-103.73C1449.94,-95.06 1455.22,-85.9 1460.23,-77.18\"/>\n<polygon fill=\"black\" stroke=\"black\" points=\"1463.39,-78.71 1465.34,-68.3 1457.32,-75.22 1463.39,-78.71\"/>\n</g>\n</g>\n</svg>\n",
      "text/plain": [
       "<graphviz.sources.Source at 0x1be0e95a6e0>"
      ]
     },
     "execution_count": 195,
     "metadata": {},
     "output_type": "execute_result"
    }
   ],
   "source": [
    "features = x_dummies.columns\n",
    "\n",
    "dados_grafico = export_graphviz(modelo_arvore,\n",
    "                                out_file=None,\n",
    "                                filled=True,\n",
    "                                rounded=True,\n",
    "                                feature_names=features,\n",
    "                                class_names=['não','sim']\n",
    "                                )\n",
    "\n",
    "grafico = graphviz.Source(dados_grafico)\n",
    "grafico"
   ]
  },
  {
   "cell_type": "markdown",
   "metadata": {},
   "source": [
    "### Testando em 1 registro"
   ]
  }
 ],
 "metadata": {
  "interpreter": {
   "hash": "8d3e54fe3ce154e32ac346abb9a52721706f8b6192d2a6d9e7d1f2a1d569502c"
  },
  "kernelspec": {
   "display_name": "Python 3.10.4 64-bit",
   "language": "python",
   "name": "python3"
  },
  "language_info": {
   "codemirror_mode": {
    "name": "ipython",
    "version": 3
   },
   "file_extension": ".py",
   "mimetype": "text/x-python",
   "name": "python",
   "nbconvert_exporter": "python",
   "pygments_lexer": "ipython3",
   "version": "3.10.4"
  },
  "orig_nbformat": 4
 },
 "nbformat": 4,
 "nbformat_minor": 2
}
