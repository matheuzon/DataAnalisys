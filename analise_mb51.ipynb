{
 "cells": [
  {
   "cell_type": "code",
   "execution_count": 1,
   "metadata": {},
   "outputs": [],
   "source": [
    "import pandas as pd"
   ]
  },
  {
   "cell_type": "code",
   "execution_count": 6,
   "metadata": {},
   "outputs": [],
   "source": [
    "dados_mb51 = pd.read_excel('dados/mb51_analise_movimentos_1.xlsx', dtype={'Doc.material':'string', 'Ordem':'string'})"
   ]
  },
  {
   "cell_type": "code",
   "execution_count": 7,
   "metadata": {},
   "outputs": [
    {
     "data": {
      "text/html": [
       "<div>\n",
       "<style scoped>\n",
       "    .dataframe tbody tr th:only-of-type {\n",
       "        vertical-align: middle;\n",
       "    }\n",
       "\n",
       "    .dataframe tbody tr th {\n",
       "        vertical-align: top;\n",
       "    }\n",
       "\n",
       "    .dataframe thead th {\n",
       "        text-align: right;\n",
       "    }\n",
       "</style>\n",
       "<table border=\"1\" class=\"dataframe\">\n",
       "  <thead>\n",
       "    <tr style=\"text-align: right;\">\n",
       "      <th></th>\n",
       "      <th>Material</th>\n",
       "      <th>Centro</th>\n",
       "      <th>Depósito</th>\n",
       "      <th>Tipo de movimento</th>\n",
       "      <th>Estoque especial</th>\n",
       "      <th>Doc.material</th>\n",
       "      <th>Item doc.material</th>\n",
       "      <th>Data de lançamento</th>\n",
       "      <th>Hora do registro</th>\n",
       "      <th>Qtd.  UM registro</th>\n",
       "      <th>UM registro</th>\n",
       "      <th>Referência</th>\n",
       "      <th>Ordem</th>\n",
       "      <th>Lote</th>\n",
       "      <th>Nome do usuário</th>\n",
       "      <th>Texto breve material</th>\n",
       "    </tr>\n",
       "  </thead>\n",
       "  <tbody>\n",
       "    <tr>\n",
       "      <th>0</th>\n",
       "      <td>SE0024</td>\n",
       "      <td>P703</td>\n",
       "      <td>SA1</td>\n",
       "      <td>261.0</td>\n",
       "      <td>NaN</td>\n",
       "      <td>4902515519</td>\n",
       "      <td>1.0</td>\n",
       "      <td>2022-06-01</td>\n",
       "      <td>10:34:08</td>\n",
       "      <td>-150.400</td>\n",
       "      <td>KG</td>\n",
       "      <td>LOP3100000115134</td>\n",
       "      <td>1000026826</td>\n",
       "      <td>0000338218</td>\n",
       "      <td>SP3EMBA01</td>\n",
       "      <td>PELICULA DE PLASTICO ST 500X0,025MM</td>\n",
       "    </tr>\n",
       "    <tr>\n",
       "      <th>1</th>\n",
       "      <td>SZ0357</td>\n",
       "      <td>P703</td>\n",
       "      <td>SA1</td>\n",
       "      <td>261.0</td>\n",
       "      <td>NaN</td>\n",
       "      <td>4902515180</td>\n",
       "      <td>1.0</td>\n",
       "      <td>2022-06-01</td>\n",
       "      <td>10:14:02</td>\n",
       "      <td>-192.360</td>\n",
       "      <td>KG</td>\n",
       "      <td>LOP3100000115124</td>\n",
       "      <td>1000026796</td>\n",
       "      <td>515736</td>\n",
       "      <td>SP3EMBA01</td>\n",
       "      <td>PELICULA DE PLASTICO ST 500X0,025MM</td>\n",
       "    </tr>\n",
       "    <tr>\n",
       "      <th>2</th>\n",
       "      <td>SE0024</td>\n",
       "      <td>P703</td>\n",
       "      <td>SA1</td>\n",
       "      <td>261.0</td>\n",
       "      <td>NaN</td>\n",
       "      <td>4902515167</td>\n",
       "      <td>2.0</td>\n",
       "      <td>2022-06-01</td>\n",
       "      <td>10:13:37</td>\n",
       "      <td>-221.710</td>\n",
       "      <td>KG</td>\n",
       "      <td>LOP3100000115122</td>\n",
       "      <td>1000029172</td>\n",
       "      <td>0000120492</td>\n",
       "      <td>SP3EMBA02</td>\n",
       "      <td>PELICULA DE PLASTICO ST 500X0,025MM</td>\n",
       "    </tr>\n",
       "    <tr>\n",
       "      <th>3</th>\n",
       "      <td>SE0024</td>\n",
       "      <td>P703</td>\n",
       "      <td>SA1</td>\n",
       "      <td>261.0</td>\n",
       "      <td>NaN</td>\n",
       "      <td>4902515167</td>\n",
       "      <td>1.0</td>\n",
       "      <td>2022-06-01</td>\n",
       "      <td>10:13:37</td>\n",
       "      <td>-105.290</td>\n",
       "      <td>KG</td>\n",
       "      <td>LOP3100000115122</td>\n",
       "      <td>1000029172</td>\n",
       "      <td>0000336925</td>\n",
       "      <td>SP3EMBA02</td>\n",
       "      <td>PELICULA DE PLASTICO ST 500X0,025MM</td>\n",
       "    </tr>\n",
       "    <tr>\n",
       "      <th>4</th>\n",
       "      <td>SZ0357</td>\n",
       "      <td>P703</td>\n",
       "      <td>SA1</td>\n",
       "      <td>261.0</td>\n",
       "      <td>NaN</td>\n",
       "      <td>4902514907</td>\n",
       "      <td>3.0</td>\n",
       "      <td>2022-06-01</td>\n",
       "      <td>09:55:56</td>\n",
       "      <td>-82.368</td>\n",
       "      <td>KG</td>\n",
       "      <td>LOP3100000115204</td>\n",
       "      <td>1000022645</td>\n",
       "      <td>515736</td>\n",
       "      <td>SP3EMBA01</td>\n",
       "      <td>PELICULA DE PLASTICO ST 500X0,025MM</td>\n",
       "    </tr>\n",
       "  </tbody>\n",
       "</table>\n",
       "</div>"
      ],
      "text/plain": [
       "  Material Centro Depósito  Tipo de movimento  Estoque especial Doc.material  \\\n",
       "0   SE0024   P703      SA1              261.0               NaN   4902515519   \n",
       "1   SZ0357   P703      SA1              261.0               NaN   4902515180   \n",
       "2   SE0024   P703      SA1              261.0               NaN   4902515167   \n",
       "3   SE0024   P703      SA1              261.0               NaN   4902515167   \n",
       "4   SZ0357   P703      SA1              261.0               NaN   4902514907   \n",
       "\n",
       "   Item doc.material Data de lançamento Hora do registro  Qtd.  UM registro  \\\n",
       "0                1.0         2022-06-01         10:34:08           -150.400   \n",
       "1                1.0         2022-06-01         10:14:02           -192.360   \n",
       "2                2.0         2022-06-01         10:13:37           -221.710   \n",
       "3                1.0         2022-06-01         10:13:37           -105.290   \n",
       "4                3.0         2022-06-01         09:55:56            -82.368   \n",
       "\n",
       "  UM registro        Referência       Ordem        Lote Nome do usuário  \\\n",
       "0          KG  LOP3100000115134  1000026826  0000338218       SP3EMBA01   \n",
       "1          KG  LOP3100000115124  1000026796      515736       SP3EMBA01   \n",
       "2          KG  LOP3100000115122  1000029172  0000120492       SP3EMBA02   \n",
       "3          KG  LOP3100000115122  1000029172  0000336925       SP3EMBA02   \n",
       "4          KG  LOP3100000115204  1000022645      515736       SP3EMBA01   \n",
       "\n",
       "                  Texto breve material  \n",
       "0  PELICULA DE PLASTICO ST 500X0,025MM  \n",
       "1  PELICULA DE PLASTICO ST 500X0,025MM  \n",
       "2  PELICULA DE PLASTICO ST 500X0,025MM  \n",
       "3  PELICULA DE PLASTICO ST 500X0,025MM  \n",
       "4  PELICULA DE PLASTICO ST 500X0,025MM  "
      ]
     },
     "execution_count": 7,
     "metadata": {},
     "output_type": "execute_result"
    }
   ],
   "source": [
    "dados_mb51.head()"
   ]
  },
  {
   "cell_type": "code",
   "execution_count": 35,
   "metadata": {},
   "outputs": [],
   "source": [
    "dados_mb51.dropna(subset=['Material'], inplace=True)"
   ]
  },
  {
   "cell_type": "code",
   "execution_count": 22,
   "metadata": {},
   "outputs": [
    {
     "data": {
      "text/plain": [
       "Index(['Material', 'Centro', 'Depósito', 'Tipo de movimento',\n",
       "       'Estoque especial', 'Doc.material', 'Item doc.material',\n",
       "       'Data de lançamento', 'Hora do registro', 'Qtd.  UM registro',\n",
       "       'UM registro', 'Referência', 'Ordem', 'Lote', 'Nome do usuário',\n",
       "       'Texto breve material'],\n",
       "      dtype='object')"
      ]
     },
     "execution_count": 22,
     "metadata": {},
     "output_type": "execute_result"
    }
   ],
   "source": [
    "dados_mb51.keys()"
   ]
  },
  {
   "cell_type": "code",
   "execution_count": 11,
   "metadata": {},
   "outputs": [
    {
     "name": "stdout",
     "output_type": "stream",
     "text": [
      "Itens:  ['SE0024' 'SZ0357' 'SA0192' 'SA0191' nan]\n",
      "Depósitos:  ['SA1' '005' nan]\n",
      "Movimentos:  [261. 411. 262. 601. 712. 343. 321. 101. 344. 325. 711. 602. 311. 350.\n",
      " 561.  nan]\n"
     ]
    }
   ],
   "source": [
    "lista_itens = dados_mb51['Material'].unique()\n",
    "print('Itens: ',lista_itens)\n",
    "lista_depositos = dados_mb51['Depósito'].unique()\n",
    "print('Depósitos: ',lista_depositos)\n",
    "lista_movimentos = dados_mb51['Tipo de movimento'].unique()\n",
    "print('Movimentos: ',lista_movimentos)\n"
   ]
  },
  {
   "cell_type": "code",
   "execution_count": 16,
   "metadata": {},
   "outputs": [
    {
     "data": {
      "text/plain": [
       "8601548.0"
      ]
     },
     "execution_count": 16,
     "metadata": {},
     "output_type": "execute_result"
    }
   ],
   "source": [
    "dados_mb51['Tipo de movimento'].sum()"
   ]
  },
  {
   "cell_type": "code",
   "execution_count": 36,
   "metadata": {},
   "outputs": [
    {
     "data": {
      "text/html": [
       "<div>\n",
       "<style scoped>\n",
       "    .dataframe tbody tr th:only-of-type {\n",
       "        vertical-align: middle;\n",
       "    }\n",
       "\n",
       "    .dataframe tbody tr th {\n",
       "        vertical-align: top;\n",
       "    }\n",
       "\n",
       "    .dataframe thead th {\n",
       "        text-align: right;\n",
       "    }\n",
       "</style>\n",
       "<table border=\"1\" class=\"dataframe\">\n",
       "  <thead>\n",
       "    <tr style=\"text-align: right;\">\n",
       "      <th></th>\n",
       "      <th>Material</th>\n",
       "      <th>Centro</th>\n",
       "      <th>Depósito</th>\n",
       "      <th>Tipo de movimento</th>\n",
       "      <th>Estoque especial</th>\n",
       "      <th>Doc.material</th>\n",
       "      <th>Item doc.material</th>\n",
       "      <th>Data de lançamento</th>\n",
       "      <th>Hora do registro</th>\n",
       "      <th>Qtd.  UM registro</th>\n",
       "      <th>UM registro</th>\n",
       "      <th>Referência</th>\n",
       "      <th>Ordem</th>\n",
       "      <th>Lote</th>\n",
       "      <th>Nome do usuário</th>\n",
       "      <th>Texto breve material</th>\n",
       "    </tr>\n",
       "  </thead>\n",
       "  <tbody>\n",
       "  </tbody>\n",
       "</table>\n",
       "</div>"
      ],
      "text/plain": [
       "Empty DataFrame\n",
       "Columns: [Material, Centro, Depósito, Tipo de movimento, Estoque especial, Doc.material, Item doc.material, Data de lançamento, Hora do registro, Qtd.  UM registro, UM registro, Referência, Ordem, Lote, Nome do usuário, Texto breve material]\n",
       "Index: []"
      ]
     },
     "execution_count": 36,
     "metadata": {},
     "output_type": "execute_result"
    }
   ],
   "source": [
    "dados_mb51.query('Material.isna()')\n"
   ]
  },
  {
   "cell_type": "code",
   "execution_count": 38,
   "metadata": {},
   "outputs": [
    {
     "name": "stdout",
     "output_type": "stream",
     "text": [
      "Qtd SE0024: 108522.683\n",
      "Qtd SZ0357: 110418.821\n",
      "Qtd SA0192: 169049.26\n",
      "Qtd SA0191: 144144.5\n"
     ]
    },
    {
     "ename": "TypeError",
     "evalue": "can only concatenate str (not \"float\") to str",
     "output_type": "error",
     "traceback": [
      "\u001b[1;31m---------------------------------------------------------------------------\u001b[0m",
      "\u001b[1;31mTypeError\u001b[0m                                 Traceback (most recent call last)",
      "\u001b[1;32mc:\\Users\\mathe\\OneDrive\\Dados\\estoque\\analise_mb51.ipynb Cell 9'\u001b[0m in \u001b[0;36m<cell line: 1>\u001b[1;34m()\u001b[0m\n\u001b[0;32m      <a href='vscode-notebook-cell:/c%3A/Users/mathe/OneDrive/Dados/estoque/analise_mb51.ipynb#ch0000005?line=0'>1</a>\u001b[0m \u001b[39mfor\u001b[39;00m i \u001b[39min\u001b[39;00m lista_itens:\n\u001b[1;32m----> <a href='vscode-notebook-cell:/c%3A/Users/mathe/OneDrive/Dados/estoque/analise_mb51.ipynb#ch0000005?line=1'>2</a>\u001b[0m     query \u001b[39m=\u001b[39m dados_mb51\u001b[39m.\u001b[39mquery(\u001b[39m'\u001b[39;49m\u001b[39mMaterial == \u001b[39;49m\u001b[39m\"\u001b[39;49m\u001b[39m'\u001b[39;49m\u001b[39m+\u001b[39;49mi\u001b[39m+\u001b[39m\u001b[39m'\u001b[39m\u001b[39m\"\u001b[39m\u001b[39m'\u001b[39m)[\u001b[39m'\u001b[39m\u001b[39mQtd.  UM registro\u001b[39m\u001b[39m'\u001b[39m]\u001b[39m.\u001b[39msum()\n\u001b[0;32m      <a href='vscode-notebook-cell:/c%3A/Users/mathe/OneDrive/Dados/estoque/analise_mb51.ipynb#ch0000005?line=2'>3</a>\u001b[0m     \u001b[39mprint\u001b[39m (\u001b[39m'\u001b[39m\u001b[39mQtd \u001b[39m\u001b[39m{}\u001b[39;00m\u001b[39m: \u001b[39m\u001b[39m{}\u001b[39;00m\u001b[39m'\u001b[39m\u001b[39m.\u001b[39mformat(i, query))\n",
      "\u001b[1;31mTypeError\u001b[0m: can only concatenate str (not \"float\") to str"
     ]
    }
   ],
   "source": [
    "for i in lista_itens:\n",
    "    query = dados_mb51.query('Material == \"'+i+'\"')['Qtd.  UM registro'].sum()\n",
    "    print ('Qtd {}: {}'.format(i, query))"
   ]
  },
  {
   "cell_type": "code",
   "execution_count": null,
   "metadata": {},
   "outputs": [],
   "source": []
  }
 ],
 "metadata": {
  "interpreter": {
   "hash": "000cace1860b72f1320ef199b385623fa2285ee040878930bd17a8beed01ff65"
  },
  "kernelspec": {
   "display_name": "Python 3.10.4 64-bit",
   "language": "python",
   "name": "python3"
  },
  "language_info": {
   "codemirror_mode": {
    "name": "ipython",
    "version": 3
   },
   "file_extension": ".py",
   "mimetype": "text/x-python",
   "name": "python",
   "nbconvert_exporter": "python",
   "pygments_lexer": "ipython3",
   "version": "3.10.4"
  },
  "orig_nbformat": 4
 },
 "nbformat": 4,
 "nbformat_minor": 2
}
